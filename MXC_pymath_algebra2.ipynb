{
  "nbformat": 4,
  "nbformat_minor": 0,
  "metadata": {
    "colab": {
      "provenance": [],
      "collapsed_sections": []
    },
    "kernelspec": {
      "name": "python3",
      "display_name": "Python 3"
    },
    "language_info": {
      "name": "python"
    }
  },
  "cells": [
    {
      "cell_type": "code",
      "execution_count": 3,
      "metadata": {
        "id": "PUAzZMwdn09e"
      },
      "outputs": [],
      "source": [
        "import math\n",
        "import numpy as np\n",
        "import sympy as sym\n",
        "import scipy as sp\n",
        "import numpy.lib.scimath as sci\n",
        "import matplotlib.pyplot as plt\n",
        "from IPython.display import display, Math"
      ]
    },
    {
      "cell_type": "code",
      "source": [
        "numbers = [1, 3, 4, 1, 6]\n",
        "print(sum(numbers))\n",
        "print(np.sum(numbers))"
      ],
      "metadata": {
        "colab": {
          "base_uri": "https://localhost:8080/"
        },
        "id": "ywztcLxnrLNJ",
        "outputId": "aa85fbff-ed11-4c5d-8c0e-dddd7dea1190"
      },
      "execution_count": null,
      "outputs": [
        {
          "output_type": "stream",
          "name": "stdout",
          "text": [
            "15\n",
            "15\n"
          ]
        }
      ]
    },
    {
      "cell_type": "code",
      "source": [
        "arr = [[0, 1, 2],\n",
        "       [3, 4, 5]]\n",
        "np.sum(arr, axis=0)"
      ],
      "metadata": {
        "colab": {
          "base_uri": "https://localhost:8080/"
        },
        "id": "an9wW9EBufWi",
        "outputId": "1291e5d5-d1ec-4b05-dee3-5739a0e11073"
      },
      "execution_count": null,
      "outputs": [
        {
          "output_type": "execute_result",
          "data": {
            "text/plain": [
              "array([3, 5, 7])"
            ]
          },
          "metadata": {},
          "execution_count": 3
        }
      ]
    },
    {
      "cell_type": "code",
      "source": [
        "arr = [[1, 1, 2],\n",
        "       [3, 4, 5]]\n",
        "np.sum(arr, axis=1)"
      ],
      "metadata": {
        "colab": {
          "base_uri": "https://localhost:8080/"
        },
        "id": "5WKt9uocufce",
        "outputId": "6137b7c0-7b45-436d-a97b-f8f7232ca36d"
      },
      "execution_count": null,
      "outputs": [
        {
          "output_type": "execute_result",
          "data": {
            "text/plain": [
              "array([ 4, 12])"
            ]
          },
          "metadata": {},
          "execution_count": 4
        }
      ]
    },
    {
      "cell_type": "code",
      "source": [
        "np.prod(numbers)"
      ],
      "metadata": {
        "colab": {
          "base_uri": "https://localhost:8080/"
        },
        "id": "LzA0YiWIrSO4",
        "outputId": "45e018bb-35a1-4082-ec05-4693c41bc957"
      },
      "execution_count": null,
      "outputs": [
        {
          "output_type": "execute_result",
          "data": {
            "text/plain": [
              "72"
            ]
          },
          "metadata": {},
          "execution_count": 5
        }
      ]
    },
    {
      "cell_type": "code",
      "source": [
        "np.prod([[1, 2], [3, 4]], axis=0)"
      ],
      "metadata": {
        "colab": {
          "base_uri": "https://localhost:8080/"
        },
        "id": "4F-TH0uEsylS",
        "outputId": "1dda0658-a1cb-49a6-c98f-3a60077d5ca4"
      },
      "execution_count": null,
      "outputs": [
        {
          "output_type": "execute_result",
          "data": {
            "text/plain": [
              "array([3, 8])"
            ]
          },
          "metadata": {},
          "execution_count": 6
        }
      ]
    },
    {
      "cell_type": "code",
      "source": [
        "np.prod([[1, 2], [3, 4]], axis=1)"
      ],
      "metadata": {
        "colab": {
          "base_uri": "https://localhost:8080/"
        },
        "id": "VedxabSHs46h",
        "outputId": "daa35465-ab4a-4509-be68-13ca4b3a9152"
      },
      "execution_count": null,
      "outputs": [
        {
          "output_type": "execute_result",
          "data": {
            "text/plain": [
              "array([ 2, 12])"
            ]
          },
          "metadata": {},
          "execution_count": 7
        }
      ]
    },
    {
      "cell_type": "code",
      "source": [
        "np.cumsum([1, 3, 4, 1, 6])"
      ],
      "metadata": {
        "colab": {
          "base_uri": "https://localhost:8080/"
        },
        "id": "YfRJJAqyt2o5",
        "outputId": "1e7f2c50-2876-4d68-e0e1-9f9908b4e318"
      },
      "execution_count": null,
      "outputs": [
        {
          "output_type": "execute_result",
          "data": {
            "text/plain": [
              "array([ 1,  4,  8,  9, 15])"
            ]
          },
          "metadata": {},
          "execution_count": 8
        }
      ]
    },
    {
      "cell_type": "code",
      "source": [
        "numbers = [1, 3, 4, 1, 6]\n",
        "plt.plot(numbers, 'rs-', label='list')\n",
        "plt.plot(np.cumsum(numbers), 'bo-', label='cumulative sum')\n",
        "plt.legend()\n",
        "plt.show()"
      ],
      "metadata": {
        "colab": {
          "base_uri": "https://localhost:8080/",
          "height": 265
        },
        "id": "J5eitOPsz-8D",
        "outputId": "2979369c-f1c0-4668-c0cf-c8e785a6e3bf"
      },
      "execution_count": null,
      "outputs": [
        {
          "output_type": "display_data",
          "data": {
            "text/plain": [
              "<Figure size 432x288 with 1 Axes>"
            ],
            "image/png": "[encoded data removed]"
          },
          "metadata": {
            "needs_background": "light"
          }
        }
      ]
    },
    {
      "cell_type": "code",
      "source": [
        "# Exercise (summation)\n",
        "\n",
        "a = np.array([1, 2, 3, 4, 5])\n",
        "\n",
        "part1 = np.sum(a)/np.sum(a**2)\n",
        "part2 = 1/np.sum(a)\n",
        "print(f\"Option 1 = {part1}\")\n",
        "print(f\"Option 2 = {part2}\")\n",
        "assert not (part1 == part2)"
      ],
      "metadata": {
        "colab": {
          "base_uri": "https://localhost:8080/"
        },
        "id": "IqLNxzWW0o2L",
        "outputId": "67e90be1-8579-45ce-93ee-e05383230532"
      },
      "execution_count": null,
      "outputs": [
        {
          "output_type": "stream",
          "name": "stdout",
          "text": [
            "Option 1 = 0.2727272727272727\n",
            "Option 2 = 0.06666666666666667\n"
          ]
        }
      ]
    },
    {
      "cell_type": "code",
      "source": [
        "# Exercise (products)\n",
        "\n",
        "a = np.array([1, 2, 3, 4, 5])\n",
        "\n",
        "part1 = np.prod(a)/np.prod(a**2)\n",
        "part2 = 1/np.prod(a)\n",
        "print(f\"Option 1 = {part1}\")\n",
        "print(f\"Option 2 = {part2}\")\n",
        "assert part1 == part2"
      ],
      "metadata": {
        "colab": {
          "base_uri": "https://localhost:8080/"
        },
        "id": "GMiHsqcC7l18",
        "outputId": "57ff6614-9459-4a3e-b892-db2d8a0bb204"
      },
      "execution_count": null,
      "outputs": [
        {
          "output_type": "stream",
          "name": "stdout",
          "text": [
            "Option 1 = 0.008333333333333333\n",
            "Option 2 = 0.008333333333333333\n"
          ]
        }
      ]
    },
    {
      "cell_type": "code",
      "source": [
        "x = [1, 2, 4]\n",
        "np.diff(x)"
      ],
      "metadata": {
        "id": "hAI9AQrv9ToC",
        "colab": {
          "base_uri": "https://localhost:8080/"
        },
        "outputId": "32860a9c-4144-4971-9f58-14491391c97f"
      },
      "execution_count": null,
      "outputs": [
        {
          "output_type": "execute_result",
          "data": {
            "text/plain": [
              "array([1, 2])"
            ]
          },
          "metadata": {},
          "execution_count": 12
        }
      ]
    },
    {
      "cell_type": "code",
      "source": [
        "x = [1, 3, 4, -4]\n",
        "np.diff(x)"
      ],
      "metadata": {
        "colab": {
          "base_uri": "https://localhost:8080/"
        },
        "id": "Qrf9cmSzGv2Q",
        "outputId": "9a3069e0-cb75-419e-cac5-611bf80a9df1"
      },
      "execution_count": null,
      "outputs": [
        {
          "output_type": "execute_result",
          "data": {
            "text/plain": [
              "array([ 2,  1, -8])"
            ]
          },
          "metadata": {},
          "execution_count": 13
        }
      ]
    },
    {
      "cell_type": "code",
      "source": [
        "v = np.arange(0, 11)\n",
        "print(v)\n",
        "print(np.diff(v))\n",
        "print(np.diff(v, 2))\n",
        "print(np.diff(np.diff(v, 2)))\n",
        "print(np.diff(v, 3))"
      ],
      "metadata": {
        "colab": {
          "base_uri": "https://localhost:8080/"
        },
        "id": "rUR7DHKzI0oo",
        "outputId": "304bfeb8-8807-4e41-c54e-c7bdeb880ffc"
      },
      "execution_count": null,
      "outputs": [
        {
          "output_type": "stream",
          "name": "stdout",
          "text": [
            "[ 0  1  2  3  4  5  6  7  8  9 10]\n",
            "[1 1 1 1 1 1 1 1 1 1]\n",
            "[0 0 0 0 0 0 0 0 0]\n",
            "[0 0 0 0 0 0 0 0]\n",
            "[0 0 0 0 0 0 0 0]\n"
          ]
        }
      ]
    },
    {
      "cell_type": "code",
      "source": [
        "x = np.linspace(-2, 2, 200)\n",
        "fx = x**2\n",
        "df = np.diff(fx)\n",
        "dx = np.diff(x)\n",
        "\n",
        "plt.plot(x, fx)\n",
        "plt.plot(x[:-1], df/dx)\n",
        "\n",
        "plt.grid()\n",
        "plt.legend(['$f(x) = x^2$', '$\\\\frac{df}{dx}$'])\n",
        "plt.axis([-2, 2, -1, 2])\n",
        "plt.show()"
      ],
      "metadata": {
        "colab": {
          "base_uri": "https://localhost:8080/",
          "height": 269
        },
        "id": "QR-giP0HJP7Q",
        "outputId": "6ba826cc-c39a-4c1a-a9ee-e3661970948c"
      },
      "execution_count": null,
      "outputs": [
        {
          "output_type": "display_data",
          "data": {
            "text/plain": [
              "<Figure size 432x288 with 1 Axes>"
            ],
            "image/png": "[encoded data removed]"
          },
          "metadata": {
            "needs_background": "light"
          }
        }
      ]
    },
    {
      "cell_type": "code",
      "source": [
        "# The polynomial\n",
        "# 3x^2 + 2x - 1\n",
        "\n",
        "# Define the coefficients\n",
        "coefs = [3, 2, -1]\n",
        "roots = np.roots(coefs)\n",
        "roots"
      ],
      "metadata": {
        "id": "rKDUZqEqKQkw",
        "colab": {
          "base_uri": "https://localhost:8080/"
        },
        "outputId": "919ca10a-ee90-4196-d8db-74ea6b0274f5"
      },
      "execution_count": null,
      "outputs": [
        {
          "output_type": "execute_result",
          "data": {
            "text/plain": [
              "array([-1.        ,  0.33333333])"
            ]
          },
          "metadata": {},
          "execution_count": 16
        }
      ]
    },
    {
      "cell_type": "code",
      "source": [
        "x = sym.symbols(\"x\")\n",
        "poly = 3*x**2 + 2*x - 1\n",
        "for i in roots:\n",
        "  display(Math('\\\\text{At } x = %g, \\\\quad %s = %s' % (i, sym.latex(poly), poly.subs(x, i))))"
      ],
      "metadata": {
        "colab": {
          "base_uri": "https://localhost:8080/",
          "height": 60
        },
        "id": "taDd2lUeVFyB",
        "outputId": "e65d78b2-4c6b-4ed0-b876-487ce199b482"
      },
      "execution_count": null,
      "outputs": [
        {
          "output_type": "display_data",
          "data": {
            "text/plain": [
              "<IPython.core.display.Math object>"
            ],
            "text/latex": "$$\\text{At } x = -1, \\quad 3 x^{2} + 2 x - 1 = 0$$"
          },
          "metadata": {}
        },
        {
          "output_type": "display_data",
          "data": {
            "text/plain": [
              "<IPython.core.display.Math object>"
            ],
            "text/latex": "$$\\text{At } x = 0.333333, \\quad 3 x^{2} + 2 x - 1 = -5.55111512312578e-17$$"
          },
          "metadata": {}
        }
      ]
    },
    {
      "cell_type": "code",
      "source": [
        "# Exercise - Generate a degree-N polynomial and count the number of roots:\n",
        "\n",
        "for size in range(1, 11):\n",
        "  coefs = np.random.randint(1, 100, size=size)\n",
        "  roots = np.roots(coefs)\n",
        "  degree = len(roots)\n",
        "  print(f\"A degree-{degree} polynomial has {degree} roots\")"
      ],
      "metadata": {
        "colab": {
          "base_uri": "https://localhost:8080/"
        },
        "id": "ZmmZyFCfVgWq",
        "outputId": "ae49b68d-8a24-4b88-df99-db158093fd34"
      },
      "execution_count": null,
      "outputs": [
        {
          "output_type": "stream",
          "name": "stdout",
          "text": [
            "A degree-0 polynomial has 0 roots\n",
            "A degree-1 polynomial has 1 roots\n",
            "A degree-2 polynomial has 2 roots\n",
            "A degree-3 polynomial has 3 roots\n",
            "A degree-4 polynomial has 4 roots\n",
            "A degree-5 polynomial has 5 roots\n",
            "A degree-6 polynomial has 6 roots\n",
            "A degree-7 polynomial has 7 roots\n",
            "A degree-8 polynomial has 8 roots\n",
            "A degree-9 polynomial has 9 roots\n"
          ]
        }
      ]
    },
    {
      "cell_type": "code",
      "source": [
        "# Quadratic equation: ax^2 + b + c = 0\n",
        "a = 2\n",
        "b = 7\n",
        "c = 5\n",
        "\n",
        "#Quadratic equation formula (or Bhaskara formula)\n",
        "quad_equation_plus = (-b + np.sqrt(b**2 - 4*a*c))/(2*a)\n",
        "quad_equation_minus = (-b - np.sqrt(b**2 - 4*a*c))/(2*a)\n",
        "\n",
        "print(quad_equation_plus, quad_equation_minus)\n",
        "\n",
        "# Test\n",
        "\n",
        "x1 = quad_equation_plus\n",
        "print((a*(x1)**2 + b*x1 + c) == 0)\n",
        "\n",
        "x2 = quad_equation_minus\n",
        "print((a*(x2)**2 + b*x2 + c) == 0)"
      ],
      "metadata": {
        "colab": {
          "base_uri": "https://localhost:8080/"
        },
        "id": "s2Dxj9qVXypB",
        "outputId": "bf4dfd01-f898-47de-ba35-6007f07ba3a6"
      },
      "execution_count": null,
      "outputs": [
        {
          "output_type": "stream",
          "name": "stdout",
          "text": [
            "-1.0 -2.5\n",
            "True\n",
            "True\n"
          ]
        }
      ]
    },
    {
      "cell_type": "code",
      "source": [
        "# numpy can't deal with precise calculations\n",
        "a = 3\n",
        "b = 7\n",
        "c = 5\n",
        "\n",
        "quad_equation_plus = (-b + np.sqrt(b**2 - 4*a*c))/(2*a)\n",
        "quad_equation_minus = (-b - np.sqrt(b**2 - 4*a*c))/(2*a)\n",
        "\n",
        "print(quad_equation_plus, quad_equation_minus)"
      ],
      "metadata": {
        "colab": {
          "base_uri": "https://localhost:8080/"
        },
        "id": "esm5Fb3kcW7a",
        "outputId": "c606c5c7-90f1-4280-ff0a-7f66c3d0faa0"
      },
      "execution_count": null,
      "outputs": [
        {
          "output_type": "stream",
          "name": "stdout",
          "text": [
            "nan nan\n"
          ]
        },
        {
          "output_type": "stream",
          "name": "stderr",
          "text": [
            "/usr/local/lib/python3.7/dist-packages/ipykernel_launcher.py:6: RuntimeWarning: invalid value encountered in sqrt\n",
            "  \n",
            "/usr/local/lib/python3.7/dist-packages/ipykernel_launcher.py:7: RuntimeWarning: invalid value encountered in sqrt\n",
            "  import sys\n"
          ]
        }
      ]
    },
    {
      "cell_type": "code",
      "source": [
        "# numpy can't deal with precise calculations\n",
        "a = 3\n",
        "b = 7\n",
        "c = 5\n",
        "\n",
        "quad_equation_plus = (-b + sci.sqrt(b**2 - 4*a*c))/(2*a)\n",
        "quad_equation_minus = (-b - sci.sqrt(b**2 - 4*a*c))/(2*a)\n",
        "\n",
        "print(quad_equation_plus, quad_equation_minus)"
      ],
      "metadata": {
        "colab": {
          "base_uri": "https://localhost:8080/"
        },
        "id": "SN9qPkf0eZkw",
        "outputId": "954a74f8-bc19-481b-d1f5-9fab5b0c63fc"
      },
      "execution_count": null,
      "outputs": [
        {
          "output_type": "stream",
          "name": "stdout",
          "text": [
            "(-1.1666666666666665+0.5527707983925666j) (-1.1666666666666665-0.5527707983925666j)\n"
          ]
        }
      ]
    },
    {
      "cell_type": "code",
      "source": [
        "def quadratic_equation(a, b, c):\n",
        "  part1 = sci.sqrt(b**2 - 4*a*c)\n",
        "  part2 = (2*a)\n",
        "  quad_equation_plus = (-b + part1)/part2\n",
        "  quad_equation_minus = (-b - part1)/part2\n",
        "  return np.array((quad_equation_plus, quad_equation_minus))\n",
        "\n",
        "print(quadratic_equation(2, 7, 5))\n",
        "print(quadratic_equation(3, 7, 5))"
      ],
      "metadata": {
        "colab": {
          "base_uri": "https://localhost:8080/"
        },
        "id": "4Mfm1loxel9S",
        "outputId": "0f5a5d87-84a1-4325-8369-8a5d1183d8b4"
      },
      "execution_count": null,
      "outputs": [
        {
          "output_type": "stream",
          "name": "stdout",
          "text": [
            "[-1.  -2.5]\n",
            "[-1.16666667+0.5527708j -1.16666667-0.5527708j]\n"
          ]
        }
      ]
    },
    {
      "cell_type": "code",
      "source": [
        "# Exercise\n",
        "\n",
        "a = 1\n",
        "b = np.arange(-5, 6)\n",
        "c = np.arange(-2, 11)\n",
        "matrix = np.zeros((len(b), len(c)), dtype=complex)\n",
        "\n",
        "for i in range(matrix.shape[0]):\n",
        "  for j in range(matrix.shape[1]):\n",
        "    matrix[i, j] = quadratic_equation(a, b[i], c[j])[1]\n",
        "\n",
        "fig, ax = plt.subplots()\n",
        "ax.set_title(\"a = \" + str(a))\n",
        "plt.imshow(np.real(matrix), extent=[c[0], c[-1], b[0], b[-1]])\n",
        "plt.xlabel('c')\n",
        "plt.ylabel('b')\n",
        "plt.colorbar()\n",
        "plt.show()"
      ],
      "metadata": {
        "id": "AHhFxlPPgmh6",
        "colab": {
          "base_uri": "https://localhost:8080/",
          "height": 295
        },
        "outputId": "0a2cfd3f-bec9-4d1b-fd43-499bd2aee010"
      },
      "execution_count": null,
      "outputs": [
        {
          "output_type": "display_data",
          "data": {
            "text/plain": [
              "<Figure size 432x288 with 2 Axes>"
            ],
            "image/png": "[encoded data removed]"
          },
          "metadata": {
            "needs_background": "light"
          }
        }
      ]
    },
    {
      "cell_type": "code",
      "source": [
        "plt.subplot(1, 3, 1)\n",
        "plt.imshow(np.real(matrix), extent=[c[0], c[-1], b[0], b[-1]])\n",
        "plt.axis('off')\n",
        "plt.title('Real part')\n",
        "\n",
        "plt.subplot(1, 3, 2)\n",
        "plt.imshow(np.imag(matrix), extent=[c[0], c[-1], b[0], b[-1]])\n",
        "plt.axis('off')\n",
        "plt.title('Imag part')\n",
        "\n",
        "plt.subplot(1, 3, 3)\n",
        "plt.imshow(np.absolute(matrix), extent=[c[0], c[-1], b[0], b[-1]])\n",
        "plt.axis('off')\n",
        "plt.title('Magnitude')\n",
        "\n",
        "plt.show()"
      ],
      "metadata": {
        "colab": {
          "base_uri": "https://localhost:8080/",
          "height": 129
        },
        "id": "KsnWBsuZN7Rp",
        "outputId": "4ebb334c-7f44-479a-e2c4-4f323ecf1b30"
      },
      "execution_count": null,
      "outputs": [
        {
          "output_type": "display_data",
          "data": {
            "text/plain": [
              "<Figure size 432x288 with 3 Axes>"
            ],
            "image/png": "[encoded data removed]"
          },
          "metadata": {
            "needs_background": "light"
          }
        }
      ]
    },
    {
      "cell_type": "code",
      "source": [
        "print(1j)\n",
        "print(np.sqrt(-1)) # can't\n",
        "print(np.sqrt(-1, dtype='complex'))\n",
        "print((-1)**(1/2))\n",
        "print(sym.I)"
      ],
      "metadata": {
        "id": "rsABD9lNJ2fZ",
        "colab": {
          "base_uri": "https://localhost:8080/"
        },
        "outputId": "de46bec5-acc9-472c-bea3-604edea397e4"
      },
      "execution_count": null,
      "outputs": [
        {
          "output_type": "stream",
          "name": "stdout",
          "text": [
            "1j\n",
            "nan\n",
            "1j\n",
            "(6.123233995736766e-17+1j)\n",
            "I\n"
          ]
        },
        {
          "output_type": "stream",
          "name": "stderr",
          "text": [
            "/usr/local/lib/python3.7/dist-packages/ipykernel_launcher.py:2: RuntimeWarning: invalid value encountered in sqrt\n",
            "  \n"
          ]
        }
      ]
    },
    {
      "cell_type": "code",
      "source": [
        "real_part = 4\n",
        "imag_part = -5\n",
        "\n",
        "cn1 = complex(real_part, imag_part)\n",
        "cn2 = real_part + 1j*imag_part\n",
        "\n",
        "print(type(cn1))\n",
        "print(type(cn2))"
      ],
      "metadata": {
        "colab": {
          "base_uri": "https://localhost:8080/"
        },
        "id": "6tohA1aHFVSw",
        "outputId": "5d16c655-1e10-4ee0-e0ce-b88335888be7"
      },
      "execution_count": null,
      "outputs": [
        {
          "output_type": "stream",
          "name": "stdout",
          "text": [
            "<class 'complex'>\n",
            "<class 'complex'>\n"
          ]
        }
      ]
    },
    {
      "cell_type": "code",
      "source": [
        "z1 = complex(4, 5)\n",
        "z2 = complex(3, 2)\n",
        "\n",
        "print(z1-z2)\n",
        "print(np.real(z1))\n",
        "print(np.imag(z1))"
      ],
      "metadata": {
        "colab": {
          "base_uri": "https://localhost:8080/"
        },
        "id": "JB6R62-LF6F2",
        "outputId": "7ebf5186-399f-4cc5-bfd6-604a6b0379d0"
      },
      "execution_count": null,
      "outputs": [
        {
          "output_type": "stream",
          "name": "stdout",
          "text": [
            "(1+3j)\n",
            "4.0\n",
            "5.0\n"
          ]
        }
      ]
    },
    {
      "cell_type": "code",
      "source": [
        "# Exercise \n",
        "# For w = 2 4i and z = 5 6i\n",
        "# Show that w+z = complex(re(w)+re(z), im(w)+im(z))\n",
        "\n",
        "w = 2*4j\n",
        "z = 5*6j\n",
        "w+z == complex(np.real(w)+np.real(z), np.imag(w)+np.imag(z))"
      ],
      "metadata": {
        "colab": {
          "base_uri": "https://localhost:8080/"
        },
        "id": "jXY54ztSGBWF",
        "outputId": "81371f6c-c629-407e-ff93-50d9c8157d97"
      },
      "execution_count": null,
      "outputs": [
        {
          "output_type": "execute_result",
          "data": {
            "text/plain": [
              "True"
            ]
          },
          "metadata": {},
          "execution_count": 27
        }
      ]
    },
    {
      "cell_type": "code",
      "source": [
        "w = complex(2, 4)\n",
        "z = complex(5, 6)\n",
        "real_sum = np.real(w)+np.real(z)\n",
        "imag_sum = np.imag(w)+np.imag(z)\n",
        "w+z == complex(real_sum, imag_sum)"
      ],
      "metadata": {
        "colab": {
          "base_uri": "https://localhost:8080/"
        },
        "id": "YjyiV0NRGiOf",
        "outputId": "f7d02193-96f2-43bc-fc86-754ba32e93c2"
      },
      "execution_count": null,
      "outputs": [
        {
          "output_type": "execute_result",
          "data": {
            "text/plain": [
              "True"
            ]
          },
          "metadata": {},
          "execution_count": 28
        }
      ]
    },
    {
      "cell_type": "code",
      "source": [
        "z1 = complex(4, 5)\n",
        "z2 = complex(6, -2)\n",
        "\n",
        "w = np.real(z1)*np.real(z2) + np.real(z1)*np.imag(z2)*1j + np.imag(z1)*1j*np.real(z2) + np.imag(z1)*1j*np.imag(z2)*1j\n",
        "print(w)\n",
        "print(z1*z2)\n",
        "print(sym.sympify(z1*z2))"
      ],
      "metadata": {
        "id": "zXrjD2eYG4O_",
        "colab": {
          "base_uri": "https://localhost:8080/"
        },
        "outputId": "30274136-97c1-4877-ceea-f21ad5f1e49d"
      },
      "execution_count": null,
      "outputs": [
        {
          "output_type": "stream",
          "name": "stdout",
          "text": [
            "(34+22j)\n",
            "(34+22j)\n",
            "34.0 + 22.0*I\n"
          ]
        }
      ]
    },
    {
      "cell_type": "code",
      "source": [
        "print(np.conj(z1))\n",
        "print(np.conj(z2))\n",
        "print(z1*np.conj(z1))\n",
        "print(np.real(z1)**2 + np.imag(z1)**2)"
      ],
      "metadata": {
        "colab": {
          "base_uri": "https://localhost:8080/"
        },
        "id": "H_SZpggcCJGg",
        "outputId": "f90ed895-7b3d-4045-cfb3-6543bcf42ba7"
      },
      "execution_count": null,
      "outputs": [
        {
          "output_type": "stream",
          "name": "stdout",
          "text": [
            "(4-5j)\n",
            "(6+2j)\n",
            "(41+0j)\n",
            "41.0\n"
          ]
        }
      ]
    },
    {
      "cell_type": "code",
      "source": [
        "# Exercise - Use sympy to show that: z*conjugate(z) = a^2 + b^2\n",
        "\n",
        "a, b = sym.symbols(\"a,b\", real=True)\n",
        "z = a + b*sym.I\n",
        "display(Math('z\\\\times z^* = %s' % sym.latex(sym.expand(z*sym.conjugate(z)))))"
      ],
      "metadata": {
        "colab": {
          "base_uri": "https://localhost:8080/",
          "height": 38
        },
        "id": "rnQoDIfsC-BI",
        "outputId": "1713a7e9-11bd-47b5-c1bf-f0ca0e623c12"
      },
      "execution_count": null,
      "outputs": [
        {
          "output_type": "display_data",
          "data": {
            "text/plain": [
              "<IPython.core.display.Math object>"
            ],
            "text/latex": "$$z\\times z^* = a^{2} + b^{2}$$"
          },
          "metadata": {}
        }
      ]
    },
    {
      "cell_type": "code",
      "source": [
        "z = complex(4, 2)\n",
        "display(Math('\\\\frac{%s}{2} = %s' % (z, z/2)))"
      ],
      "metadata": {
        "colab": {
          "base_uri": "https://localhost:8080/",
          "height": 40
        },
        "id": "oxsa6zynEb4o",
        "outputId": "b844abcf-a6ff-4530-cf92-81e4ba03db0b"
      },
      "execution_count": null,
      "outputs": [
        {
          "output_type": "display_data",
          "data": {
            "text/plain": [
              "<IPython.core.display.Math object>"
            ],
            "text/latex": "$$\\frac{(4+2j)}{2} = (2+1j)$$"
          },
          "metadata": {}
        }
      ]
    },
    {
      "cell_type": "code",
      "source": [
        "z1 = complex(4, 2)\n",
        "z2 = complex(2, -3)\n",
        "\n",
        "z2_conj = np.conj(z2)\n",
        "display(Math('\\\\frac{%s}{%s} = \\\\frac{%s \\\\times %s}{%s \\\\times %s} = %s' \\\n",
        "             % (z1, z2, \\\n",
        "                z1, z2_conj, z2, z2_conj, \\\n",
        "                z1/z2)))"
      ],
      "metadata": {
        "colab": {
          "base_uri": "https://localhost:8080/",
          "height": 43
        },
        "id": "6On6YNS6L-Gx",
        "outputId": "3c07e0d6-d8a0-4c6f-d85f-907391aed2b7"
      },
      "execution_count": null,
      "outputs": [
        {
          "output_type": "display_data",
          "data": {
            "text/plain": [
              "<IPython.core.display.Math object>"
            ],
            "text/latex": "$$\\frac{(4+2j)}{(2-3j)} = \\frac{(4+2j) \\times (2+3j)}{(2-3j) \\times (2+3j)} = (0.15384615384615383+1.2307692307692308j)$$"
          },
          "metadata": {}
        }
      ]
    },
    {
      "cell_type": "code",
      "source": [
        "# Exercise\n",
        "\n",
        "z = complex(4, 2) #4 2i\n",
        "w = complex(3, 5) #3 5i\n",
        "\n",
        "result = (((z - 1)*(z*w + w))/(w*z - w)) * (((w - 1) * (1 - w))/(-z*w**2 - w**2 + 2*w*z + 2*w - z - 1))\n",
        "print(result)"
      ],
      "metadata": {
        "id": "5LWAgW3GMMKw",
        "colab": {
          "base_uri": "https://localhost:8080/"
        },
        "outputId": "0245ef70-f518-4add-ad36-38327e429621"
      },
      "execution_count": null,
      "outputs": [
        {
          "output_type": "stream",
          "name": "stdout",
          "text": [
            "(1+0j)\n"
          ]
        }
      ]
    },
    {
      "cell_type": "code",
      "source": [
        "z = complex(4, 2) #4 2i\n",
        "w = complex(3, 5) #3 5i\n",
        "\n",
        "left_numerator = (z-1) * (z*w+w)\n",
        "left_denominator = w*z - w\n",
        "left_part = left_numerator / left_denominator\n",
        "\n",
        "right_numerator = (w-1) * (1-w)\n",
        "right_denominator = -w**2*z - w**2 + 2*w*z + 2*w - z - 1\n",
        "right_part = right_numerator / right_denominator\n",
        "\n",
        "solution = left_part * right_part\n",
        "print(solution)"
      ],
      "metadata": {
        "colab": {
          "base_uri": "https://localhost:8080/"
        },
        "id": "ONTXs59MCKGa",
        "outputId": "2da50a3c-023f-44e7-f392-848040854686"
      },
      "execution_count": null,
      "outputs": [
        {
          "output_type": "stream",
          "name": "stdout",
          "text": [
            "(1+0j)\n"
          ]
        }
      ]
    },
    {
      "cell_type": "code",
      "source": [
        "z = complex(2, 3)\n",
        "\n",
        "plt.plot(np.real(z), np.imag(z), 'ro')\n",
        "plt.plot([0, np.real(z)], [0, np.imag(z)], 'r')\n",
        "plt.plot([-4, 4], [0, 0], 'k')\n",
        "plt.plot([0, 0], [-4, 4], 'k')\n",
        "plt.xlabel('real')\n",
        "plt.ylabel('imaginary')\n",
        "plt.grid()\n",
        "plt.axis([-4, 4, -4, 4])\n",
        "plt.show()"
      ],
      "metadata": {
        "colab": {
          "base_uri": "https://localhost:8080/",
          "height": 283
        },
        "id": "KVF7G5tiCnA5",
        "outputId": "2ee92ca1-151a-45e3-eab9-2087dfaee133"
      },
      "execution_count": null,
      "outputs": [
        {
          "output_type": "display_data",
          "data": {
            "text/plain": [
              "<Figure size 432x288 with 1 Axes>"
            ],
            "image/png": "[encoded data removed]"
          },
          "metadata": {
            "needs_background": "light"
          }
        }
      ]
    },
    {
      "cell_type": "code",
      "source": [
        "z1 = complex(-3, 1)\n",
        "z2 = complex(-1, 1)\n",
        "z1_z2 = z1+z2\n",
        "z1_x_z2 = z1*z2\n",
        "\n",
        "fig, (ax1, ax2) = plt.subplots(1, 2, figsize=(10, 5))\n",
        "ax1.plot([0, np.real(z1)], [0, np.imag(z1)], 'b', label='z1')\n",
        "ax1.plot([0, np.real(z2)], [0, np.imag(z2)], 'y', label='z2')\n",
        "ax1.plot([0, np.real(z1_z2)], [0, np.imag(z1_z2)], 'g', label='z1 + z2')\n",
        "ax1.axis('square')\n",
        "ax1.axis([-4.5, 4.5, -4.5, 4.5])\n",
        "ax1.set_xlabel('Real')\n",
        "ax1.set_ylabel('Imag')\n",
        "ax1.legend()\n",
        "ax1.grid()\n",
        "\n",
        "ax2.plot([0, np.real(z1)], [0, np.imag(z1)], 'b', label='z1')\n",
        "ax2.plot([0, np.real(z2)], [0, np.imag(z2)], 'y', label='z2')\n",
        "ax2.plot([0, np.real(z1_x_z2)], [0, np.imag(z1_x_z2)], 'g', label='z1 x z2')\n",
        "ax2.axis('square')\n",
        "ax2.axis([-4.5, 4.5, -4.5, 4.5])\n",
        "ax2.set_xlabel('Real')\n",
        "ax2.set_ylabel('Imag')\n",
        "ax2.legend()\n",
        "ax2.grid()\n",
        "\n",
        "plt.show()"
      ],
      "metadata": {
        "colab": {
          "base_uri": "https://localhost:8080/",
          "height": 316
        },
        "id": "RCGcPujiHCjC",
        "outputId": "19117635-ae60-4675-8bc4-59bcf8dee9c5"
      },
      "execution_count": null,
      "outputs": [
        {
          "output_type": "display_data",
          "data": {
            "text/plain": [
              "<Figure size 720x360 with 2 Axes>"
            ],
            "image/png": "[encoded data removed]"
          },
          "metadata": {
            "needs_background": "light"
          }
        }
      ]
    },
    {
      "cell_type": "code",
      "source": [
        "x = np.linspace(0, 2*np.pi, 100)\n",
        "\n",
        "plt.plot(np.cos(x), np.sin(x), 'k')\n",
        "plt.plot([-1.1, 1.1], [0, 0], 'b--')\n",
        "plt.plot([0, 0], [-1.1, 1.1], 'b--')\n",
        "\n",
        "plt.axis('square')\n",
        "plt.axis([-1.1, 1.1, -1.1, 1.1])\n",
        "plt.xlabel('cosine(x)')\n",
        "plt.ylabel('sine(x)')\n",
        "\n",
        "plt.show()"
      ],
      "metadata": {
        "id": "uIHvFPBWIT3Z",
        "colab": {
          "base_uri": "https://localhost:8080/",
          "height": 279
        },
        "outputId": "da1ac2ee-b168-467e-cf78-16b61cd675e2"
      },
      "execution_count": null,
      "outputs": [
        {
          "output_type": "display_data",
          "data": {
            "text/plain": [
              "<Figure size 432x288 with 1 Axes>"
            ],
            "image/png": "[encoded data removed]"
          },
          "metadata": {
            "needs_background": "light"
          }
        }
      ]
    },
    {
      "cell_type": "code",
      "source": [
        "# Exercise\n",
        "\n",
        "origin = np.zeros(50)\n",
        "x = np.linspace(-3, 1.83, len(origin))\n",
        "k = np.exp(x)\n",
        "\n",
        "plt.plot([origin, np.cos(k)], [origin, np.sin(k)])\n",
        "\n",
        "plt.axis('off')\n",
        "plt.axis('square')\n",
        "plt.show()"
      ],
      "metadata": {
        "colab": {
          "base_uri": "https://localhost:8080/",
          "height": 248
        },
        "id": "uLzY1qslrhEx",
        "outputId": "23e82ece-43a0-42c1-bb3a-b5263da75162"
      },
      "execution_count": null,
      "outputs": [
        {
          "output_type": "display_data",
          "data": {
            "text/plain": [
              "<Figure size 432x288 with 1 Axes>"
            ],
            "image/png": "[encoded data removed]"
          },
          "metadata": {
            "needs_background": "light"
          }
        }
      ]
    },
    {
      "cell_type": "code",
      "source": [
        "x = np.linspace(-3, 3, 100)\n",
        "x = x[x != 0]\n",
        "\n",
        "plt.plot(x, np.exp(x))\n",
        "plt.xlabel('x')\n",
        "plt.ylabel('$e^x$')\n",
        "plt.show()\n",
        "\n",
        "plt.plot(x, np.log(x))\n",
        "plt.xlabel('x')\n",
        "plt.ylabel('$log(x)$')\n",
        "plt.show()"
      ],
      "metadata": {
        "colab": {
          "base_uri": "https://localhost:8080/",
          "height": 596
        },
        "id": "pngje71GyPIP",
        "outputId": "716e14cc-22d7-4634-bf9d-1309855b8dad"
      },
      "execution_count": null,
      "outputs": [
        {
          "output_type": "display_data",
          "data": {
            "text/plain": [
              "<Figure size 432x288 with 1 Axes>"
            ],
            "image/png": "[encoded data removed]"
          },
          "metadata": {
            "needs_background": "light"
          }
        },
        {
          "output_type": "stream",
          "name": "stderr",
          "text": [
            "/usr/local/lib/python3.7/dist-packages/ipykernel_launcher.py:9: RuntimeWarning: invalid value encountered in log\n",
            "  if __name__ == '__main__':\n"
          ]
        },
        {
          "output_type": "display_data",
          "data": {
            "text/plain": [
              "<Figure size 432x288 with 1 Axes>"
            ],
            "image/png": "[encoded data removed]"
          },
          "metadata": {
            "needs_background": "light"
          }
        }
      ]
    },
    {
      "cell_type": "code",
      "source": [
        "x = np.linspace(.0001, 10, 10)\n",
        "y1 = np.log(np.exp(x))\n",
        "y2 = np.exp(np.log(x))\n",
        "\n",
        "plt.plot(x, y1, label='$log(e^x)$')\n",
        "plt.plot(x, y2, 'o', label='$e^{\\\\log(x)}$')\n",
        "\n",
        "plt.axis('square')\n",
        "plt.legend()\n",
        "plt.show()"
      ],
      "metadata": {
        "colab": {
          "base_uri": "https://localhost:8080/",
          "height": 265
        },
        "id": "qPnrtGUn2k8S",
        "outputId": "e2e5f8ab-15c6-4051-84ad-7638cab94039"
      },
      "execution_count": null,
      "outputs": [
        {
          "output_type": "display_data",
          "data": {
            "text/plain": [
              "<Figure size 432x288 with 1 Axes>"
            ],
            "image/png": "[encoded data removed]"
          },
          "metadata": {
            "needs_background": "light"
          }
        }
      ]
    },
    {
      "cell_type": "code",
      "source": [
        "# gaussian\n",
        "\n",
        "h = .999\n",
        "t = np.linspace(-3, 3, 1001)\n",
        "g = np.exp(-4*np.log(2)*t**2 / h**2)\n",
        "\n",
        "# plot\n",
        "\n",
        "y_val_2_find = .5\n",
        "t_vals = h*np.sqrt(np.log(y_val_2_find) / (-4*np.log(2)))\n",
        "h_plus_minus = (t_vals, -t_vals)\n",
        "\n",
        "plt.plot(t, g)\n",
        "\n",
        "# superior points\n",
        "plt.plot([h_plus_minus[0], h_plus_minus[1]], [y_val_2_find]*2, 'bo')\n",
        "# superior horizontal line\n",
        "plt.plot([h_plus_minus[0], h_plus_minus[1]], [y_val_2_find]*2, 'b--')\n",
        "# inferior horizontal line\n",
        "plt.plot([h_plus_minus[0], h_plus_minus[1]], [0]*2, 'b--')\n",
        "# right vertical line\n",
        "plt.plot([h_plus_minus[0], h_plus_minus[0]], [0, y_val_2_find], 'b--')\n",
        "# left vertical line\n",
        "plt.plot([h_plus_minus[1], h_plus_minus[1]], [0, y_val_2_find], 'b--')\n",
        "\n",
        "plt.xlabel('t')\n",
        "plt.ylabel('y')\n",
        "plt.title('Gaussian with FWHM (Full width at half maximum) = ' + str(h))\n",
        "plt.show()"
      ],
      "metadata": {
        "id": "C0IvnYDS33XK",
        "colab": {
          "base_uri": "https://localhost:8080/",
          "height": 312
        },
        "outputId": "21532a97-533c-4e71-ea1c-8e4b027aa29c"
      },
      "execution_count": null,
      "outputs": [
        {
          "output_type": "stream",
          "name": "stdout",
          "text": [
            "(0.4995, -0.4995)\n"
          ]
        },
        {
          "output_type": "display_data",
          "data": {
            "text/plain": [
              "<Figure size 432x288 with 1 Axes>"
            ],
            "image/png": "[encoded data removed]"
          },
          "metadata": {
            "needs_background": "light"
          }
        }
      ]
    },
    {
      "cell_type": "code",
      "source": [
        "# gaussian\n",
        "\n",
        "t = np.linspace(-3, 3, 1001)\n",
        "N = 100\n",
        "G = np.zeros((N, len(t)))\n",
        "h = np.zeros(N)\n",
        "\n",
        "for i in range(N):\n",
        "    h[i] = (i+1)/N\n",
        "    G[i,:] = np.exp(-4*np.log(2)*t**2 / h[i]**2)\n",
        "\n",
        "plt.xlabel('t')\n",
        "plt.ylabel('h')\n",
        "\n",
        "plt.pcolormesh(t, h, G)\n",
        "plt.show()"
      ],
      "metadata": {
        "colab": {
          "base_uri": "https://localhost:8080/",
          "height": 283
        },
        "id": "5dQG9G_aWSfl",
        "outputId": "ae7c8db1-f917-413e-d957-fe1bf19bc933"
      },
      "execution_count": null,
      "outputs": [
        {
          "output_type": "display_data",
          "data": {
            "text/plain": [
              "<Figure size 432x288 with 1 Axes>"
            ],
            "image/png": "[encoded data removed]"
          },
          "metadata": {
            "needs_background": "light"
          }
        }
      ]
    },
    {
      "cell_type": "code",
      "source": [
        "n = 4\n",
        "\n",
        "for k in range(0, n):\n",
        "  z = sym.exp(2*sym.pi * sym.I * k/n)\n",
        "  display(Math('(%s)^{%s} \\\\Rightarrow %s' % (sym.latex(z), n, sym.latex(z**n))))"
      ],
      "metadata": {
        "id": "X7VEKdTWFOkk",
        "colab": {
          "base_uri": "https://localhost:8080/",
          "height": 100
        },
        "outputId": "cc6ea719-1f74-4feb-c719-cbfe9612976f"
      },
      "execution_count": null,
      "outputs": [
        {
          "output_type": "display_data",
          "data": {
            "text/plain": [
              "<IPython.core.display.Math object>"
            ],
            "text/latex": "$$(1)^{4} \\Rightarrow 1$$"
          },
          "metadata": {}
        },
        {
          "output_type": "display_data",
          "data": {
            "text/plain": [
              "<IPython.core.display.Math object>"
            ],
            "text/latex": "$$(i)^{4} \\Rightarrow 1$$"
          },
          "metadata": {}
        },
        {
          "output_type": "display_data",
          "data": {
            "text/plain": [
              "<IPython.core.display.Math object>"
            ],
            "text/latex": "$$(-1)^{4} \\Rightarrow 1$$"
          },
          "metadata": {}
        },
        {
          "output_type": "display_data",
          "data": {
            "text/plain": [
              "<IPython.core.display.Math object>"
            ],
            "text/latex": "$$(- i)^{4} \\Rightarrow 1$$"
          },
          "metadata": {}
        }
      ]
    },
    {
      "cell_type": "code",
      "source": [
        "n = 7\n",
        "\n",
        "for k in range(0, n):\n",
        "  z = np.exp(2*np.pi * 1j * k/n)\n",
        "  plt.plot([0, np.real(z)], [0, np.imag(z)])\n",
        "\n",
        "x = np.linspace(0, 2*np.pi, 100)\n",
        "plt.plot(np.cos(x), np.sin(x), color='gray')\n",
        "\n",
        "plt.axis('square')\n",
        "plt.show()"
      ],
      "metadata": {
        "colab": {
          "base_uri": "https://localhost:8080/",
          "height": 265
        },
        "id": "M4WbjdNWBzdS",
        "outputId": "b81c7e58-70a6-4c2e-dc84-38f68c6a30df"
      },
      "execution_count": null,
      "outputs": [
        {
          "output_type": "display_data",
          "data": {
            "text/plain": [
              "<Figure size 432x288 with 1 Axes>"
            ],
            "image/png": "[encoded data removed]"
          },
          "metadata": {
            "needs_background": "light"
          }
        }
      ]
    },
    {
      "cell_type": "code",
      "source": [
        "n = 500\n",
        "\n",
        "i = 2\n",
        "for k in range(0, n):\n",
        "  z = np.exp(2*np.pi * 1j * k/n) + k/n\n",
        "  color = 'white' if k % 2 == 0 else 'black' \n",
        "  plt.plot([0, np.real(z)], [0, np.imag(z)], color=color, linewidth=2)\n",
        "\n",
        "plt.axis('square')\n",
        "plt.axis('off')\n",
        "plt.show()"
      ],
      "metadata": {
        "colab": {
          "base_uri": "https://localhost:8080/",
          "height": 248
        },
        "id": "OUxipEYmEuCp",
        "outputId": "b4c2a1ef-922d-4b6c-b4b0-29ff200a8dd8"
      },
      "execution_count": null,
      "outputs": [
        {
          "output_type": "display_data",
          "data": {
            "text/plain": [
              "<Figure size 432x288 with 1 Axes>"
            ],
            "image/png": "[encoded data removed]"
          },
          "metadata": {
            "needs_background": "light"
          }
        }
      ]
    },
    {
      "cell_type": "code",
      "source": [
        "n = 500\n",
        "color_range = np.linspace(0, .7, n)\n",
        "\n",
        "for k in range(0, n):\n",
        "  z = k*np.exp((k * 2*np.pi * 1j)/n)\n",
        "  color = color_range[k]\n",
        "  plt.plot([0, np.real(z)], [0, np.imag(z)], linewidth=2, color=[color, color, color])\n",
        "\n",
        "plt.axis('square')\n",
        "plt.axis('off')\n",
        "plt.show()"
      ],
      "metadata": {
        "colab": {
          "base_uri": "https://localhost:8080/",
          "height": 248
        },
        "id": "X6nOC3fIGW33",
        "outputId": "03f88ae1-6781-447c-a7d1-fc8d8a54e2a1"
      },
      "execution_count": null,
      "outputs": [
        {
          "output_type": "display_data",
          "data": {
            "text/plain": [
              "<Figure size 432x288 with 1 Axes>"
            ],
            "image/png": "[encoded data removed]"
          },
          "metadata": {
            "needs_background": "light"
          }
        }
      ]
    },
    {
      "cell_type": "code",
      "source": [
        "np.linspace(1, 2, 10)"
      ],
      "metadata": {
        "colab": {
          "base_uri": "https://localhost:8080/"
        },
        "id": "63sdrYO8IiXP",
        "outputId": "45a32ade-a5aa-4857-a512-9306bb27421e"
      },
      "execution_count": null,
      "outputs": [
        {
          "output_type": "execute_result",
          "data": {
            "text/plain": [
              "array([1.        , 1.11111111, 1.22222222, 1.33333333, 1.44444444,\n",
              "       1.55555556, 1.66666667, 1.77777778, 1.88888889, 2.        ])"
            ]
          },
          "metadata": {},
          "execution_count": 80
        }
      ]
    },
    {
      "cell_type": "code",
      "source": [
        "np.logspace(1, 2, 10)"
      ],
      "metadata": {
        "colab": {
          "base_uri": "https://localhost:8080/"
        },
        "id": "_QAZUDKZLcQw",
        "outputId": "3a8adede-232a-4ff8-e8d0-06bb00360632"
      },
      "execution_count": null,
      "outputs": [
        {
          "output_type": "execute_result",
          "data": {
            "text/plain": [
              "array([ 10.        ,  12.91549665,  16.68100537,  21.5443469 ,\n",
              "        27.82559402,  35.93813664,  46.41588834,  59.94842503,\n",
              "        77.42636827, 100.        ])"
            ]
          },
          "metadata": {},
          "execution_count": 81
        }
      ]
    },
    {
      "cell_type": "code",
      "source": [
        "a = np.log10(1)\n",
        "b = np.log10(2)\n",
        "np.logspace(a, b, 10)"
      ],
      "metadata": {
        "colab": {
          "base_uri": "https://localhost:8080/"
        },
        "id": "T6jEbWCfi4HH",
        "outputId": "53656933-fb30-4863-e7de-e42a461eaef3"
      },
      "execution_count": null,
      "outputs": [
        {
          "output_type": "execute_result",
          "data": {
            "text/plain": [
              "array([1.        , 1.08005974, 1.16652904, 1.25992105, 1.36079   ,\n",
              "       1.46973449, 1.58740105, 1.71448797, 1.85174942, 2.        ])"
            ]
          },
          "metadata": {},
          "execution_count": 2
        }
      ]
    },
    {
      "cell_type": "code",
      "source": [
        "str(np.log10(100000)) + ' - ' + str(np.log(2.7182))"
      ],
      "metadata": {
        "colab": {
          "base_uri": "https://localhost:8080/",
          "height": 35
        },
        "id": "EhuptDa2kOxz",
        "outputId": "ac18c0b6-3338-466c-82f5-3494150436b3"
      },
      "execution_count": null,
      "outputs": [
        {
          "output_type": "execute_result",
          "data": {
            "text/plain": [
              "'5.0 - 0.9999698965391098'"
            ],
            "application/vnd.google.colaboratory.intrinsic+json": {
              "type": "string"
            }
          },
          "metadata": {},
          "execution_count": 21
        }
      ]
    },
    {
      "cell_type": "code",
      "source": [
        "a = 2\n",
        "b = 100\n",
        "n = 100\n",
        "\n",
        "linear = np.linspace(a, b, n)\n",
        "log = np.logspace(np.log10(a), np.log10(b), n)\n",
        "\n",
        "plt.plot(log, label='log')\n",
        "plt.plot(linear, label='linear')\n",
        "\n",
        "plt.axis('square')\n",
        "plt.legend()\n",
        "plt.show()"
      ],
      "metadata": {
        "id": "Ri6CRP_C5IYr",
        "colab": {
          "base_uri": "https://localhost:8080/",
          "height": 265
        },
        "outputId": "387e6db1-a961-4ff8-ef1d-d7968a55e0bc"
      },
      "execution_count": null,
      "outputs": [
        {
          "output_type": "display_data",
          "data": {
            "text/plain": [
              "<Figure size 432x288 with 1 Axes>"
            ],
            "image/png": "[encoded data removed]"
          },
          "metadata": {
            "needs_background": "light"
          }
        }
      ]
    },
    {
      "cell_type": "code",
      "source": [
        "a = 80\n",
        "b = 100\n",
        "n = 100\n",
        "\n",
        "linear = np.linspace(a, b, n)\n",
        "log = np.logspace(np.log10(a), np.log10(b), n)\n",
        "\n",
        "plt.plot(linear, log, label='log')\n",
        "plt.plot(linear, linear, label='linear')\n",
        "\n",
        "plt.axis('square')\n",
        "plt.legend()\n",
        "plt.show()"
      ],
      "metadata": {
        "colab": {
          "base_uri": "https://localhost:8080/",
          "height": 265
        },
        "id": "TwbXdaJAjfht",
        "outputId": "839d0222-d1de-4101-80a1-a523282e6ef0"
      },
      "execution_count": null,
      "outputs": [
        {
          "output_type": "display_data",
          "data": {
            "text/plain": [
              "<Figure size 432x288 with 1 Axes>"
            ],
            "image/png": "[encoded data removed]"
          },
          "metadata": {
            "needs_background": "light"
          }
        }
      ]
    },
    {
      "cell_type": "code",
      "source": [
        "display(Math('$\\\\ln(a*b) = \\\\ln(a) + \\\\ln(b)$'))"
      ],
      "metadata": {
        "colab": {
          "base_uri": "https://localhost:8080/",
          "height": 38
        },
        "id": "0EGby9qGldYl",
        "outputId": "644ab89c-b05d-450a-c761-058baac9aec0"
      },
      "execution_count": null,
      "outputs": [
        {
          "output_type": "display_data",
          "data": {
            "text/plain": [
              "<IPython.core.display.Math object>"
            ],
            "text/latex": "$\\displaystyle \\ln(a*b) = \\ln(a) + \\ln(b)$"
          },
          "metadata": {}
        }
      ]
    },
    {
      "cell_type": "code",
      "source": [
        "np.log(a*b) == np.log(a) + np.log(b)"
      ],
      "metadata": {
        "colab": {
          "base_uri": "https://localhost:8080/"
        },
        "id": "HVj4AQIJn7qU",
        "outputId": "f657d8eb-e414-43be-b474-7882fce1659b"
      },
      "execution_count": null,
      "outputs": [
        {
          "output_type": "execute_result",
          "data": {
            "text/plain": [
              "True"
            ]
          },
          "metadata": {},
          "execution_count": 68
        }
      ]
    },
    {
      "cell_type": "code",
      "source": [
        "np.log10(a*b) == np.log10(a) + np.log10(b)"
      ],
      "metadata": {
        "colab": {
          "base_uri": "https://localhost:8080/"
        },
        "id": "Z5_XNRu8oFzm",
        "outputId": "37a330f1-75e1-44d9-f61c-e0f1f8d1aca5"
      },
      "execution_count": null,
      "outputs": [
        {
          "output_type": "execute_result",
          "data": {
            "text/plain": [
              "True"
            ]
          },
          "metadata": {},
          "execution_count": 69
        }
      ]
    },
    {
      "cell_type": "code",
      "source": [
        "a = 3\n",
        "b = 4\n",
        "res1 = np.log(a*b)\n",
        "res2 = np.log(a) * np.log(b)\n",
        "res3 = np.log(a) + np.log(b)\n",
        "\n",
        "display(Math('$\\\\log(%g \\\\times %g) = %g$' % (a, b, res1)))\n",
        "display(Math('$\\\\log(%g) \\\\times \\\\log(%g) = %g$' % (a, b, res2)))\n",
        "display(Math('$\\\\log(%g) + \\\\log(%g) = %g$' % (a, b, res3)))\n",
        "display(Math('$\\\\log(%g \\\\times %g) = \\\\log(%g) + \\\\log(%g)$' % (a, b, a, b)))\n",
        "display(Math('$\\\\log(%g \\\\times %g) \\\\neq \\\\log(%g) \\\\times \\\\log(%g)$' % (a, b, a, b)))"
      ],
      "metadata": {
        "colab": {
          "base_uri": "https://localhost:8080/",
          "height": 119
        },
        "id": "xx-AvLqkoIK2",
        "outputId": "d26de03b-552b-47b0-f082-ac72cf599b75"
      },
      "execution_count": null,
      "outputs": [
        {
          "output_type": "display_data",
          "data": {
            "text/plain": [
              "<IPython.core.display.Math object>"
            ],
            "text/latex": "$\\displaystyle \\log(3 \\times 4) = 2.48491$"
          },
          "metadata": {}
        },
        {
          "output_type": "display_data",
          "data": {
            "text/plain": [
              "<IPython.core.display.Math object>"
            ],
            "text/latex": "$\\displaystyle \\log(3) \\times \\log(4) = 1.523$"
          },
          "metadata": {}
        },
        {
          "output_type": "display_data",
          "data": {
            "text/plain": [
              "<IPython.core.display.Math object>"
            ],
            "text/latex": "$\\displaystyle \\log(3) + \\log(4) = 2.48491$"
          },
          "metadata": {}
        },
        {
          "output_type": "display_data",
          "data": {
            "text/plain": [
              "<IPython.core.display.Math object>"
            ],
            "text/latex": "$\\displaystyle \\log(3 \\times 4) = \\log(3) + \\log(4)$"
          },
          "metadata": {}
        },
        {
          "output_type": "display_data",
          "data": {
            "text/plain": [
              "<IPython.core.display.Math object>"
            ],
            "text/latex": "$\\displaystyle \\log(3 \\times 4) \\neq \\log(3) \\times \\log(4)$"
          },
          "metadata": {}
        }
      ]
    },
    {
      "cell_type": "code",
      "source": [
        "a = 3\n",
        "b = 4\n",
        "res1 = np.log(a/b)\n",
        "res2 = np.log(a) / np.log(b)\n",
        "res3 = np.log(a) - np.log(b)\n",
        "\n",
        "display(Math('$\\\\log{\\\\left( \\\\frac{%g}{%g} \\\\right)} = %g$' % (a, b, res1)))\n",
        "display(Math('$\\\\frac{\\\\log(%g)}{\\\\log(%g)} = %g$' % (a, b, res2)))\n",
        "display(Math('$\\\\log(%g) - \\\\log(%g) = %g$' % (a, b, res3)))\n",
        "display(Math('$\\\\log{\\\\left( \\\\frac{%g}{%g} \\\\right)} = \\\\log(%g) - \\\\log(%g)$' % (a, b, a, b)))\n",
        "display(Math('$\\\\log{\\\\left( \\\\frac{%g}{%g} \\\\right)} \\\\neq \\\\frac{\\\\log(%g)}{\\\\log(%g)}$' % (a, b, a, b)))"
      ],
      "metadata": {
        "colab": {
          "base_uri": "https://localhost:8080/",
          "height": 199
        },
        "id": "FEFdC5SGrUfn",
        "outputId": "355cd89f-d0ee-4d56-aaa0-8bf57d5f8fb5"
      },
      "execution_count": null,
      "outputs": [
        {
          "output_type": "display_data",
          "data": {
            "text/plain": [
              "<IPython.core.display.Math object>"
            ],
            "text/latex": "$\\displaystyle \\log{\\left( \\frac{3}{4} \\right)} = -0.287682$"
          },
          "metadata": {}
        },
        {
          "output_type": "display_data",
          "data": {
            "text/plain": [
              "<IPython.core.display.Math object>"
            ],
            "text/latex": "$\\displaystyle \\frac{\\log(3)}{\\log(4)} = 0.792481$"
          },
          "metadata": {}
        },
        {
          "output_type": "display_data",
          "data": {
            "text/plain": [
              "<IPython.core.display.Math object>"
            ],
            "text/latex": "$\\displaystyle \\log(3) - \\log(4) = -0.287682$"
          },
          "metadata": {}
        },
        {
          "output_type": "display_data",
          "data": {
            "text/plain": [
              "<IPython.core.display.Math object>"
            ],
            "text/latex": "$\\displaystyle \\log{\\left( \\frac{3}{4} \\right)} = \\log(3) - \\log(4)$"
          },
          "metadata": {}
        },
        {
          "output_type": "display_data",
          "data": {
            "text/plain": [
              "<IPython.core.display.Math object>"
            ],
            "text/latex": "$\\displaystyle \\log{\\left(\\frac{3}{4} \\right)} \\neq \\frac{\\log(3)}{\\log(4)}$"
          },
          "metadata": {}
        }
      ]
    },
    {
      "cell_type": "code",
      "source": [
        "a = 3\n",
        "b = 4\n",
        "res1 = np.log(a**b)\n",
        "res2 = np.log(a) ** np.log(b)\n",
        "res3 = b*np.log(a)\n",
        "res4 = np.log(a) + np.log(a) + np.log(a) + np.log(a) \n",
        "\n",
        "display(Math('$\\\\log(%g^%g) = %g$' % (a, b, res1)))\n",
        "display(Math('$\\\\log(%g)^{\\\\log(%g)} = %g$' % (a, b, res2)))\n",
        "display(Math('$%g \\\\times log(%g) = %g$' % (b, a, res3)))\n",
        "display(Math('$%g \\\\times log(%g) = %g$' % (b, a, res4)))\n",
        "display(Math('$\\\\log(%g^%g) = %g \\\\times log(%g)$' % (a, b, b, a)))\n",
        "display(Math('$\\\\log(%g^%g) \\\\neq \\\\log(%g)^{\\\\log(%g)}$' % (a, b, a, b)))"
      ],
      "metadata": {
        "colab": {
          "base_uri": "https://localhost:8080/",
          "height": 144
        },
        "id": "KCoRXhNWscWG",
        "outputId": "58592c25-f6b1-46a4-cb3c-43ace9c48935"
      },
      "execution_count": null,
      "outputs": [
        {
          "output_type": "display_data",
          "data": {
            "text/plain": [
              "<IPython.core.display.Math object>"
            ],
            "text/latex": "$\\displaystyle \\log(3^4) = 4.39445$"
          },
          "metadata": {}
        },
        {
          "output_type": "display_data",
          "data": {
            "text/plain": [
              "<IPython.core.display.Math object>"
            ],
            "text/latex": "$\\displaystyle \\log(3)^{\\log(4)} = 1.13926$"
          },
          "metadata": {}
        },
        {
          "output_type": "display_data",
          "data": {
            "text/plain": [
              "<IPython.core.display.Math object>"
            ],
            "text/latex": "$\\displaystyle 4 \\times log(3) = 4.39445$"
          },
          "metadata": {}
        },
        {
          "output_type": "display_data",
          "data": {
            "text/plain": [
              "<IPython.core.display.Math object>"
            ],
            "text/latex": "$\\displaystyle 4 \\times log(3) = 4.39445$"
          },
          "metadata": {}
        },
        {
          "output_type": "display_data",
          "data": {
            "text/plain": [
              "<IPython.core.display.Math object>"
            ],
            "text/latex": "$\\displaystyle \\log(3^4) = 4 \\times log(3)$"
          },
          "metadata": {}
        },
        {
          "output_type": "display_data",
          "data": {
            "text/plain": [
              "<IPython.core.display.Math object>"
            ],
            "text/latex": "$\\displaystyle \\log(3^4) \\neq \\log(3)^{\\log(4)}$"
          },
          "metadata": {}
        }
      ]
    },
    {
      "cell_type": "code",
      "source": [
        "# Arithmetic sequence\n",
        "\n",
        "a = 2\n",
        "d = 3\n",
        "maxn = 5\n",
        "\n",
        "arithmetic_sequence = a + d*np.arange(0, maxn)\n",
        "arithmetic_sequence"
      ],
      "metadata": {
        "id": "XxXcS6EMt3qO",
        "colab": {
          "base_uri": "https://localhost:8080/"
        },
        "outputId": "d93ca048-87d7-466d-ccb0-d737fd2d40a0"
      },
      "execution_count": null,
      "outputs": [
        {
          "output_type": "execute_result",
          "data": {
            "text/plain": [
              "array([ 2,  5,  8, 11, 14])"
            ]
          },
          "metadata": {},
          "execution_count": 19
        }
      ]
    },
    {
      "cell_type": "code",
      "source": [
        "# Geometric sequence\n",
        "\n",
        "a = 2\n",
        "r = 3\n",
        "maxn = 5\n",
        "geometric_sequence = a * r**np.arange(0, maxn)\n",
        "geometric_sequence"
      ],
      "metadata": {
        "colab": {
          "base_uri": "https://localhost:8080/"
        },
        "id": "WL03J47cCYTf",
        "outputId": "dab24d29-87b5-49f8-fd9a-1277c300d609"
      },
      "execution_count": null,
      "outputs": [
        {
          "output_type": "execute_result",
          "data": {
            "text/plain": [
              "array([  2,   6,  18,  54, 162])"
            ]
          },
          "metadata": {},
          "execution_count": 20
        }
      ]
    },
    {
      "cell_type": "code",
      "source": [
        "plt.plot(arithmetic_sequence, 'ks', label='arithmetic')\n",
        "plt.plot(geometric_sequence, 'ro', label='geometric')\n",
        "plt.legend()\n",
        "plt.grid()\n",
        "plt.show()"
      ],
      "metadata": {
        "colab": {
          "base_uri": "https://localhost:8080/",
          "height": 265
        },
        "id": "rYjIzdFuC6rf",
        "outputId": "ace6abef-08f2-40e0-c4ce-54cebd985718"
      },
      "execution_count": null,
      "outputs": [
        {
          "output_type": "display_data",
          "data": {
            "text/plain": [
              "<Figure size 432x288 with 1 Axes>"
            ],
            "image/png": "[encoded data removed]"
          },
          "metadata": {
            "needs_background": "light"
          }
        }
      ]
    },
    {
      "cell_type": "code",
      "source": [
        "display(Math('a_n = a_1 + d(n - 1)'))\n",
        "display(Math('g_n = g_1*r^{(n - 1)}'))"
      ],
      "metadata": {
        "colab": {
          "base_uri": "https://localhost:8080/",
          "height": 61
        },
        "id": "Fd5AY_o1KaRJ",
        "outputId": "3f9a4343-6e4a-4ea8-e5e5-4f6afd2abbf3"
      },
      "execution_count": null,
      "outputs": [
        {
          "output_type": "display_data",
          "data": {
            "text/plain": [
              "<IPython.core.display.Math object>"
            ],
            "text/latex": "$\\displaystyle a_n = a_1 + d(n - 1)$"
          },
          "metadata": {}
        },
        {
          "output_type": "display_data",
          "data": {
            "text/plain": [
              "<IPython.core.display.Math object>"
            ],
            "text/latex": "$\\displaystyle g_n = g_1*r^{(n - 1)}$"
          },
          "metadata": {}
        }
      ]
    },
    {
      "cell_type": "code",
      "source": [
        "# Confirm that the nth term matches for indexing and direct computation\n",
        "\n",
        "a = 2\n",
        "r = 3\n",
        "nth = 6\n",
        "maxn = 10\n",
        "\n",
        "arithmetic_sequence = a + r*np.arange(0, maxn)\n",
        "geometric_sequence = a * r**np.arange(0, maxn)\n",
        "\n",
        "print(a + r*(nth-1) == arithmetic_sequence[nth-1])\n",
        "print(a*r**(nth-1) == geometric_sequence[nth-1])"
      ],
      "metadata": {
        "colab": {
          "base_uri": "https://localhost:8080/"
        },
        "id": "qGGK0uaPDUB_",
        "outputId": "d2749972-30a6-403a-eade-8568e874ba84"
      },
      "execution_count": null,
      "outputs": [
        {
          "output_type": "stream",
          "name": "stdout",
          "text": [
            "True\n",
            "True\n"
          ]
        }
      ]
    },
    {
      "cell_type": "code",
      "source": [
        "x = 3984573945\n",
        "'{:,e}'.format(x)"
      ],
      "metadata": {
        "colab": {
          "base_uri": "https://localhost:8080/",
          "height": 35
        },
        "id": "AJNEDu-GM_5Z",
        "outputId": "a6fec065-3467-4cbb-8eee-47325fa6555c"
      },
      "execution_count": null,
      "outputs": [
        {
          "output_type": "execute_result",
          "data": {
            "text/plain": [
              "'3.984574e+09'"
            ],
            "application/vnd.google.colaboratory.intrinsic+json": {
              "type": "string"
            }
          },
          "metadata": {},
          "execution_count": 41
        }
      ]
    },
    {
      "cell_type": "code",
      "source": [
        "x = 150\n",
        "'{:,e}'.format(x)"
      ],
      "metadata": {
        "colab": {
          "base_uri": "https://localhost:8080/",
          "height": 35
        },
        "id": "PUVEoY8GS72h",
        "outputId": "5fa622fb-d6bb-4737-e783-d663d1b31959"
      },
      "execution_count": null,
      "outputs": [
        {
          "output_type": "execute_result",
          "data": {
            "text/plain": [
              "'1.500000e+02'"
            ],
            "application/vnd.google.colaboratory.intrinsic+json": {
              "type": "string"
            }
          },
          "metadata": {},
          "execution_count": 47
        }
      ]
    },
    {
      "cell_type": "code",
      "source": [
        "x = 1\n",
        "'{:,e}'.format(x)"
      ],
      "metadata": {
        "colab": {
          "base_uri": "https://localhost:8080/",
          "height": 35
        },
        "id": "bEeUxW-XTEeu",
        "outputId": "bf57628e-39dd-4a5f-d4aa-ae27921bd2dc"
      },
      "execution_count": null,
      "outputs": [
        {
          "output_type": "execute_result",
          "data": {
            "text/plain": [
              "'1.000000e+00'"
            ],
            "application/vnd.google.colaboratory.intrinsic+json": {
              "type": "string"
            }
          },
          "metadata": {},
          "execution_count": 48
        }
      ]
    },
    {
      "cell_type": "code",
      "source": [
        "'{:,d}'.format(x)"
      ],
      "metadata": {
        "colab": {
          "base_uri": "https://localhost:8080/",
          "height": 35
        },
        "id": "FVj-7l06RFaP",
        "outputId": "e948bd5b-8e40-44e7-ede8-6755c5c9aba4"
      },
      "execution_count": null,
      "outputs": [
        {
          "output_type": "execute_result",
          "data": {
            "text/plain": [
              "'3,984,573,945'"
            ],
            "application/vnd.google.colaboratory.intrinsic+json": {
              "type": "string"
            }
          },
          "metadata": {},
          "execution_count": 42
        }
      ]
    },
    {
      "cell_type": "code",
      "source": [
        "'%.2e' % x"
      ],
      "metadata": {
        "colab": {
          "base_uri": "https://localhost:8080/",
          "height": 35
        },
        "id": "ckfzzfq3RZ6P",
        "outputId": "9241418e-9bbb-4f67-d5a2-f1cefb917c7c"
      },
      "execution_count": null,
      "outputs": [
        {
          "output_type": "execute_result",
          "data": {
            "text/plain": [
              "'3.98e+09'"
            ],
            "application/vnd.google.colaboratory.intrinsic+json": {
              "type": "string"
            }
          },
          "metadata": {},
          "execution_count": 44
        }
      ]
    },
    {
      "cell_type": "code",
      "source": [
        "# Exercise - Print the nearest order of magnitude of a given number\n",
        "# 2342 is 3 orders of magnitude, =~2*10^3\n",
        "\n",
        "def display_in_scientific_notation(x):\n",
        "  s = '{:,e}'.format(x)\n",
        "  plus_minus = '' if s[-3] == '+' else '-'\n",
        "  number = int(s[0:2] if s[0] == '-' else s[0])\n",
        "  display(Math('\\\\approx %d \\\\times 10^{%s%s}' % (number, plus_minus, int(s[-2:]))))\n",
        "\n",
        "display_in_scientific_notation(2342)\n",
        "display_in_scientific_notation(100000)\n",
        "display_in_scientific_notation(1)\n",
        "display_in_scientific_notation(0.0010)\n",
        "display_in_scientific_notation(-30)\n",
        "display_in_scientific_notation(-525)"
      ],
      "metadata": {
        "colab": {
          "base_uri": "https://localhost:8080/",
          "height": 139
        },
        "id": "s7NSqDddR35H",
        "outputId": "93715ed5-557f-4ca1-b612-4044e968bc1f"
      },
      "execution_count": null,
      "outputs": [
        {
          "output_type": "display_data",
          "data": {
            "text/plain": [
              "<IPython.core.display.Math object>"
            ],
            "text/latex": "$\\displaystyle \\approx 2 \\times 10^{3}$"
          },
          "metadata": {}
        },
        {
          "output_type": "display_data",
          "data": {
            "text/plain": [
              "<IPython.core.display.Math object>"
            ],
            "text/latex": "$\\displaystyle \\approx 1 \\times 10^{5}$"
          },
          "metadata": {}
        },
        {
          "output_type": "display_data",
          "data": {
            "text/plain": [
              "<IPython.core.display.Math object>"
            ],
            "text/latex": "$\\displaystyle \\approx 1 \\times 10^{0}$"
          },
          "metadata": {}
        },
        {
          "output_type": "display_data",
          "data": {
            "text/plain": [
              "<IPython.core.display.Math object>"
            ],
            "text/latex": "$\\displaystyle \\approx 1 \\times 10^{-3}$"
          },
          "metadata": {}
        },
        {
          "output_type": "display_data",
          "data": {
            "text/plain": [
              "<IPython.core.display.Math object>"
            ],
            "text/latex": "$\\displaystyle \\approx -3 \\times 10^{1}$"
          },
          "metadata": {}
        },
        {
          "output_type": "display_data",
          "data": {
            "text/plain": [
              "<IPython.core.display.Math object>"
            ],
            "text/latex": "$\\displaystyle \\approx -5 \\times 10^{2}$"
          },
          "metadata": {}
        }
      ]
    },
    {
      "cell_type": "code",
      "source": [
        "num = 2342\n",
        "\n",
        "order_of_mag = int(np.floor(np.log10(abs(num))))\n",
        "\n",
        "# scientific notation\n",
        "\n",
        "num_str = '{:,e}'.format(num)\n",
        "where_dot = num_str.find('.')\n",
        "sci_not = num_str[:where_dot]\n",
        "\n",
        "display(Math('%s \\\\text{ is } %s \\\\text{ orders of magnitude ,} \\\\approx %s \\\\times 10^{%g}' \n",
        "             % (num, order_of_mag, sci_not, order_of_mag)))"
      ],
      "metadata": {
        "colab": {
          "base_uri": "https://localhost:8080/",
          "height": 37
        },
        "id": "gxE02XZfXEFI",
        "outputId": "d792dd53-74b7-4fcb-a0af-34e64f3e6555"
      },
      "execution_count": null,
      "outputs": [
        {
          "output_type": "display_data",
          "data": {
            "text/plain": [
              "<IPython.core.display.Math object>"
            ],
            "text/latex": "$\\displaystyle 2342 \\text{ is } 3 \\text{ orders of magnitude ,} \\approx 2 \\times 10^{3}$"
          },
          "metadata": {}
        }
      ]
    },
    {
      "cell_type": "code",
      "source": [
        "lst = [-4, 5.5, 1, 2]\n",
        "\n",
        "max_val = np.max(lst)\n",
        "max_val_idx = np.argmax(lst)\n",
        "\n",
        "lst[max_val_idx] == max_val"
      ],
      "metadata": {
        "id": "4H-Lqoz7ZRAp",
        "colab": {
          "base_uri": "https://localhost:8080/"
        },
        "outputId": "52ec2b54-ef2b-47e1-dd44-c9332c98b1b9"
      },
      "execution_count": null,
      "outputs": [
        {
          "output_type": "execute_result",
          "data": {
            "text/plain": [
              "True"
            ]
          },
          "metadata": {},
          "execution_count": 4
        }
      ]
    },
    {
      "cell_type": "code",
      "source": [
        "x = np.linspace(0, 2*np.pi, 20)\n",
        "fx = -(np.cos(x) + np.sqrt(x))\n",
        "\n",
        "fmax = np.max(fx)\n",
        "fmaxidx = np.argmax(fx)\n",
        "\n",
        "plt.plot(x, fx, 'bo-')\n",
        "plt.plot(x[fmaxidx], fmax, 'rs')\n",
        "plt.legend(['$f(x) = sin(x)$'])\n",
        "plt.title(\"Global Maximum\")\n",
        "plt.show()"
      ],
      "metadata": {
        "colab": {
          "base_uri": "https://localhost:8080/",
          "height": 281
        },
        "id": "hqOrVE_JrIGb",
        "outputId": "da55285a-4225-451c-f361-e7c3b548d670"
      },
      "execution_count": 80,
      "outputs": [
        {
          "output_type": "display_data",
          "data": {
            "text/plain": [
              "<Figure size 432x288 with 1 Axes>"
            ],
            "image/png": "[encoded data removed]"
          },
          "metadata": {
            "needs_background": "light"
          }
        }
      ]
    },
    {
      "cell_type": "code",
      "source": [
        "x = np.linspace(-3, 3, 21)\n",
        "fx = np.sin(x)\n",
        "\n",
        "fmaxidx = np.argmax(fx)\n",
        "\n",
        "plt.plot(x, fx, 'bo-')\n",
        "plt.plot(x[fmaxidx], fx[fmaxidx], 'rs')\n",
        "plt.legend(['$f(x) = sin(x)$'])\n",
        "plt.title(\"Global Maximum\")\n",
        "plt.show()"
      ],
      "metadata": {
        "colab": {
          "base_uri": "https://localhost:8080/",
          "height": 281
        },
        "id": "NGL21Wj2AmIz",
        "outputId": "1ea32d79-f98c-4d5c-dd61-12ae5fc93e10"
      },
      "execution_count": 78,
      "outputs": [
        {
          "output_type": "display_data",
          "data": {
            "text/plain": [
              "<Figure size 432x288 with 1 Axes>"
            ],
            "image/png": "[encoded data removed]"
          },
          "metadata": {
            "needs_background": "light"
          }
        }
      ]
    },
    {
      "cell_type": "code",
      "source": [
        "x = np.linspace(-3, 3, 21)\n",
        "fx = np.sin(x)\n",
        "\n",
        "fminidx = np.argmin(fx)\n",
        "\n",
        "plt.plot(x, fx, 'bo-')\n",
        "plt.plot(x[fminidx], fx[fminidx], 'rs')\n",
        "plt.legend(['$f(x) = sin(x)$'])\n",
        "plt.title(\"Global Minimum\")\n",
        "plt.show()"
      ],
      "metadata": {
        "colab": {
          "base_uri": "https://localhost:8080/",
          "height": 281
        },
        "id": "HKDwa_VtAwel",
        "outputId": "a5d91fc5-eb6a-4c58-8fec-ccd10246ce97"
      },
      "execution_count": 81,
      "outputs": [
        {
          "output_type": "display_data",
          "data": {
            "text/plain": [
              "<Figure size 432x288 with 1 Axes>"
            ],
            "image/png": "[encoded data removed]"
          },
          "metadata": {
            "needs_background": "light"
          }
        }
      ]
    },
    {
      "cell_type": "code",
      "source": [
        "x = np.linspace(-2, 2, 51)\n",
        "fx = x**3 + x**4\n",
        "\n",
        "fminidx = np.argmin(fx)\n",
        "\n",
        "plt.plot(x, fx, 'bs-')\n",
        "plt.plot(x[fminidx], fx[fminidx], 'rs')\n",
        "plt.xlim([-1.2, .5])\n",
        "plt.ylim([-.2, .2])\n",
        "plt.title(\"Global Minimum\")\n",
        "plt.show()"
      ],
      "metadata": {
        "id": "-bY-7CDArg8q",
        "colab": {
          "base_uri": "https://localhost:8080/",
          "height": 281
        },
        "outputId": "db8502c1-dcb6-4153-f19f-e5485acd4a38"
      },
      "execution_count": 64,
      "outputs": [
        {
          "output_type": "display_data",
          "data": {
            "text/plain": [
              "<Figure size 432x288 with 1 Axes>"
            ],
            "image/png": "[encoded data removed]"
          },
          "metadata": {
            "needs_background": "light"
          }
        }
      ]
    },
    {
      "cell_type": "code",
      "source": [
        "# Exercise\n",
        "from scipy.signal import find_peaks\n",
        "\n",
        "x = np.linspace(0, 38, 200)\n",
        "fx = -np.cos(x) - np.sqrt(abs(x))\n",
        "\n",
        "peaks, _ = find_peaks(fx)\n",
        "\n",
        "plt.plot(x, fx, label='$f(x) = -cos(x) - \\\\sqrt{x}$')\n",
        "plt.plot(x[peaks], fx[peaks], 'o')\n",
        "\n",
        "plt.legend()\n",
        "plt.show()"
      ],
      "metadata": {
        "colab": {
          "base_uri": "https://localhost:8080/",
          "height": 265
        },
        "id": "B90QB2Z-yNSJ",
        "outputId": "3bbc4231-3292-4a0c-f4f9-fe600a35411a"
      },
      "execution_count": 50,
      "outputs": [
        {
          "output_type": "display_data",
          "data": {
            "text/plain": [
              "<Figure size 432x288 with 1 Axes>"
            ],
            "image/png": "[encoded data removed]"
          },
          "metadata": {
            "needs_background": "light"
          }
        }
      ]
    },
    {
      "cell_type": "code",
      "source": [
        "# Exercise\n",
        "from scipy.signal import argrelmax\n",
        "\n",
        "x = np.linspace(0, 38, 200)\n",
        "fx = -np.cos(x) - np.sqrt(abs(x))\n",
        "\n",
        "local_maximums = argrelmax(fx)\n",
        "\n",
        "plt.plot(x, fx, label='$f(x) = -cos(x) - \\\\sqrt{x}$')\n",
        "plt.plot(x[local_maximums], fx[local_maximums], 'o')\n",
        "\n",
        "plt.legend()\n",
        "plt.show()"
      ],
      "metadata": {
        "colab": {
          "base_uri": "https://localhost:8080/",
          "height": 265
        },
        "id": "Clx8MD8p8C9w",
        "outputId": "c17b3233-34ea-4d32-a528-00b5d5424322"
      },
      "execution_count": 54,
      "outputs": [
        {
          "output_type": "display_data",
          "data": {
            "text/plain": [
              "<Figure size 432x288 with 1 Axes>"
            ],
            "image/png": "[encoded data removed]"
          },
          "metadata": {
            "needs_background": "light"
          }
        }
      ]
    },
    {
      "cell_type": "code",
      "source": [
        "# Exercise\n",
        "from scipy.signal import argrelmin\n",
        "\n",
        "x = np.linspace(0, 38, 200)\n",
        "fx = -np.cos(x) - np.sqrt(abs(x))\n",
        "\n",
        "local_minimums = argrelmin(fx)\n",
        "\n",
        "plt.plot(x, fx, label='$f(x) = -cos(x) - \\\\sqrt{x}$')\n",
        "plt.plot(x[local_minimums], fx[local_minimums], 'o')\n",
        "\n",
        "plt.legend()\n",
        "plt.show()"
      ],
      "metadata": {
        "colab": {
          "base_uri": "https://localhost:8080/",
          "height": 265
        },
        "id": "wgZ1IGg23uW4",
        "outputId": "8c68f4a5-770d-415f-955b-345c6aa5177a"
      },
      "execution_count": 55,
      "outputs": [
        {
          "output_type": "display_data",
          "data": {
            "text/plain": [
              "<Figure size 432x288 with 1 Axes>"
            ],
            "image/png": "[encoded data removed]"
          },
          "metadata": {
            "needs_background": "light"
          }
        }
      ]
    },
    {
      "cell_type": "code",
      "source": [
        "x = np.linspace(-5, 5, 20)\n",
        "fx_even = x**2\n",
        "fx_even_neg = (-x)**2\n",
        "\n",
        "plt.plot(x, fx_even)\n",
        "plt.plot(x, fx_even_neg, 'ro')\n",
        "plt.title(\"Even Function\")\n",
        "plt.show()"
      ],
      "metadata": {
        "colab": {
          "base_uri": "https://localhost:8080/",
          "height": 281
        },
        "id": "WHAr2llg--7N",
        "outputId": "d1dbb09e-b09f-4472-8f25-e49faae2184e"
      },
      "execution_count": 83,
      "outputs": [
        {
          "output_type": "display_data",
          "data": {
            "text/plain": [
              "<Figure size 432x288 with 1 Axes>"
            ],
            "image/png": "[encoded data removed]"
          },
          "metadata": {
            "needs_background": "light"
          }
        }
      ]
    },
    {
      "cell_type": "code",
      "source": [
        "x = np.linspace(-5, 5, 20)\n",
        "fx_odd = x**3\n",
        "fx_odd_neg = (-x)**3\n",
        "\n",
        "plt.plot(x, fx_odd)\n",
        "plt.plot(x, fx_odd_neg, 'ro')\n",
        "\n",
        "plt.title(\"Odd Function\")\n",
        "plt.show()"
      ],
      "metadata": {
        "colab": {
          "base_uri": "https://localhost:8080/",
          "height": 281
        },
        "id": "OXvhuuD9ELGW",
        "outputId": "9d4d56fc-17c6-4735-cc41-3f312b724728"
      },
      "execution_count": 85,
      "outputs": [
        {
          "output_type": "display_data",
          "data": {
            "text/plain": [
              "<Figure size 432x288 with 1 Axes>"
            ],
            "image/png": "[encoded data removed]"
          },
          "metadata": {
            "needs_background": "light"
          }
        }
      ]
    },
    {
      "cell_type": "code",
      "source": [
        "# Exercise - Determine whether sine and cosine are even or odd functions\n",
        "\n",
        "x = np.linspace(-2*np.pi, 2*np.pi, 50)\n",
        "fx_sin = np.sin(x)\n",
        "fx_sin_neg = np.sin(-x)\n",
        "\n",
        "plt.plot(x, fx_sin)\n",
        "plt.plot(x, fx_sin_neg, 'y')\n",
        "plt.plot(x, fx_sin_neg, 'ro')\n",
        "\n",
        "if np.array_equal(fx_sin, fx_sin_neg):\n",
        "  plt.title('Even function sin(x)')\n",
        "else:\n",
        "  plt.title('Odd function sin(x)')\n",
        "\n",
        "plt.show()"
      ],
      "metadata": {
        "colab": {
          "base_uri": "https://localhost:8080/",
          "height": 281
        },
        "id": "offBn0fSEtQm",
        "outputId": "552364d1-91e9-4bc4-fc33-9be0c07f6a41"
      },
      "execution_count": 104,
      "outputs": [
        {
          "output_type": "display_data",
          "data": {
            "text/plain": [
              "<Figure size 432x288 with 1 Axes>"
            ],
            "image/png": "[encoded data removed]"
          },
          "metadata": {
            "needs_background": "light"
          }
        }
      ]
    },
    {
      "cell_type": "code",
      "source": [
        "x = np.linspace(-2*np.pi, 2*np.pi, 50)\n",
        "\n",
        "fx_cos = np.cos(x)\n",
        "fx_cos_neg = np.cos(-x)\n",
        "\n",
        "plt.plot(x, fx_cos)\n",
        "plt.plot(x, fx_cos_neg, 'g')\n",
        "plt.plot(x, fx_cos_neg, 'bs')\n",
        "plt.title('Even function cos(x)')\n",
        "\n",
        "if np.array_equal(fx_cos, fx_cos_neg):\n",
        "  plt.title('Even function cos(x)')\n",
        "else:\n",
        "  plt.title('Odd function cos(x)')\n",
        "\n",
        "plt.show()"
      ],
      "metadata": {
        "colab": {
          "base_uri": "https://localhost:8080/",
          "height": 281
        },
        "id": "-CA67AYEG6p3",
        "outputId": "9c0d6da6-e518-48b3-8e14-37b3a1f3536a"
      },
      "execution_count": 106,
      "outputs": [
        {
          "output_type": "display_data",
          "data": {
            "text/plain": [
              "<Figure size 432x288 with 1 Axes>"
            ],
            "image/png": "[encoded data removed]"
          },
          "metadata": {
            "needs_background": "light"
          }
        }
      ]
    },
    {
      "cell_type": "code",
      "source": [],
      "metadata": {
        "id": "5QdL60ejHe1X"
      },
      "execution_count": null,
      "outputs": []
    }
  ]
}