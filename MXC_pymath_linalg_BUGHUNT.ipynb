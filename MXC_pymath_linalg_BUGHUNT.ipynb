{
  "cells": [
    {
      "cell_type": "markdown",
      "metadata": {
        "id": "pywQ7-VunyG5"
      },
      "source": [
        "# COURSE: Master math by coding in Python\n",
        "## SECTION: Linear algebra\n",
        "\n",
        "#### www.udemy.com/master-math-with-python\n",
        "#### INSTRUCTOR: sincxpress.com\n",
        "\n",
        "Note about this code: Each video in this section of the course corresponds to a section of code below. Please note that this code roughly matches the code shown in the live recording, but is not exactly the same -- the variable names, order of lines, and parameters may be slightly different. "
      ]
    },
    {
      "cell_type": "markdown",
      "metadata": {
        "id": "PG76EU4ZnyG-"
      },
      "source": [
        "# Linear algebra BUG HUNT!!"
      ]
    },
    {
      "cell_type": "code",
      "source": [
        "import numpy as np\n",
        "import sympy as sym\n",
        "import matplotlib.pyplot as plt\n",
        "from IPython.display import display, Math"
      ],
      "metadata": {
        "id": "AMvhF41nn6Q3"
      },
      "execution_count": 1,
      "outputs": []
    },
    {
      "cell_type": "code",
      "execution_count": 2,
      "metadata": {
        "colab": {
          "base_uri": "https://localhost:8080/",
          "height": 58
        },
        "id": "mZF8cSLonyG_",
        "outputId": "b669c131-9254-41d4-dc32-58a1707e7ca4"
      },
      "outputs": [
        {
          "output_type": "display_data",
          "data": {
            "text/plain": [
              "<IPython.core.display.Math object>"
            ],
            "text/latex": "$\\displaystyle \\left[\\begin{matrix}-2\\\\3\\end{matrix}\\right]$"
          },
          "metadata": {}
        }
      ],
      "source": [
        "# create a column vector\n",
        "cv = np.array([[-2], [3]])\n",
        "\n",
        "display(Math(sym.latex(sym.sympify(cv))))"
      ]
    },
    {
      "cell_type": "code",
      "execution_count": 10,
      "metadata": {
        "colab": {
          "base_uri": "https://localhost:8080/",
          "height": 269
        },
        "id": "O2tUq4N3nyG_",
        "outputId": "2ede252e-1e87-46c4-98f6-2ecae6963457"
      },
      "outputs": [
        {
          "output_type": "display_data",
          "data": {
            "text/plain": [
              "<Figure size 432x288 with 1 Axes>"
            ],
            "image/png": "[encoded data removed]"
          },
          "metadata": {
            "needs_background": "light"
          }
        }
      ],
      "source": [
        "# visualize scalar-vector multiplication\n",
        "\n",
        "v = np.array([-2, 2])\n",
        "s = .7\n",
        "sv = s*v\n",
        "plt.plot([0, v[0]], [0, v[1]], 'ro-', linewidth=3, label='$\\\\vec{v}$')\n",
        "plt.plot([0, sv[0]], [0, sv[1]], 'o-', linewidth=3, label='$s\\\\vec{v}$')\n",
        "    \n",
        "plt.legend()\n",
        "plt.axis('square')\n",
        "plt.axis([-3, 3, -3, 3])\n",
        "plt.grid()\n",
        "plt.show()"
      ]
    },
    {
      "cell_type": "code",
      "execution_count": 13,
      "metadata": {
        "colab": {
          "base_uri": "https://localhost:8080/"
        },
        "id": "trXOgeWQnyHA",
        "outputId": "3c69813b-bdce-41be-9644-4a4a19f45761"
      },
      "outputs": [
        {
          "output_type": "stream",
          "name": "stdout",
          "text": [
            "2.3148914028306327\t2.3148914028306327\n"
          ]
        }
      ],
      "source": [
        "# algorithm to compute the dot product\n",
        "v = np.random.randn(7)\n",
        "w = np.random.randn(7)\n",
        "\n",
        "dp1 = 0\n",
        "for i in range(0, len(v)):\n",
        "    dp1 += v[i]*w[i]\n",
        "\n",
        "dp2 = np.dot(v, w)\n",
        "\n",
        "print(str(dp1) + '\\t' + str(dp2))"
      ]
    },
    {
      "cell_type": "code",
      "execution_count": 65,
      "metadata": {
        "colab": {
          "base_uri": "https://localhost:8080/"
        },
        "id": "_6Gv29VKnyHB",
        "outputId": "15468aa6-7ceb-4768-f6cb-37cc0fa25e9d"
      },
      "outputs": [
        {
          "output_type": "stream",
          "name": "stdout",
          "text": [
            "0.8936393963886546\n",
            "0.8936393963886547\n"
          ]
        }
      ],
      "source": [
        "# number of data points\n",
        "n = 10\n",
        "\n",
        "# data\n",
        "data1 = np.arange(0, n) + np.random.randn(n)\n",
        "data2 = np.arange(0, n) + np.random.randn(n)\n",
        "\n",
        "# compute correlation\n",
        "data1m = data1 - np.mean(data1)\n",
        "data2m = data2 - np.mean(data2)\n",
        "numer = np.dot(data1m, data2m)\n",
        "denom = np.sqrt(np.dot(data1m, data1m)) * np.sqrt(np.dot(data2m, data2m))\n",
        "r1 = numer/denom\n",
        "\n",
        "# confirm with numpy function\n",
        "r2 = np.corrcoef(data1, data2)[1][0]\n",
        "\n",
        "print(r1)\n",
        "print(r2)"
      ]
    },
    {
      "cell_type": "code",
      "execution_count": 39,
      "metadata": {
        "colab": {
          "base_uri": "https://localhost:8080/"
        },
        "id": "UZLvNm9DnyHC",
        "outputId": "f2768c49-b3eb-4a8a-d60d-04f6ea937eb1"
      },
      "outputs": [
        {
          "output_type": "stream",
          "name": "stdout",
          "text": [
            "[[0. 0. 0. 0.]\n",
            " [0. 0. 0. 0.]\n",
            " [0. 0. 0. 0.]\n",
            " [0. 0. 0. 0.]\n",
            " [0. 0. 0. 0.]\n",
            " [0. 0. 0. 0.]\n",
            " [0. 0. 0. 0.]]\n"
          ]
        }
      ],
      "source": [
        "# outer product computation\n",
        "o1 = np.random.randint(0, 10, 7)\n",
        "o2 = np.random.randint(0, 10, 4)\n",
        "\n",
        "outermat = np.zeros((len(o1), len(o2)))\n",
        "\n",
        "for i in range(len(o1)):\n",
        "  for j in range(len(o2)):\n",
        "    outermat[i, j] = o1[i]*o2[j]\n",
        "\n",
        "print(outermat-np.outer(o1, o2))"
      ]
    },
    {
      "cell_type": "code",
      "execution_count": 66,
      "metadata": {
        "colab": {
          "base_uri": "https://localhost:8080/"
        },
        "id": "9gxgV95fnyHC",
        "outputId": "6e358e8d-77c7-471b-92d4-3442b8224f96"
      },
      "outputs": [
        {
          "output_type": "execute_result",
          "data": {
            "text/plain": [
              "array([[ 1.3068758 , -0.10566609, -0.76922619, -0.27684808,  2.64205543],\n",
              "       [ 1.48717753, -0.85302213,  1.14352819, -0.62309604, -0.08315379],\n",
              "       [ 1.53580481, -0.05763849,  0.588083  , -0.70180978, -0.77498112],\n",
              "       [ 0.73065971,  0.74838442,  0.18368164,  0.91862751, -0.8436546 ],\n",
              "       [ 0.6899785 ,  0.22084158,  0.33347336, -2.13365745, -0.01983713]])"
            ]
          },
          "metadata": {},
          "execution_count": 66
        }
      ],
      "source": [
        "# matrix multiplication\n",
        "A = np.random.randn(5, 5)\n",
        "I = np.eye(5)\n",
        "\n",
        "A@I"
      ]
    },
    {
      "cell_type": "code",
      "execution_count": 44,
      "metadata": {
        "colab": {
          "base_uri": "https://localhost:8080/"
        },
        "id": "bM3IqUaznyHD",
        "outputId": "3cd6391d-9631-429e-dd1d-424a81d72ae9"
      },
      "outputs": [
        {
          "output_type": "stream",
          "name": "stdout",
          "text": [
            "[[ 0.04536731  0.42456883  0.82056525 -1.51002949  0.5352213 ]\n",
            " [-0.15744414  0.65554677  2.33700046  2.01465332  0.99797177]\n",
            " [ 0.9752482   0.26512545 -0.30786054  0.33376523 -2.44168129]\n",
            " [ 0.80066186 -0.09645997  0.06787979 -2.57209033 -0.03183241]\n",
            " [-0.28662235 -0.01608908  1.49330647 -0.41929076 -0.83461983]\n",
            " [-1.68859925  0.49823952  1.44065817 -2.38304479 -0.96788166]\n",
            " [ 1.37895207  2.16303459  0.422108   -1.00794791  1.72786268]\n",
            " [ 0.62231827 -0.91507318  1.36932543  0.73884944 -0.3421122 ]]\n",
            " \n",
            "[[ 0.04536731  0.42456883  0.82056525 -1.51002949  0.5352213 ]\n",
            " [-0.15744414  0.65554677  2.33700046  2.01465332  0.99797177]\n",
            " [ 0.9752482   0.26512545 -0.30786054  0.33376523 -2.44168129]\n",
            " [ 0.80066186 -0.09645997  0.06787979 -2.57209033 -0.03183241]\n",
            " [-0.28662235 -0.01608908  1.49330647 -0.41929076 -0.83461983]\n",
            " [-1.68859925  0.49823952  1.44065817 -2.38304479 -0.96788166]\n",
            " [ 1.37895207  2.16303459  0.422108   -1.00794791  1.72786268]\n",
            " [ 0.62231827 -0.91507318  1.36932543  0.73884944 -0.3421122 ]]\n"
          ]
        }
      ],
      "source": [
        "# matrix multiplication\n",
        "A = np.random.randn(8,5)\n",
        "I = np.eye(5)\n",
        "\n",
        "print(A)\n",
        "print(' ')\n",
        "print(A@I)"
      ]
    },
    {
      "cell_type": "code",
      "execution_count": 47,
      "metadata": {
        "colab": {
          "base_uri": "https://localhost:8080/"
        },
        "id": "Mbp7-_BtnyHD",
        "outputId": "3c2c67e3-3282-4e32-8661-8a06c2c8ab69"
      },
      "outputs": [
        {
          "output_type": "execute_result",
          "data": {
            "text/plain": [
              "array([[ 1., -0., -0., -0.,  0.],\n",
              "       [ 0.,  1.,  0., -0., -0.],\n",
              "       [-0., -0.,  1.,  0.,  0.],\n",
              "       [ 0.,  0., -0.,  1.,  0.],\n",
              "       [ 0.,  0.,  0.,  0.,  1.]])"
            ]
          },
          "metadata": {},
          "execution_count": 47
        }
      ],
      "source": [
        "# random matrices are invertible\n",
        "A = np.random.randint(-5, 6, (5,5))\n",
        "Ainv = np.linalg.inv(A)\n",
        "\n",
        "np.round(A@Ainv, 4)"
      ]
    },
    {
      "cell_type": "code",
      "execution_count": 68,
      "metadata": {
        "colab": {
          "base_uri": "https://localhost:8080/",
          "height": 279
        },
        "id": "E6IF0oW7nyHE",
        "outputId": "32c2edc0-947e-42c3-d57b-ac1468bfbfea"
      },
      "outputs": [
        {
          "output_type": "display_data",
          "data": {
            "text/plain": [
              "<Figure size 432x288 with 1 Axes>"
            ],
            "image/png": "[encoded data removed]"
          },
          "metadata": {
            "needs_background": "light"
          }
        }
      ],
      "source": [
        "# plot the eigenspectrum\n",
        "# the matrix\n",
        "M = np.random.randint(-5, 5, (5, 5))\n",
        "M = M@M.T\n",
        "\n",
        "# its eigendecomposition\n",
        "eigvals, eigvecs = np.linalg.eig(M)\n",
        "\n",
        "plt.plot(np.matrix.flatten(eigvals), 's-')\n",
        "plt.xlabel('Components')\n",
        "plt.ylabel('Eigenvalues')\n",
        "\n",
        "plt.show()"
      ]
    },
    {
      "cell_type": "code",
      "execution_count": 61,
      "metadata": {
        "colab": {
          "base_uri": "https://localhost:8080/",
          "height": 113
        },
        "id": "rIyMJyXPnyHE",
        "outputId": "d70d2b29-cf51-4293-c4c2-69a759a984c1"
      },
      "outputs": [
        {
          "output_type": "display_data",
          "data": {
            "text/plain": [
              "<Figure size 432x288 with 3 Axes>"
            ],
            "image/png": "[encoded data removed]"
          },
          "metadata": {
            "needs_background": "light"
          }
        }
      ],
      "source": [
        "# Reconstruct a matrix based on its SVD\n",
        "A = np.random.randint(-10, 11, (10, 20))\n",
        "\n",
        "U, s, V = np.linalg.svd(A)\n",
        "\n",
        "# reconstruct S\n",
        "S = np.diag(s)\n",
        "S = np.zeros(np.shape(A))\n",
        "for i in range(len(s)):\n",
        "  S[i, i] = s[i]\n",
        "\n",
        "Arecon = U@S@V\n",
        "\n",
        "fig,ax = plt.subplots(1,3)\n",
        "\n",
        "ax[0].imshow(A, vmin=-10, vmax=10)\n",
        "ax[0].set_title('A')\n",
        "\n",
        "ax[1].imshow(Arecon, vmin=-10, vmax=10)\n",
        "ax[1].set_title('Arecon')\n",
        "\n",
        "ax[2].imshow(A-Arecon, vmin=-10, vmax=10)\n",
        "ax[2].set_title('A-Arecon')\n",
        "\n",
        "plt.show()"
      ]
    }
  ],
  "metadata": {
    "kernelspec": {
      "display_name": "Python 3",
      "language": "python",
      "name": "python3"
    },
    "language_info": {
      "codemirror_mode": {
        "name": "ipython",
        "version": 3
      },
      "file_extension": ".py",
      "mimetype": "text/x-python",
      "name": "python",
      "nbconvert_exporter": "python",
      "pygments_lexer": "ipython3",
      "version": "3.7.3"
    },
    "colab": {
      "provenance": []
    }
  },
  "nbformat": 4,
  "nbformat_minor": 0
}