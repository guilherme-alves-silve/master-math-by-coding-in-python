{
  "nbformat": 4,
  "nbformat_minor": 0,
  "metadata": {
    "colab": {
      "name": "MXC_pymath_introduction_to_sympy_and_latex.ipynb",
      "provenance": [],
      "collapsed_sections": [
        "Px5HJeoR5BeH"
      ]
    },
    "kernelspec": {
      "name": "python3",
      "display_name": "Python 3"
    },
    "language_info": {
      "name": "python"
    }
  },
  "cells": [
    {
      "cell_type": "code",
      "execution_count": 16,
      "metadata": {
        "id": "8PQQxWPoXhxB"
      },
      "outputs": [],
      "source": [
        "import sympy as sym\n",
        "import numpy as np\n",
        "\n",
        "sym.init_printing()\n",
        "from IPython.display import display, Math"
      ]
    },
    {
      "cell_type": "code",
      "source": [
        "x, y = sym.symbols(\"x,y\")\n",
        "x"
      ],
      "metadata": {
        "colab": {
          "base_uri": "https://localhost:8080/",
          "height": 38
        },
        "id": "i6drvARlXmme",
        "outputId": "fe6a2723-68c2-481b-ce05-8c822d033123"
      },
      "execution_count": 3,
      "outputs": [
        {
          "output_type": "execute_result",
          "data": {
            "text/plain": [
              "x"
            ],
            "image/png": "[encoded data removed]",
            "text/latex": "$\\displaystyle x$"
          },
          "metadata": {},
          "execution_count": 3
        }
      ]
    },
    {
      "cell_type": "code",
      "source": [
        "y + 4"
      ],
      "metadata": {
        "colab": {
          "base_uri": "https://localhost:8080/",
          "height": 38
        },
        "id": "8ZXYiV61u4c2",
        "outputId": "ddb3dc7f-35c2-49ae-a488-3a28ba95ebd6"
      },
      "execution_count": 4,
      "outputs": [
        {
          "output_type": "execute_result",
          "data": {
            "text/plain": [
              "y + 4"
            ],
            "image/png": "[encoded data removed]",
            "text/latex": "$\\displaystyle y + 4$"
          },
          "metadata": {},
          "execution_count": 4
        }
      ]
    },
    {
      "cell_type": "code",
      "source": [
        "display(x**y)\n",
        "display(x/y)"
      ],
      "metadata": {
        "colab": {
          "base_uri": "https://localhost:8080/",
          "height": 72
        },
        "id": "2MPwcwJ7u6Pm",
        "outputId": "9cff6a9e-9708-4614-d84e-b6834a5f10f3"
      },
      "execution_count": 6,
      "outputs": [
        {
          "output_type": "display_data",
          "data": {
            "text/plain": [
              " y\n",
              "x "
            ],
            "image/png": "[encoded data removed]",
            "text/latex": "$\\displaystyle x^{y}$"
          },
          "metadata": {}
        },
        {
          "output_type": "display_data",
          "data": {
            "text/plain": [
              "x\n",
              "─\n",
              "y"
            ],
            "image/png": "[encoded data removed]",
            "text/latex": "$\\displaystyle \\frac{x}{y}$"
          },
          "metadata": {}
        }
      ]
    },
    {
      "cell_type": "code",
      "source": [
        "display(np.sqrt(2))\n",
        "display(sym.sqrt(2))"
      ],
      "metadata": {
        "colab": {
          "base_uri": "https://localhost:8080/",
          "height": 59
        },
        "id": "8qKLwL7bu7nO",
        "outputId": "89d161a8-030c-4577-eab8-ffddee1dc236"
      },
      "execution_count": 7,
      "outputs": [
        {
          "output_type": "display_data",
          "data": {
            "text/plain": [
              "1.4142135623730951"
            ],
            "image/png": "[encoded data removed]",
            "text/latex": "$\\displaystyle 1.4142135623731$"
          },
          "metadata": {}
        },
        {
          "output_type": "display_data",
          "data": {
            "text/plain": [
              "√2"
            ],
            "image/png": "[encoded data removed]",
            "text/latex": "$\\displaystyle \\sqrt{2}$"
          },
          "metadata": {}
        }
      ]
    },
    {
      "cell_type": "markdown",
      "source": [
        "## Exercise 1"
      ],
      "metadata": {
        "id": "63gj6biFvV89"
      }
    },
    {
      "cell_type": "code",
      "source": [
        "y * x**2"
      ],
      "metadata": {
        "colab": {
          "base_uri": "https://localhost:8080/",
          "height": 38
        },
        "id": "NtV0iUr0vBXX",
        "outputId": "fb3d4d6f-c80e-407d-88a9-3c62f8455dd6"
      },
      "execution_count": 10,
      "outputs": [
        {
          "output_type": "execute_result",
          "data": {
            "text/plain": [
              " 2  \n",
              "x ⋅y"
            ],
            "image/png": "[encoded data removed]",
            "text/latex": "$\\displaystyle x^{2} y$"
          },
          "metadata": {},
          "execution_count": 10
        }
      ]
    },
    {
      "cell_type": "markdown",
      "source": [
        "## Exercise 2"
      ],
      "metadata": {
        "id": "sYiunK_fvbTa"
      }
    },
    {
      "cell_type": "code",
      "source": [
        "sym.sqrt(4*x)"
      ],
      "metadata": {
        "id": "KnWZGn5AvNCO"
      },
      "execution_count": null,
      "outputs": []
    },
    {
      "cell_type": "markdown",
      "source": [
        "## Exercise 3"
      ],
      "metadata": {
        "id": "Es2OZ_Cfvcf8"
      }
    },
    {
      "cell_type": "code",
      "source": [
        "display(Math('\\\\sqrt{x}\\\\sqrt{x}'))"
      ],
      "metadata": {
        "colab": {
          "base_uri": "https://localhost:8080/",
          "height": 37
        },
        "id": "J1MnsdSSvc4U",
        "outputId": "ef11199a-1b81-483e-a73d-00bb2cb769b6"
      },
      "execution_count": 32,
      "outputs": [
        {
          "output_type": "display_data",
          "data": {
            "text/plain": [
              "<IPython.core.display.Math object>"
            ],
            "text/latex": "$$\\sqrt{x}\\sqrt{x}$$"
          },
          "metadata": {}
        }
      ]
    },
    {
      "cell_type": "code",
      "source": [
        "display(Math('4 + 3 = 7'))"
      ],
      "metadata": {
        "colab": {
          "base_uri": "https://localhost:8080/",
          "height": 37
        },
        "id": "kUHHiQDnv85G",
        "outputId": "3d9c14ab-f11f-42f0-d2b6-b175c53abbf2"
      },
      "execution_count": 17,
      "outputs": [
        {
          "output_type": "display_data",
          "data": {
            "text/plain": [
              "<IPython.core.display.Math object>"
            ],
            "text/latex": "$$4 + 3 = 7$$"
          },
          "metadata": {}
        }
      ]
    },
    {
      "cell_type": "code",
      "source": [
        "display(Math('\\\\sigma = \\\\mu \\\\times \\\\sqrt{5}'))"
      ],
      "metadata": {
        "colab": {
          "base_uri": "https://localhost:8080/",
          "height": 39
        },
        "id": "vymZeSfjxS5P",
        "outputId": "0179a7b6-f4cf-4380-8db7-2d688b5e5f9e"
      },
      "execution_count": 19,
      "outputs": [
        {
          "output_type": "display_data",
          "data": {
            "text/plain": [
              "<IPython.core.display.Math object>"
            ],
            "text/latex": "$$\\sigma = \\mu \\times \\sqrt{5}$$"
          },
          "metadata": {}
        }
      ]
    },
    {
      "cell_type": "code",
      "source": [
        "display(Math('sigmoid\\' = \\\\sigma(x) * (1 - \\\\sigma(x))'))"
      ],
      "metadata": {
        "colab": {
          "base_uri": "https://localhost:8080/",
          "height": 38
        },
        "id": "C_m8sEcdxbSm",
        "outputId": "ee281f88-0c12-49f2-a314-bda06253177c"
      },
      "execution_count": 23,
      "outputs": [
        {
          "output_type": "display_data",
          "data": {
            "text/plain": [
              "<IPython.core.display.Math object>"
            ],
            "text/latex": "$$sigmoid' = \\sigma(x) * (1 - \\sigma(x))$$"
          },
          "metadata": {}
        }
      ]
    },
    {
      "cell_type": "code",
      "source": [
        "display(Math('\\\\sigma = \\\\mu \\\\times \\\\sqrt{5x*3z-17u}'))"
      ],
      "metadata": {
        "colab": {
          "base_uri": "https://localhost:8080/",
          "height": 38
        },
        "id": "g0cewmetymAn",
        "outputId": "025993c3-bce0-4c6b-ae33-967b152c8f9c"
      },
      "execution_count": 28,
      "outputs": [
        {
          "output_type": "display_data",
          "data": {
            "text/plain": [
              "<IPython.core.display.Math object>"
            ],
            "text/latex": "$$\\sigma = \\mu \\times \\sqrt{5x*3z-17u}$$"
          },
          "metadata": {}
        }
      ]
    },
    {
      "cell_type": "code",
      "source": [
        "display(Math('x_m'))\n",
        "display(Math('x_{mm}'))\n",
        "display(Math('x_{mm} + y^{nk}'))\n",
        "display(Math('x_{mm} + y^{n+2k-15}'))"
      ],
      "metadata": {
        "colab": {
          "base_uri": "https://localhost:8080/",
          "height": 102
        },
        "id": "yzAHCSmOxm8H",
        "outputId": "3148707f-6cfd-4c84-8ad8-6d31cfd4a3d9"
      },
      "execution_count": 27,
      "outputs": [
        {
          "output_type": "display_data",
          "data": {
            "text/plain": [
              "<IPython.core.display.Math object>"
            ],
            "text/latex": "$$x_m$$"
          },
          "metadata": {}
        },
        {
          "output_type": "display_data",
          "data": {
            "text/plain": [
              "<IPython.core.display.Math object>"
            ],
            "text/latex": "$$x_{mm}$$"
          },
          "metadata": {}
        },
        {
          "output_type": "display_data",
          "data": {
            "text/plain": [
              "<IPython.core.display.Math object>"
            ],
            "text/latex": "$$x_{mm} + y^{nk}$$"
          },
          "metadata": {}
        },
        {
          "output_type": "display_data",
          "data": {
            "text/plain": [
              "<IPython.core.display.Math object>"
            ],
            "text/latex": "$$x_{mm} + y^{n+2k-15}$$"
          },
          "metadata": {}
        }
      ]
    },
    {
      "cell_type": "code",
      "source": [
        "display(Math('\\\\text{The answer to this equation is } \\\\frac{i+x}{2v-s^{t+4r}+x_{nm}}'))"
      ],
      "metadata": {
        "colab": {
          "base_uri": "https://localhost:8080/",
          "height": 40
        },
        "id": "50iVBWuUx8ev",
        "outputId": "f054e168-9e7d-407c-890f-bc91a5be34ef"
      },
      "execution_count": 37,
      "outputs": [
        {
          "output_type": "display_data",
          "data": {
            "text/plain": [
              "<IPython.core.display.Math object>"
            ],
            "text/latex": "$$\\text{The answer to this equation is } \\frac{i+x}{2v-s^{t+4r}+x_{nm}}$$"
          },
          "metadata": {}
        }
      ]
    },
    {
      "cell_type": "markdown",
      "source": [
        "## Markdown\n",
        "\n",
        "$\\frac{i+x}{2v-s^{t+4r}+x_{nm}}$"
      ],
      "metadata": {
        "id": "Px5HJeoR5BeH"
      }
    },
    {
      "cell_type": "markdown",
      "source": [
        "## Exercises\n",
        "\n",
        "1) $4x + 5y - 8z = 17$\n",
        "\n",
        "2) $\\sin(2\\pi ft+\\theta)$\n",
        "\n",
        "3) $e = mc^2$\n",
        "\n",
        "4) $\\frac{4+5x^2}{(1+x)(1-x)}$"
      ],
      "metadata": {
        "id": "0k5zvLBD59b1"
      }
    },
    {
      "cell_type": "code",
      "source": [
        "display(Math('4x + 5y - 8z = 17'))\n",
        "\n",
        "display(Math('\\\\sin(2\\\\pi ft + \\\\theta)'))\n",
        "\n",
        "display(Math('e=mc^2'))\n",
        "\n",
        "display(Math('\\\\frac{4+5x^2}{(1+x)(1-x)}'))"
      ],
      "metadata": {
        "colab": {
          "base_uri": "https://localhost:8080/",
          "height": 107
        },
        "id": "LbmcLZXZ6C1H",
        "outputId": "94b93126-9997-46f9-e47b-ab97fd60411f"
      },
      "execution_count": 53,
      "outputs": [
        {
          "output_type": "display_data",
          "data": {
            "text/plain": [
              "<IPython.core.display.Math object>"
            ],
            "text/latex": "$$4x + 5y - 8z = 17$$"
          },
          "metadata": {}
        },
        {
          "output_type": "display_data",
          "data": {
            "text/plain": [
              "<IPython.core.display.Math object>"
            ],
            "text/latex": "$$\\sin(2\\pi ft + \\theta)$$"
          },
          "metadata": {}
        },
        {
          "output_type": "display_data",
          "data": {
            "text/plain": [
              "<IPython.core.display.Math object>"
            ],
            "text/latex": "$$e=mc^2$$"
          },
          "metadata": {}
        },
        {
          "output_type": "display_data",
          "data": {
            "text/plain": [
              "<IPython.core.display.Math object>"
            ],
            "text/latex": "$$\\frac{4+5x^2}{(1+x)(1-x)}$$"
          },
          "metadata": {}
        }
      ]
    },
    {
      "cell_type": "code",
      "source": [
        "mu, alpha, sigma = sym.symbols('mu,alpha,sigma')\n",
        "\n",
        "expr = sym.exp((mu-alpha)**2 / (2*sigma*2))\n",
        "display(expr)"
      ],
      "metadata": {
        "colab": {
          "base_uri": "https://localhost:8080/",
          "height": 45
        },
        "id": "9G4p29KZ69eA",
        "outputId": "72a7807c-6f7f-4250-d79e-523e22af2fee"
      },
      "execution_count": 56,
      "outputs": [
        {
          "output_type": "display_data",
          "data": {
            "text/plain": [
              "         2\n",
              " (-α + μ) \n",
              " ─────────\n",
              "    4⋅σ   \n",
              "ℯ         "
            ],
            "image/png": "[encoded data removed]",
            "text/latex": "$\\displaystyle e^{\\frac{\\left(- \\alpha + \\mu\\right)^{2}}{4 \\sigma}}$"
          },
          "metadata": {}
        }
      ]
    },
    {
      "cell_type": "code",
      "source": [
        "hello = sym.symbols('hello')\n",
        "hello/3"
      ],
      "metadata": {
        "colab": {
          "base_uri": "https://localhost:8080/",
          "height": 52
        },
        "id": "Uz5BqZsV8CgC",
        "outputId": "bf7fae98-a63b-4bd0-840e-7e59575b6ba3"
      },
      "execution_count": 58,
      "outputs": [
        {
          "output_type": "execute_result",
          "data": {
            "text/plain": [
              "hello\n",
              "─────\n",
              "  3  "
            ],
            "image/png": "[encoded data removed]",
            "text/latex": "$\\displaystyle \\frac{hello}{3}$"
          },
          "metadata": {},
          "execution_count": 58
        }
      ]
    },
    {
      "cell_type": "code",
      "source": [
        "x = sym.symbols('x')\n",
        "expr = x+4\n",
        "display(expr)\n",
        "expr.subs(x, 6)"
      ],
      "metadata": {
        "colab": {
          "base_uri": "https://localhost:8080/",
          "height": 59
        },
        "id": "VBln1eqJ8awx",
        "outputId": "51e1a236-449a-4252-8cf5-1980db58db09"
      },
      "execution_count": 60,
      "outputs": [
        {
          "output_type": "display_data",
          "data": {
            "text/plain": [
              "x + 4"
            ],
            "image/png": "[encoded data removed]",
            "text/latex": "$\\displaystyle x + 4$"
          },
          "metadata": {}
        },
        {
          "output_type": "execute_result",
          "data": {
            "text/plain": [
              "10"
            ],
            "image/png": "[encoded data removed]",
            "text/latex": "$\\displaystyle 10$"
          },
          "metadata": {},
          "execution_count": 60
        }
      ]
    },
    {
      "cell_type": "code",
      "source": [
        "x, y = sym.symbols('x,y')\n",
        "expr = x + 4 + 2*y\n",
        "expr.subs(x, -4)"
      ],
      "metadata": {
        "colab": {
          "base_uri": "https://localhost:8080/",
          "height": 38
        },
        "id": "jNPZ60bS8lZ7",
        "outputId": "cb769595-18f0-4f7d-bdeb-bf7091504bac"
      },
      "execution_count": 61,
      "outputs": [
        {
          "output_type": "execute_result",
          "data": {
            "text/plain": [
              "2⋅y"
            ],
            "image/png": "[encoded data removed]",
            "text/latex": "$\\displaystyle 2 y$"
          },
          "metadata": {},
          "execution_count": 61
        }
      ]
    },
    {
      "cell_type": "code",
      "source": [
        "expr.subs({\n",
        "    x: -4,\n",
        "    y: 3\n",
        "})"
      ],
      "metadata": {
        "colab": {
          "base_uri": "https://localhost:8080/",
          "height": 37
        },
        "id": "8sK64KD583CK",
        "outputId": "c20443bd-66fe-4f65-d8c1-7ae0497ba738"
      },
      "execution_count": 62,
      "outputs": [
        {
          "output_type": "execute_result",
          "data": {
            "text/plain": [
              "6"
            ],
            "image/png": "[encoded data removed]",
            "text/latex": "$\\displaystyle 6$"
          },
          "metadata": {},
          "execution_count": 62
        }
      ]
    },
    {
      "cell_type": "code",
      "source": [
        "expr = 3/x\n",
        "sym.latex(expr)"
      ],
      "metadata": {
        "colab": {
          "base_uri": "https://localhost:8080/",
          "height": 35
        },
        "id": "QNiCLJOc9DXK",
        "outputId": "bc4779c8-bb7d-4389-b7d9-7961065e436d"
      },
      "execution_count": 63,
      "outputs": [
        {
          "output_type": "execute_result",
          "data": {
            "text/plain": [
              "'\\\\frac{3}{x}'"
            ],
            "application/vnd.google.colaboratory.intrinsic+json": {
              "type": "string"
            }
          },
          "metadata": {},
          "execution_count": 63
        }
      ]
    },
    {
      "cell_type": "code",
      "source": [
        "display(Math(sym.latex(expr)))"
      ],
      "metadata": {
        "colab": {
          "base_uri": "https://localhost:8080/",
          "height": 38
        },
        "id": "jLTPWryd9JJa",
        "outputId": "e1641fb9-7cd8-46e3-8661-71c693d3461f"
      },
      "execution_count": 64,
      "outputs": [
        {
          "output_type": "display_data",
          "data": {
            "text/plain": [
              "<IPython.core.display.Math object>"
            ],
            "text/latex": "$$\\frac{3}{x}$$"
          },
          "metadata": {}
        }
      ]
    },
    {
      "cell_type": "code",
      "source": [
        "sym.latex('3/4')"
      ],
      "metadata": {
        "colab": {
          "base_uri": "https://localhost:8080/",
          "height": 35
        },
        "id": "XyvQKe6b9Oha",
        "outputId": "189b68c8-67a3-4d7a-f30c-b22ac617a745"
      },
      "execution_count": 65,
      "outputs": [
        {
          "output_type": "execute_result",
          "data": {
            "text/plain": [
              "'\\\\mathtt{\\\\text{3/4}}'"
            ],
            "application/vnd.google.colaboratory.intrinsic+json": {
              "type": "string"
            }
          },
          "metadata": {},
          "execution_count": 65
        }
      ]
    },
    {
      "cell_type": "code",
      "source": [
        "sym.latex(sym.sympify('3/4'))"
      ],
      "metadata": {
        "colab": {
          "base_uri": "https://localhost:8080/",
          "height": 35
        },
        "id": "JTI4jsMr9vGK",
        "outputId": "544f9f2d-766f-4091-b054-1f5f70447ec0"
      },
      "execution_count": 66,
      "outputs": [
        {
          "output_type": "execute_result",
          "data": {
            "text/plain": [
              "'\\\\frac{3}{4}'"
            ],
            "application/vnd.google.colaboratory.intrinsic+json": {
              "type": "string"
            }
          },
          "metadata": {},
          "execution_count": 66
        }
      ]
    },
    {
      "cell_type": "code",
      "source": [
        "display(Math(sym.latex(sym.sympify('3/4'))))"
      ],
      "metadata": {
        "colab": {
          "base_uri": "https://localhost:8080/",
          "height": 38
        },
        "id": "p2nQMjJI90Pp",
        "outputId": "7a3446a7-99a3-4078-f4ae-ad7ef5e9e178"
      },
      "execution_count": 67,
      "outputs": [
        {
          "output_type": "display_data",
          "data": {
            "text/plain": [
              "<IPython.core.display.Math object>"
            ],
            "text/latex": "$$\\frac{3}{4}$$"
          },
          "metadata": {}
        }
      ]
    },
    {
      "cell_type": "markdown",
      "source": [
        "Exercises"
      ],
      "metadata": {
        "id": "XFuDyMBQ-Fae"
      }
    },
    {
      "cell_type": "code",
      "source": [
        "expr = x**2 + 4\n",
        "for value in range(-2, 3):\n",
        "  display(Math('\\\\text{With }x=%g. \\\\quad x^2 + 4 \\\\quad \\\\Rightarrow \\\\quad %g^2 + 4 = %g' % (value, value, expr.subs(x, value))))"
      ],
      "metadata": {
        "colab": {
          "base_uri": "https://localhost:8080/",
          "height": 124
        },
        "id": "FJbu2yAh-DsQ",
        "outputId": "05e92777-0af7-49d7-815c-21782e035b1c"
      },
      "execution_count": 95,
      "outputs": [
        {
          "output_type": "display_data",
          "data": {
            "text/plain": [
              "<IPython.core.display.Math object>"
            ],
            "text/latex": "$$\\text{With }x=-2. \\quad x^2 + 4 \\quad \\Rightarrow \\quad -2^2 + 4 = 8$$"
          },
          "metadata": {}
        },
        {
          "output_type": "display_data",
          "data": {
            "text/plain": [
              "<IPython.core.display.Math object>"
            ],
            "text/latex": "$$\\text{With }x=-1. \\quad x^2 + 4 \\quad \\Rightarrow \\quad -1^2 + 4 = 5$$"
          },
          "metadata": {}
        },
        {
          "output_type": "display_data",
          "data": {
            "text/plain": [
              "<IPython.core.display.Math object>"
            ],
            "text/latex": "$$\\text{With }x=0. \\quad x^2 + 4 \\quad \\Rightarrow \\quad 0^2 + 4 = 4$$"
          },
          "metadata": {}
        },
        {
          "output_type": "display_data",
          "data": {
            "text/plain": [
              "<IPython.core.display.Math object>"
            ],
            "text/latex": "$$\\text{With }x=1. \\quad x^2 + 4 \\quad \\Rightarrow \\quad 1^2 + 4 = 5$$"
          },
          "metadata": {}
        },
        {
          "output_type": "display_data",
          "data": {
            "text/plain": [
              "<IPython.core.display.Math object>"
            ],
            "text/latex": "$$\\text{With }x=2. \\quad x^2 + 4 \\quad \\Rightarrow \\quad 2^2 + 4 = 8$$"
          },
          "metadata": {}
        }
      ]
    },
    {
      "cell_type": "code",
      "source": [
        "expr = x**2 + 4\n",
        "for value in range(-2, 3):\n",
        "  answer = (x + 4).subs(x, value**2)\n",
        "  display(Math('\\\\text{With }x=%g. \\\\quad x^2 + 4 \\\\quad \\\\Rightarrow \\\\quad %g^2 + 4 = %g' % (value, value, answer)))\n"
      ],
      "metadata": {
        "colab": {
          "base_uri": "https://localhost:8080/",
          "height": 124
        },
        "id": "S64ZG_cR_kCz",
        "outputId": "97f91013-7cf7-4981-c1ea-82d2c6999a6c"
      },
      "execution_count": 98,
      "outputs": [
        {
          "output_type": "display_data",
          "data": {
            "text/plain": [
              "<IPython.core.display.Math object>"
            ],
            "text/latex": "$$\\text{With }x=-2. \\quad x^2 + 4 \\quad \\Rightarrow \\quad -2^2 + 4 = 8$$"
          },
          "metadata": {}
        },
        {
          "output_type": "display_data",
          "data": {
            "text/plain": [
              "<IPython.core.display.Math object>"
            ],
            "text/latex": "$$\\text{With }x=-1. \\quad x^2 + 4 \\quad \\Rightarrow \\quad -1^2 + 4 = 5$$"
          },
          "metadata": {}
        },
        {
          "output_type": "display_data",
          "data": {
            "text/plain": [
              "<IPython.core.display.Math object>"
            ],
            "text/latex": "$$\\text{With }x=0. \\quad x^2 + 4 \\quad \\Rightarrow \\quad 0^2 + 4 = 4$$"
          },
          "metadata": {}
        },
        {
          "output_type": "display_data",
          "data": {
            "text/plain": [
              "<IPython.core.display.Math object>"
            ],
            "text/latex": "$$\\text{With }x=1. \\quad x^2 + 4 \\quad \\Rightarrow \\quad 1^2 + 4 = 5$$"
          },
          "metadata": {}
        },
        {
          "output_type": "display_data",
          "data": {
            "text/plain": [
              "<IPython.core.display.Math object>"
            ],
            "text/latex": "$$\\text{With }x=2. \\quad x^2 + 4 \\quad \\Rightarrow \\quad 2^2 + 4 = 8$$"
          },
          "metadata": {}
        }
      ]
    },
    {
      "cell_type": "code",
      "source": [
        "x, y, z = sym.symbols('x,y,z')\n",
        "expr1 = x**y * x**z\n",
        "expr2 = x**y * x**-z\n",
        "expr3 = x**y / x**z\n",
        "display(Math('%s = %s' % (sym.latex(expr1), sym.latex(sym.simplify(expr1)))))\n",
        "display(Math('%s = %s' % (sym.latex(expr2), sym.latex(sym.simplify(expr2)))))\n",
        "display(Math('%s = %s' % (sym.latex(expr3), sym.latex(sym.simplify(expr3)))))"
      ],
      "metadata": {
        "colab": {
          "base_uri": "https://localhost:8080/",
          "height": 81
        },
        "id": "62tPi4xZDs69",
        "outputId": "f825e58d-df04-4bc1-e08a-957da42683d2"
      },
      "execution_count": 105,
      "outputs": [
        {
          "output_type": "display_data",
          "data": {
            "text/plain": [
              "<IPython.core.display.Math object>"
            ],
            "text/latex": "$$x^{y} x^{z} = x^{y + z}$$"
          },
          "metadata": {}
        },
        {
          "output_type": "display_data",
          "data": {
            "text/plain": [
              "<IPython.core.display.Math object>"
            ],
            "text/latex": "$$x^{y} x^{- z} = x^{y - z}$$"
          },
          "metadata": {}
        },
        {
          "output_type": "display_data",
          "data": {
            "text/plain": [
              "<IPython.core.display.Math object>"
            ],
            "text/latex": "$$x^{y} x^{- z} = x^{y - z}$$"
          },
          "metadata": {}
        }
      ]
    },
    {
      "cell_type": "code",
      "source": [
        "sym.Eq(4, 2+2)"
      ],
      "metadata": {
        "colab": {
          "base_uri": "https://localhost:8080/",
          "height": 37
        },
        "id": "_UK3IGXMErUs",
        "outputId": "7f40638d-ff09-4ddf-937a-7df13d27e3c4"
      },
      "execution_count": 106,
      "outputs": [
        {
          "output_type": "execute_result",
          "data": {
            "text/plain": [
              "True"
            ],
            "text/latex": "$\\displaystyle \\text{True}$"
          },
          "metadata": {},
          "execution_count": 106
        }
      ]
    },
    {
      "cell_type": "code",
      "source": [
        "sym.Eq(4, 2-1)"
      ],
      "metadata": {
        "colab": {
          "base_uri": "https://localhost:8080/",
          "height": 37
        },
        "id": "7kMcn6KoGHf9",
        "outputId": "b4cfc686-d83d-4fec-df03-81b9097a41c0"
      },
      "execution_count": 107,
      "outputs": [
        {
          "output_type": "execute_result",
          "data": {
            "text/plain": [
              "False"
            ],
            "text/latex": "$\\displaystyle \\text{False}$"
          },
          "metadata": {},
          "execution_count": 107
        }
      ]
    },
    {
      "cell_type": "code",
      "source": [
        "sym.Eq(sym.expand(expr1-sym.simplify(expr1)), 0)"
      ],
      "metadata": {
        "colab": {
          "base_uri": "https://localhost:8080/",
          "height": 37
        },
        "id": "qwAi_7vgGJAl",
        "outputId": "758b46f7-8147-44ab-fc0c-eec0913cd6e6"
      },
      "execution_count": 109,
      "outputs": [
        {
          "output_type": "execute_result",
          "data": {
            "text/plain": [
              "True"
            ],
            "text/latex": "$\\displaystyle \\text{True}$"
          },
          "metadata": {},
          "execution_count": 109
        }
      ]
    },
    {
      "cell_type": "code",
      "source": [
        "display(sym.powsimp(expr1))"
      ],
      "metadata": {
        "colab": {
          "base_uri": "https://localhost:8080/",
          "height": 38
        },
        "id": "lYgwXds9GjLW",
        "outputId": "b21017e0-9167-436c-ccf6-fc078be1a24c"
      },
      "execution_count": 110,
      "outputs": [
        {
          "output_type": "display_data",
          "data": {
            "text/plain": [
              " y + z\n",
              "x     "
            ],
            "image/png": "[encoded data removed]",
            "text/latex": "$\\displaystyle x^{y + z}$"
          },
          "metadata": {}
        }
      ]
    },
    {
      "cell_type": "markdown",
      "source": [
        "# Sympy and LaTex: Bug hunt!"
      ],
      "metadata": {
        "id": "mfABsbHKG9uH"
      }
    },
    {
      "cell_type": "code",
      "source": [
        "import sympy as sym\n",
        "from IPython.display import display"
      ],
      "metadata": {
        "id": "Hb7HlW-9I06q"
      },
      "execution_count": 132,
      "outputs": []
    },
    {
      "cell_type": "code",
      "source": [
        "mu, alpha = sym.symbols('mu,alpha')\n",
        "expr = 2*sym.exp(mu**2/alpha)\n",
        "display(Math(sym.latex(expr)))"
      ],
      "metadata": {
        "colab": {
          "base_uri": "https://localhost:8080/",
          "height": 44
        },
        "id": "71gII-grGsiF",
        "outputId": "69387622-9cc7-41be-9b3d-276625ec43e7"
      },
      "execution_count": 120,
      "outputs": [
        {
          "output_type": "display_data",
          "data": {
            "text/plain": [
              "<IPython.core.display.Math object>"
            ],
            "text/latex": "$$2 e^{\\frac{\\mu^{2}}{\\alpha}}$$"
          },
          "metadata": {}
        }
      ]
    },
    {
      "cell_type": "code",
      "source": [
        "display(Math('1234 + \\\\frac{3x}{\\\\sin(2\\\\pi t+\\\\theta)}'))"
      ],
      "metadata": {
        "colab": {
          "base_uri": "https://localhost:8080/",
          "height": 41
        },
        "id": "MW5jAQ8uHJFl",
        "outputId": "59ba9170-c25c-4343-8e55-5fd7d358b65d"
      },
      "execution_count": 122,
      "outputs": [
        {
          "output_type": "display_data",
          "data": {
            "text/plain": [
              "<IPython.core.display.Math object>"
            ],
            "text/latex": "$$1234 + \\frac{3x}{\\sin(2\\pi t+\\theta)}$$"
          },
          "metadata": {}
        }
      ]
    },
    {
      "cell_type": "code",
      "source": [
        "a = 3\n",
        "b = 4\n",
        "\n",
        "# answer should be 7\n",
        "print(sym.sympify(a+b))"
      ],
      "metadata": {
        "colab": {
          "base_uri": "https://localhost:8080/"
        },
        "id": "ZSdG74BKHSxd",
        "outputId": "7e7e43fc-e155-47c0-c414-2f180a696043"
      },
      "execution_count": 123,
      "outputs": [
        {
          "output_type": "stream",
          "name": "stdout",
          "text": [
            "7\n"
          ]
        }
      ]
    },
    {
      "cell_type": "code",
      "source": [
        "x = sym.symbols('x')\n",
        "sym.Eq((4 * x).subs(x, 0.5), 2)"
      ],
      "metadata": {
        "colab": {
          "base_uri": "https://localhost:8080/",
          "height": 37
        },
        "id": "wpzFTrXEHXsl",
        "outputId": "180445e2-75e3-46e4-83f3-4b2afed30480"
      },
      "execution_count": 125,
      "outputs": [
        {
          "output_type": "execute_result",
          "data": {
            "text/plain": [
              "True"
            ],
            "text/latex": "$\\displaystyle \\text{True}$"
          },
          "metadata": {},
          "execution_count": 125
        }
      ]
    },
    {
      "cell_type": "code",
      "source": [
        "q = x**2\n",
        "r = x**2\n",
        "\n",
        "display(q)\n",
        "display(r)"
      ],
      "metadata": {
        "colab": {
          "base_uri": "https://localhost:8080/",
          "height": 60
        },
        "id": "QfZ3RZ5yHZ6l",
        "outputId": "02098a1b-115b-464c-cce8-55898b0726bb"
      },
      "execution_count": 126,
      "outputs": [
        {
          "output_type": "display_data",
          "data": {
            "text/plain": [
              " 2\n",
              "x "
            ],
            "image/png": "[encoded data removed]",
            "text/latex": "$\\displaystyle x^{2}$"
          },
          "metadata": {}
        },
        {
          "output_type": "display_data",
          "data": {
            "text/plain": [
              " 2\n",
              "x "
            ],
            "image/png": "[encoded data removed]",
            "text/latex": "$\\displaystyle x^{2}$"
          },
          "metadata": {}
        }
      ]
    },
    {
      "cell_type": "code",
      "source": [
        "# part 2 of 2\n",
        "\n",
        "q, r = sym.symbols('q,r')\n",
        "q = sym.sympify('x^2')\n",
        "r = sym.sympify('x**2')\n",
        "\n",
        "display(q)\n",
        "display(r)\n",
        "\n",
        "sym.Eq(q, r)"
      ],
      "metadata": {
        "colab": {
          "base_uri": "https://localhost:8080/",
          "height": 80
        },
        "id": "FhuhVbaXHdxN",
        "outputId": "36539391-f504-42eb-fd52-430064b6d24d"
      },
      "execution_count": 127,
      "outputs": [
        {
          "output_type": "display_data",
          "data": {
            "text/plain": [
              " 2\n",
              "x "
            ],
            "image/png": "[encoded data removed]",
            "text/latex": "$\\displaystyle x^{2}$"
          },
          "metadata": {}
        },
        {
          "output_type": "display_data",
          "data": {
            "text/plain": [
              " 2\n",
              "x "
            ],
            "image/png": "[encoded data removed]",
            "text/latex": "$\\displaystyle x^{2}$"
          },
          "metadata": {}
        },
        {
          "output_type": "execute_result",
          "data": {
            "text/plain": [
              "True"
            ],
            "text/latex": "$\\displaystyle \\text{True}$"
          },
          "metadata": {},
          "execution_count": 127
        }
      ]
    },
    {
      "cell_type": "code",
      "source": [
        "x = sym.symbols('x')\n",
        "\n",
        "equation = (4*x**2 - 5*x + 10) ** (1/2)\n",
        "display(equation)\n",
        "equation.subs(x, 3)"
      ],
      "metadata": {
        "colab": {
          "base_uri": "https://localhost:8080/",
          "height": 62
        },
        "id": "f-pyGltpHsdd",
        "outputId": "fae66c8a-f65b-48ee-9187-03b4d7341562"
      },
      "execution_count": 129,
      "outputs": [
        {
          "output_type": "display_data",
          "data": {
            "text/plain": [
              "                 0.5\n",
              "⎛   2           ⎞   \n",
              "⎝4⋅x  - 5⋅x + 10⎠   "
            ],
            "image/png": "[encoded data removed]",
            "text/latex": "$\\displaystyle \\left(4 x^{2} - 5 x + 10\\right)^{0.5}$"
          },
          "metadata": {}
        },
        {
          "output_type": "execute_result",
          "data": {
            "text/plain": [
              "5.56776436283002"
            ],
            "image/png": "[encoded data removed]",
            "text/latex": "$\\displaystyle 5.56776436283002$"
          },
          "metadata": {},
          "execution_count": 129
        }
      ]
    },
    {
      "cell_type": "code",
      "source": [
        "x, y = sym.symbols('x,y')\n",
        "equation = 1/4*x*y**2 - x*(5*x + 10*y**2)**(3)\n",
        "display(equation)"
      ],
      "metadata": {
        "colab": {
          "base_uri": "https://localhost:8080/",
          "height": 41
        },
        "id": "czNZgLa8H4Ml",
        "outputId": "c96877eb-6b2f-48d8-f625-f86dd3483576"
      },
      "execution_count": 130,
      "outputs": [
        {
          "output_type": "display_data",
          "data": {
            "text/plain": [
              "                           3\n",
              "        2     ⎛          2⎞ \n",
              "0.25⋅x⋅y  - x⋅⎝5⋅x + 10⋅y ⎠ "
            ],
            "image/png": "[encoded data removed]",
            "text/latex": "$\\displaystyle 0.25 x y^{2} - x \\left(5 x + 10 y^{2}\\right)^{3}$"
          },
          "metadata": {}
        }
      ]
    },
    {
      "cell_type": "code",
      "source": [
        ""
      ],
      "metadata": {
        "id": "9eQvPV1yH_6u"
      },
      "execution_count": null,
      "outputs": []
    }
  ]
}