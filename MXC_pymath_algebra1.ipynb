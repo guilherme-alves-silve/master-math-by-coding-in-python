{
  "nbformat": 4,
  "nbformat_minor": 0,
  "metadata": {
    "colab": {
      "name": "MXC_pymath_algebra_1.ipynb",
      "provenance": [],
      "collapsed_sections": []
    },
    "kernelspec": {
      "name": "python3",
      "display_name": "Python 3"
    },
    "language_info": {
      "name": "python"
    }
  },
  "cells": [
    {
      "cell_type": "code",
      "execution_count": 1,
      "metadata": {
        "id": "v4JWE6Stl77k"
      },
      "outputs": [],
      "source": [
        "import sympy as sym\n",
        "import numpy as np\n",
        " \n",
        "from IPython.display import display, Math\n",
        "from sympy.abc import x, y"
      ]
    },
    {
      "cell_type": "code",
      "source": [
        "x = sym.symbols(\"x\")\n",
        "# 2*x + 4 - 9 = 0\n",
        "expr = 2*x + 4 - 9\n",
        "sym.solve(expr)"
      ],
      "metadata": {
        "colab": {
          "base_uri": "https://localhost:8080/"
        },
        "id": "cAa5IPeeoCSS",
        "outputId": "a9a7f091-86e7-4892-a68e-46afd5d706ba"
      },
      "execution_count": 2,
      "outputs": [
        {
          "output_type": "execute_result",
          "data": {
            "text/plain": [
              "[5/2]"
            ]
          },
          "metadata": {},
          "execution_count": 2
        }
      ]
    },
    {
      "cell_type": "markdown",
      "source": [
        ""
      ],
      "metadata": {
        "id": "B56no6ZBoj7H"
      }
    },
    {
      "cell_type": "code",
      "source": [
        "display(Math(\"\\\\text{The solution to } %s \\\\text{ is x =} %s \" % (sym.latex(expr), sym.latex(sym.solve(expr)))))"
      ],
      "metadata": {
        "colab": {
          "base_uri": "https://localhost:8080/",
          "height": 38
        },
        "id": "JI26FuWroJea",
        "outputId": "0f144cb7-6032-4b9d-99ec-36c7c4644b8a"
      },
      "execution_count": 3,
      "outputs": [
        {
          "output_type": "display_data",
          "data": {
            "text/plain": [
              "<IPython.core.display.Math object>"
            ],
            "text/latex": "$$\\text{The solution to } 2 x - 5 \\text{ is x =} \\left[ \\frac{5}{2}\\right] $$"
          },
          "metadata": {}
        }
      ]
    },
    {
      "cell_type": "code",
      "source": [
        "solutions = sym.solve(x**2 - 4)\n",
        "print(type(solutions))\n",
        "print(len(solutions))\n",
        "solutions"
      ],
      "metadata": {
        "colab": {
          "base_uri": "https://localhost:8080/"
        },
        "id": "8VaBTsP_oaRB",
        "outputId": "e7e81b71-8bd3-4dc4-fe2b-e3ec40f5d692"
      },
      "execution_count": 4,
      "outputs": [
        {
          "output_type": "stream",
          "name": "stdout",
          "text": [
            "<class 'list'>\n",
            "2\n"
          ]
        },
        {
          "output_type": "execute_result",
          "data": {
            "text/plain": [
              "[-2, 2]"
            ]
          },
          "metadata": {},
          "execution_count": 4
        }
      ]
    },
    {
      "cell_type": "code",
      "source": [
        "y = sym.symbols('y')\n",
        "expr = x/4 - x*y + 5\n",
        "print(\"Solution for x: \" + str(sym.solve(expr, x)[0]))\n",
        "print(\"Solution for y: \" + str(sym.solve(expr, y)[0]))"
      ],
      "metadata": {
        "colab": {
          "base_uri": "https://localhost:8080/"
        },
        "id": "aUZWZon1pVJr",
        "outputId": "c7887d1b-8ca5-41ed-9a7d-068de71889f0"
      },
      "execution_count": 5,
      "outputs": [
        {
          "output_type": "stream",
          "name": "stdout",
          "text": [
            "Solution for x: 20/(4*y - 1)\n",
            "Solution for y: (x + 20)/(4*x)\n"
          ]
        }
      ]
    },
    {
      "cell_type": "code",
      "source": [
        "# Exercise 1\n",
        "q = sym.symbols('q')\n",
        "expr1 = 3*q + 4/q + 3\n",
        "expr2 = 5*q + 1/q + 1\n",
        "simplified = sym.simplify(sym.Eq(expr1, expr2))\n",
        "for idx, solution in enumerate(sym.solve(simplified)):\n",
        "  display(Math(\"\\\\text{Solution } %g: %s\" % (idx + 1, sym.latex(solution))))"
      ],
      "metadata": {
        "colab": {
          "base_uri": "https://localhost:8080/",
          "height": 64
        },
        "id": "rEeB273Xpo4a",
        "outputId": "3500a682-2f3d-463c-9287-dcd4826b7d12"
      },
      "execution_count": 6,
      "outputs": [
        {
          "output_type": "display_data",
          "data": {
            "text/plain": [
              "<IPython.core.display.Math object>"
            ],
            "text/latex": "$$\\text{Solution } 1: \\frac{1}{2} - \\frac{\\sqrt{7}}{2}$$"
          },
          "metadata": {}
        },
        {
          "output_type": "display_data",
          "data": {
            "text/plain": [
              "<IPython.core.display.Math object>"
            ],
            "text/latex": "$$\\text{Solution } 2: \\frac{1}{2} + \\frac{\\sqrt{7}}{2}$$"
          },
          "metadata": {}
        }
      ]
    },
    {
      "cell_type": "code",
      "source": [
        "# Exercise 2\n",
        "q = sym.symbols('q')\n",
        "expr = 2*q + 3*q**2 - 5/q - 4/q**3\n",
        "display(Math(sym.latex(sym.simplify(expr))))"
      ],
      "metadata": {
        "colab": {
          "base_uri": "https://localhost:8080/",
          "height": 40
        },
        "id": "8hIGiGJmqmRL",
        "outputId": "4ce9ece1-1381-4e8b-af27-940e3d1a1e63"
      },
      "execution_count": 7,
      "outputs": [
        {
          "output_type": "display_data",
          "data": {
            "text/plain": [
              "<IPython.core.display.Math object>"
            ],
            "text/latex": "$$3 q^{2} + 2 q - \\frac{5}{q} - \\frac{4}{q^{3}}$$"
          },
          "metadata": {}
        }
      ]
    },
    {
      "cell_type": "code",
      "source": [
        "display(Math(sym.latex(sym.cancel(expr))))"
      ],
      "metadata": {
        "colab": {
          "base_uri": "https://localhost:8080/",
          "height": 43
        },
        "id": "wmmjBZoxsNlz",
        "outputId": "3300c091-82c1-4743-f65a-329829d65a12"
      },
      "execution_count": 8,
      "outputs": [
        {
          "output_type": "display_data",
          "data": {
            "text/plain": [
              "<IPython.core.display.Math object>"
            ],
            "text/latex": "$$\\frac{3 q^{5} + 2 q^{4} - 5 q^{2} - 4}{q^{3}}$$"
          },
          "metadata": {}
        }
      ]
    },
    {
      "cell_type": "code",
      "source": [
        "# Exercise 3\n",
        "q = sym.symbols('q')\n",
        "expr = (sym.sqrt(3) + sym.sqrt(15)*q) / (sym.sqrt(2) + sym.sqrt(10)*q)\n",
        "for solution in sym.solve(expr, q, 10):\n",
        "  display(Math('%s = %s' % (sym.latex(expr), sym.latex(solution))))\n",
        "\n",
        "display(Math('%s = %s' % (sym.latex(expr), sym.latex(expr.subs(q, 10).evalf()))))"
      ],
      "metadata": {
        "colab": {
          "base_uri": "https://localhost:8080/",
          "height": 76
        },
        "id": "E7glbL8ksrMD",
        "outputId": "84640a94-3d6a-44ce-beb4-796f3e4cccbd"
      },
      "execution_count": 9,
      "outputs": [
        {
          "output_type": "display_data",
          "data": {
            "text/plain": [
              "<IPython.core.display.Math object>"
            ],
            "text/latex": "$$\\frac{\\sqrt{15} q + \\sqrt{3}}{\\sqrt{10} q + \\sqrt{2}} = \\left( - \\frac{\\sqrt{5}}{5}, \\  10\\right)$$"
          },
          "metadata": {}
        },
        {
          "output_type": "display_data",
          "data": {
            "text/plain": [
              "<IPython.core.display.Math object>"
            ],
            "text/latex": "$$\\frac{\\sqrt{15} q + \\sqrt{3}}{\\sqrt{10} q + \\sqrt{2}} = 1.22474487139159$$"
          },
          "metadata": {}
        }
      ]
    },
    {
      "cell_type": "code",
      "source": [
        "from sympy.abc import x\n",
        "\n",
        "term1 = (4*x + 5)\n",
        "term2 = x\n",
        "term3 = x-7\n",
        "\n",
        "display(Math(sym.latex(term1 * term2)))\n",
        "display(Math(sym.latex(sym.expand(term1*term2))))"
      ],
      "metadata": {
        "colab": {
          "base_uri": "https://localhost:8080/",
          "height": 60
        },
        "id": "I1CD9EdQs44b",
        "outputId": "86b7a925-b087-41a6-cc77-7bb60ad52d49"
      },
      "execution_count": 10,
      "outputs": [
        {
          "output_type": "display_data",
          "data": {
            "text/plain": [
              "<IPython.core.display.Math object>"
            ],
            "text/latex": "$$x \\left(4 x + 5\\right)$$"
          },
          "metadata": {}
        },
        {
          "output_type": "display_data",
          "data": {
            "text/plain": [
              "<IPython.core.display.Math object>"
            ],
            "text/latex": "$$4 x^{2} + 5 x$$"
          },
          "metadata": {}
        }
      ]
    },
    {
      "cell_type": "code",
      "source": [
        "term3 = x-7\n",
        "display(Math(sym.latex(term1*term3)))\n",
        "display(Math(sym.latex(sym.expand(term1*term3))))"
      ],
      "metadata": {
        "colab": {
          "base_uri": "https://localhost:8080/",
          "height": 60
        },
        "id": "HlxkiddT0AqX",
        "outputId": "c1b2ffed-858b-4fc8-97e5-acf3b65faf91"
      },
      "execution_count": 11,
      "outputs": [
        {
          "output_type": "display_data",
          "data": {
            "text/plain": [
              "<IPython.core.display.Math object>"
            ],
            "text/latex": "$$\\left(x - 7\\right) \\left(4 x + 5\\right)$$"
          },
          "metadata": {}
        },
        {
          "output_type": "display_data",
          "data": {
            "text/plain": [
              "<IPython.core.display.Math object>"
            ],
            "text/latex": "$$4 x^{2} - 23 x - 35$$"
          },
          "metadata": {}
        }
      ]
    },
    {
      "cell_type": "code",
      "source": [
        "from sympy.abc import y\n",
        "\n",
        "expr = x*(2*y**2 - 5**x/x)\n",
        "display(Math(sym.latex(expr)))\n",
        "display(Math(sym.latex(sym.expand(expr))))"
      ],
      "metadata": {
        "colab": {
          "base_uri": "https://localhost:8080/",
          "height": 60
        },
        "id": "EYFAtu2J1KeG",
        "outputId": "1683d307-55d6-4f48-b52e-3abeb5e46e13"
      },
      "execution_count": 12,
      "outputs": [
        {
          "output_type": "display_data",
          "data": {
            "text/plain": [
              "<IPython.core.display.Math object>"
            ],
            "text/latex": "$$x \\left(- \\frac{5^{x}}{x} + 2 y^{2}\\right)$$"
          },
          "metadata": {}
        },
        {
          "output_type": "display_data",
          "data": {
            "text/plain": [
              "<IPython.core.display.Math object>"
            ],
            "text/latex": "$$- 5^{x} + 2 x y^{2}$$"
          },
          "metadata": {}
        }
      ]
    },
    {
      "cell_type": "code",
      "source": [
        "%whos"
      ],
      "metadata": {
        "colab": {
          "base_uri": "https://localhost:8080/"
        },
        "id": "DYomND1J4jx1",
        "outputId": "19d0404b-0e04-4347-eab3-92af2c0ee4b7"
      },
      "execution_count": 13,
      "outputs": [
        {
          "output_type": "stream",
          "name": "stdout",
          "text": [
            "Variable     Type        Data/Info\n",
            "----------------------------------\n",
            "Math         type        <class 'IPython.core.display.Math'>\n",
            "display      function    <function display at 0x7f74197cd200>\n",
            "expr         Mul         x*(-5**x/x + 2*y**2)\n",
            "expr1        Add         3*q + 3 + 4/q\n",
            "expr2        Add         5*q + 1 + 1/q\n",
            "idx          int         1\n",
            "np           module      <module 'numpy' from '/us<...>kages/numpy/__init__.py'>\n",
            "q            Symbol      q\n",
            "simplified   Equality    Eq(5*q + 1 + 1/q, 3*q + 3 + 4/q)\n",
            "solution     tuple       n=2\n",
            "solutions    list        n=2\n",
            "sym          module      <module 'sympy' from '/us<...>kages/sympy/__init__.py'>\n",
            "term1        Add         4*x + 5\n",
            "term2        Symbol      x\n",
            "term3        Add         x - 7\n",
            "x            Symbol      x\n",
            "y            Symbol      y\n"
          ]
        }
      ]
    },
    {
      "cell_type": "code",
      "source": [
        "# Exercise\n",
        "\n",
        "x, y = sym.symbols(\"x,y\")\n",
        "Fxy = (4+x)*(2-y)\n",
        "\n",
        "display(Math('\\\\text{f(x, y) = } %s' % (sym.latex(expr))))\n",
        "for xi in range(3):\n",
        "  for yi in range(3):\n",
        "    result = Fxy.subs({\n",
        "      x: xi,\n",
        "      y: yi\n",
        "    })\n",
        "    print(f\"When x={xi} and y={yi}, f(x,y)={result}\")"
      ],
      "metadata": {
        "colab": {
          "base_uri": "https://localhost:8080/",
          "height": 195
        },
        "id": "7S0iYXPM4xm0",
        "outputId": "9846cbbc-9485-462f-fe39-8ee1368c3838"
      },
      "execution_count": 14,
      "outputs": [
        {
          "output_type": "display_data",
          "data": {
            "text/plain": [
              "<IPython.core.display.Math object>"
            ],
            "text/latex": "$$\\text{f(x, y) = } x \\left(- \\frac{5^{x}}{x} + 2 y^{2}\\right)$$"
          },
          "metadata": {}
        },
        {
          "output_type": "stream",
          "name": "stdout",
          "text": [
            "When x=0 and y=0, f(x,y)=8\n",
            "When x=0 and y=1, f(x,y)=4\n",
            "When x=0 and y=2, f(x,y)=0\n",
            "When x=1 and y=0, f(x,y)=10\n",
            "When x=1 and y=1, f(x,y)=5\n",
            "When x=1 and y=2, f(x,y)=0\n",
            "When x=2 and y=0, f(x,y)=12\n",
            "When x=2 and y=1, f(x,y)=6\n",
            "When x=2 and y=2, f(x,y)=0\n"
          ]
        }
      ]
    },
    {
      "cell_type": "code",
      "source": [
        "A = np.array([[1, 2], [3, 4]])\n",
        "print(A)\n",
        "display(Math(sym.latex(sym.sympify(A))))"
      ],
      "metadata": {
        "colab": {
          "base_uri": "https://localhost:8080/",
          "height": 92
        },
        "id": "erUPdrVn6uid",
        "outputId": "facbe748-c6a1-4bf2-f4fa-5206e6c6a753"
      },
      "execution_count": 15,
      "outputs": [
        {
          "output_type": "stream",
          "name": "stdout",
          "text": [
            "[[1 2]\n",
            " [3 4]]\n"
          ]
        },
        {
          "output_type": "display_data",
          "data": {
            "text/plain": [
              "<IPython.core.display.Math object>"
            ],
            "text/latex": "$$\\left[\\begin{matrix}1 & 2\\\\3 & 4\\end{matrix}\\right]$$"
          },
          "metadata": {}
        }
      ]
    },
    {
      "cell_type": "code",
      "source": [
        "matrix = np.zeros([4, 6])\n",
        "matrix[0, 1] = 2\n",
        "matrix[2, 4] = 7\n",
        "print(matrix)\n",
        "display(Math(sym.latex(sym.sympify(matrix))))"
      ],
      "metadata": {
        "colab": {
          "base_uri": "https://localhost:8080/",
          "height": 168
        },
        "id": "DKjlhFpd60hd",
        "outputId": "4f63cc07-59a6-4c11-d587-e30c98734d38"
      },
      "execution_count": 16,
      "outputs": [
        {
          "output_type": "stream",
          "name": "stdout",
          "text": [
            "[[0. 2. 0. 0. 0. 0.]\n",
            " [0. 0. 0. 0. 0. 0.]\n",
            " [0. 0. 0. 0. 7. 0.]\n",
            " [0. 0. 0. 0. 0. 0.]]\n"
          ]
        },
        {
          "output_type": "display_data",
          "data": {
            "text/plain": [
              "<IPython.core.display.Math object>"
            ],
            "text/latex": "$$\\left[\\begin{matrix}0.0 & 2.0 & 0.0 & 0.0 & 0.0 & 0.0\\\\0.0 & 0.0 & 0.0 & 0.0 & 0.0 & 0.0\\\\0.0 & 0.0 & 0.0 & 0.0 & 7.0 & 0.0\\\\0.0 & 0.0 & 0.0 & 0.0 & 0.0 & 0.0\\end{matrix}\\right]$$"
          },
          "metadata": {}
        }
      ]
    },
    {
      "cell_type": "code",
      "source": [
        "# Exercise\n",
        "\n",
        "matrix = np.zeros((3, 3))\n",
        "x, y = sym.symbols(\"x,y\")\n",
        "Fxy = (4+x) * (2-y)\n",
        "for xi in range(3):\n",
        "  for yi in range(3):\n",
        "    matrix[xi, yi] = Fxy.subs({\n",
        "        x: xi,\n",
        "        y: yi\n",
        "    })\n",
        "display(Math(sym.latex(sym.sympify(matrix))))"
      ],
      "metadata": {
        "colab": {
          "base_uri": "https://localhost:8080/",
          "height": 78
        },
        "id": "x6BqFDfe68HF",
        "outputId": "e876c7c3-5a5d-4c56-f6b4-c583fd0808ae"
      },
      "execution_count": 17,
      "outputs": [
        {
          "output_type": "display_data",
          "data": {
            "text/plain": [
              "<IPython.core.display.Math object>"
            ],
            "text/latex": "$$\\left[\\begin{matrix}8.0 & 4.0 & 0.0\\\\10.0 & 5.0 & 0.0\\\\12.0 & 6.0 & 0.0\\end{matrix}\\right]$$"
          },
          "metadata": {}
        }
      ]
    },
    {
      "cell_type": "code",
      "source": [
        "# Exercise: Create a multiplication table\n",
        "\n",
        "numbers = range(1, 11)\n",
        "matrix = np.zeros((len(numbers), len(numbers)), dtype=int)\n",
        "for xi in numbers:\n",
        "  for yi in numbers:\n",
        "    matrix[xi - 1, yi - 1] = xi * yi\n",
        "display(Math(sym.latex(sym.sympify(matrix))))"
      ],
      "metadata": {
        "id": "g34Xi-rn7b-O",
        "colab": {
          "base_uri": "https://localhost:8080/",
          "height": 220
        },
        "outputId": "5eabb488-8847-4979-f98d-d25c2f9b55ee"
      },
      "execution_count": 18,
      "outputs": [
        {
          "output_type": "display_data",
          "data": {
            "text/plain": [
              "<IPython.core.display.Math object>"
            ],
            "text/latex": "$$\\left[\\begin{matrix}1 & 2 & 3 & 4 & 5 & 6 & 7 & 8 & 9 & 10\\\\2 & 4 & 6 & 8 & 10 & 12 & 14 & 16 & 18 & 20\\\\3 & 6 & 9 & 12 & 15 & 18 & 21 & 24 & 27 & 30\\\\4 & 8 & 12 & 16 & 20 & 24 & 28 & 32 & 36 & 40\\\\5 & 10 & 15 & 20 & 25 & 30 & 35 & 40 & 45 & 50\\\\6 & 12 & 18 & 24 & 30 & 36 & 42 & 48 & 54 & 60\\\\7 & 14 & 21 & 28 & 35 & 42 & 49 & 56 & 63 & 70\\\\8 & 16 & 24 & 32 & 40 & 48 & 56 & 64 & 72 & 80\\\\9 & 18 & 27 & 36 & 45 & 54 & 63 & 72 & 81 & 90\\\\10 & 20 & 30 & 40 & 50 & 60 & 70 & 80 & 90 & 100\\end{matrix}\\right]$$"
          },
          "metadata": {}
        }
      ]
    },
    {
      "cell_type": "code",
      "source": [
        "# Associative\n",
        "\n",
        "expr1 = x*(4*y)\n",
        "expr2 = (x*4)*y\n",
        "\n",
        "expr1 - expr2"
      ],
      "metadata": {
        "colab": {
          "base_uri": "https://localhost:8080/",
          "height": 37
        },
        "id": "_vtaN8urDSFi",
        "outputId": "1c104799-9359-49a4-8e81-3f2ceb85560b"
      },
      "execution_count": 19,
      "outputs": [
        {
          "output_type": "execute_result",
          "data": {
            "text/plain": [
              "0"
            ],
            "text/latex": "$\\displaystyle 0$"
          },
          "metadata": {},
          "execution_count": 19
        }
      ]
    },
    {
      "cell_type": "code",
      "source": [
        "# Commutative\n",
        "\n",
        "expr1 = 4*x*y\n",
        "expr2 = x*4*y\n",
        "expr3 = y*x*4\n",
        "print(expr1.subs({ x: 3, y: 2 }))\n",
        "print(expr2.subs({ x: 3, y: 2 }))\n",
        "print(expr3.subs({ x: 3, y: 2 }))"
      ],
      "metadata": {
        "colab": {
          "base_uri": "https://localhost:8080/"
        },
        "id": "br-D3HqfIWDj",
        "outputId": "f411d55a-dfb0-4581-ac40-05dc217b20f2"
      },
      "execution_count": 20,
      "outputs": [
        {
          "output_type": "stream",
          "name": "stdout",
          "text": [
            "24\n",
            "24\n",
            "24\n"
          ]
        }
      ]
    },
    {
      "cell_type": "code",
      "source": [
        "# Distributive\n",
        "a, b, c, d = sym.symbols(\"a,b,c,d\")\n",
        "\n",
        "expr1 = (a+b)*(c+d)\n",
        "sym.expand(expr1)"
      ],
      "metadata": {
        "colab": {
          "base_uri": "https://localhost:8080/",
          "height": 38
        },
        "id": "QCNSkJasIj1r",
        "outputId": "7a188288-f9d8-4d10-e250-562349c1c3c3"
      },
      "execution_count": 21,
      "outputs": [
        {
          "output_type": "execute_result",
          "data": {
            "text/plain": [
              "a*c + a*d + b*c + b*d"
            ],
            "text/latex": "$\\displaystyle a c + a d + b c + b d$"
          },
          "metadata": {},
          "execution_count": 21
        }
      ]
    },
    {
      "cell_type": "code",
      "source": [
        "# Exercises\n",
        "from sympy.abc import x, y, w, z\n",
        "\n",
        "x = w * (4-w) + 1/w**2 *(1 + w)\n",
        "f1 = x*(y+z)\n",
        "f2 = 3/x + x**2\n",
        "\n",
        "display(Math(sym.latex(f1*f2)))\n",
        "display(Math(sym.latex(sym.simplify(f1*f2))))\n",
        "display(Math(sym.latex(sym.simplify(f1*f2 - f2*f1))))"
      ],
      "metadata": {
        "colab": {
          "base_uri": "https://localhost:8080/",
          "height": 101
        },
        "id": "Pau7sKk6I9vb",
        "outputId": "2e68ff6d-39e3-400f-bd34-abb74f45e3fb"
      },
      "execution_count": 22,
      "outputs": [
        {
          "output_type": "display_data",
          "data": {
            "text/plain": [
              "<IPython.core.display.Math object>"
            ],
            "text/latex": "$$\\left(y + z\\right) \\left(w \\left(4 - w\\right) + \\frac{w + 1}{w^{2}}\\right) \\left(\\left(w \\left(4 - w\\right) + \\frac{w + 1}{w^{2}}\\right)^{2} + \\frac{3}{w \\left(4 - w\\right) + \\frac{w + 1}{w^{2}}}\\right)$$"
          },
          "metadata": {}
        },
        {
          "output_type": "display_data",
          "data": {
            "text/plain": [
              "<IPython.core.display.Math object>"
            ],
            "text/latex": "$$\\frac{\\left(3 w^{6} + \\left(- w^{3} \\left(w - 4\\right) + w + 1\\right)^{3}\\right) \\left(y + z\\right)}{w^{6}}$$"
          },
          "metadata": {}
        },
        {
          "output_type": "display_data",
          "data": {
            "text/plain": [
              "<IPython.core.display.Math object>"
            ],
            "text/latex": "$$0$$"
          },
          "metadata": {}
        }
      ]
    },
    {
      "cell_type": "code",
      "source": [
        "x = sym.symbols(\"x\")\n",
        "\n",
        "expr1 = 2*x + x*(4-6*x) + x\n",
        "expr2 = -x * (2/x + 4/x**2) + (4+x)/(4*x)\n",
        "expr3 = (x+3)*(x-3)*x*(1/(9*x))\n",
        "exprs = [expr1, expr2, expr3]\n",
        "\n",
        "for expr in exprs:\n",
        "  display(Math(\"%s \\\\quad \\\\Longleftrightarrow \\\\quad %s\" % (sym.latex(expr), sym.latex(sym.expand(expr)))))\n",
        "  print()"
      ],
      "metadata": {
        "colab": {
          "base_uri": "https://localhost:8080/",
          "height": 135
        },
        "id": "27yjC8I6MLcT",
        "outputId": "bb544edb-64e9-4944-d346-f50aa29c88e8"
      },
      "execution_count": 23,
      "outputs": [
        {
          "output_type": "display_data",
          "data": {
            "text/plain": [
              "<IPython.core.display.Math object>"
            ],
            "text/latex": "$$x \\left(4 - 6 x\\right) + 3 x \\quad \\Longleftrightarrow \\quad - 6 x^{2} + 7 x$$"
          },
          "metadata": {}
        },
        {
          "output_type": "stream",
          "name": "stdout",
          "text": [
            "\n"
          ]
        },
        {
          "output_type": "display_data",
          "data": {
            "text/plain": [
              "<IPython.core.display.Math object>"
            ],
            "text/latex": "$$- x \\left(\\frac{2}{x} + \\frac{4}{x^{2}}\\right) + \\frac{x + 4}{4 x} \\quad \\Longleftrightarrow \\quad - \\frac{7}{4} - \\frac{3}{x}$$"
          },
          "metadata": {}
        },
        {
          "output_type": "stream",
          "name": "stdout",
          "text": [
            "\n"
          ]
        },
        {
          "output_type": "display_data",
          "data": {
            "text/plain": [
              "<IPython.core.display.Math object>"
            ],
            "text/latex": "$$\\frac{\\left(x - 3\\right) \\left(x + 3\\right)}{9} \\quad \\Longleftrightarrow \\quad \\frac{x^{2}}{9} - 1$$"
          },
          "metadata": {}
        },
        {
          "output_type": "stream",
          "name": "stdout",
          "text": [
            "\n"
          ]
        }
      ]
    },
    {
      "cell_type": "code",
      "source": [
        "import math\n",
        "\n",
        "print(math.gcd(6, 15))\n",
        "print(math.gcd(4, 16))  "
      ],
      "metadata": {
        "colab": {
          "base_uri": "https://localhost:8080/"
        },
        "id": "TWmFL9ciScyW",
        "outputId": "9d12d585-5426-4f0c-a262-9f69109cc9ae"
      },
      "execution_count": 24,
      "outputs": [
        {
          "output_type": "stream",
          "name": "stdout",
          "text": [
            "3\n",
            "4\n"
          ]
        }
      ]
    },
    {
      "cell_type": "code",
      "source": [
        "a = 16\n",
        "b = 88\n",
        "\n",
        "factor = math.gcd(a, b)\n",
        "\n",
        "display(Math('\\\\frac{%g}{%g} = \\\\frac{%g\\\\times %g}{%g\\\\times %g}' % (a, b, a/factor, factor, b/factor, factor)))"
      ],
      "metadata": {
        "colab": {
          "base_uri": "https://localhost:8080/",
          "height": 39
        },
        "id": "EfUFcTTOUU0O",
        "outputId": "8c6af9ce-8235-4ce0-f1e3-d370ed310da0"
      },
      "execution_count": 25,
      "outputs": [
        {
          "output_type": "display_data",
          "data": {
            "text/plain": [
              "<IPython.core.display.Math object>"
            ],
            "text/latex": "$$\\frac{16}{88} = \\frac{2\\times 8}{11\\times 8}$$"
          },
          "metadata": {}
        }
      ]
    },
    {
      "cell_type": "code",
      "source": [
        "# Exercise 1\n",
        "\n",
        "a, b, c = sym.symbols(\"a,b,c\")\n",
        "f = sym.gcd(c*a, c*b)\n",
        "g = c*sym.gcd(a, b)\n",
        "sym.Eq(f, g)"
      ],
      "metadata": {
        "id": "9wX70Sf_Vvfc",
        "colab": {
          "base_uri": "https://localhost:8080/",
          "height": 37
        },
        "outputId": "b47fc79a-66d8-4d94-cdf3-adf23ba856eb"
      },
      "execution_count": 26,
      "outputs": [
        {
          "output_type": "execute_result",
          "data": {
            "text/plain": [
              "True"
            ],
            "text/latex": "$\\displaystyle \\text{True}$"
          },
          "metadata": {},
          "execution_count": 26
        }
      ]
    },
    {
      "cell_type": "code",
      "source": [
        "print(f.subs({\n",
        "    a: 2,\n",
        "    b: 5,\n",
        "    c: 7\n",
        "}))\n",
        "\n",
        "print(g.subs({\n",
        "    a: 2,\n",
        "    b: 5,\n",
        "    c: 7  \n",
        "}))"
      ],
      "metadata": {
        "colab": {
          "base_uri": "https://localhost:8080/"
        },
        "id": "DiYPtOxwzGC_",
        "outputId": "bdf41e4f-a4d7-4275-8257-cba6a1978c5e"
      },
      "execution_count": 27,
      "outputs": [
        {
          "output_type": "stream",
          "name": "stdout",
          "text": [
            "7\n",
            "7\n"
          ]
        }
      ]
    },
    {
      "cell_type": "code",
      "source": [
        "# Exercise 2\n",
        "\n",
        "matrix = np.zeros((15, 10), dtype=int) + 99\n",
        "for i in range(matrix.shape[0]):\n",
        "  for j in range(matrix.shape[1]):\n",
        "    matrix[i, j] = math.gcd(i+1, j+1)\n",
        "display(Math(sym.latex(sym.sympify(matrix))))"
      ],
      "metadata": {
        "colab": {
          "base_uri": "https://localhost:8080/",
          "height": 322
        },
        "id": "EPz2ugqdz2fD",
        "outputId": "d90ae7fc-2dd7-4bfb-ef1c-e464669646f3"
      },
      "execution_count": 28,
      "outputs": [
        {
          "output_type": "display_data",
          "data": {
            "text/plain": [
              "<IPython.core.display.Math object>"
            ],
            "text/latex": "$$\\left[\\begin{matrix}1 & 1 & 1 & 1 & 1 & 1 & 1 & 1 & 1 & 1\\\\1 & 2 & 1 & 2 & 1 & 2 & 1 & 2 & 1 & 2\\\\1 & 1 & 3 & 1 & 1 & 3 & 1 & 1 & 3 & 1\\\\1 & 2 & 1 & 4 & 1 & 2 & 1 & 4 & 1 & 2\\\\1 & 1 & 1 & 1 & 5 & 1 & 1 & 1 & 1 & 5\\\\1 & 2 & 3 & 2 & 1 & 6 & 1 & 2 & 3 & 2\\\\1 & 1 & 1 & 1 & 1 & 1 & 7 & 1 & 1 & 1\\\\1 & 2 & 1 & 4 & 1 & 2 & 1 & 8 & 1 & 2\\\\1 & 1 & 3 & 1 & 1 & 3 & 1 & 1 & 9 & 1\\\\1 & 2 & 1 & 2 & 5 & 2 & 1 & 2 & 1 & 10\\\\1 & 1 & 1 & 1 & 1 & 1 & 1 & 1 & 1 & 1\\\\1 & 2 & 3 & 4 & 1 & 6 & 1 & 4 & 3 & 2\\\\1 & 1 & 1 & 1 & 1 & 1 & 1 & 1 & 1 & 1\\\\1 & 2 & 1 & 2 & 1 & 2 & 7 & 2 & 1 & 2\\\\1 & 1 & 3 & 1 & 5 & 3 & 1 & 1 & 3 & 5\\end{matrix}\\right]$$"
          },
          "metadata": {}
        }
      ]
    },
    {
      "cell_type": "code",
      "source": [
        "x, y = sym.symbols(\"x,y\")\n",
        "\n",
        "dict_equation = dict(eqs_with_x = [4*x-6, x**2-9], eqs_with_y = [sym.sin(y)])\n",
        "\n",
        "for keyi in dict_equation:\n",
        "  print(f\"Solutions for equations involving {keyi[-1]}:\")\n",
        "  for equation in dict_equation[keyi]:\n",
        "    left_part = sym.latex(equation) + \" = 0\"\n",
        "    mid_part = \"\\\\quad \\\\Rightarrow \\\\quad \" + keyi[-1] + \" = \"\n",
        "    right_part = sym.latex(sym.solve(equation))\n",
        "\n",
        "    display(Math('\\\\quad\\\\quad ' + left_part + mid_part + right_part))"
      ],
      "metadata": {
        "id": "Y1YALg3e2kYT",
        "colab": {
          "base_uri": "https://localhost:8080/",
          "height": 116
        },
        "outputId": "77cc9487-b39d-4552-bbfc-b915da2a4bff"
      },
      "execution_count": 29,
      "outputs": [
        {
          "output_type": "stream",
          "name": "stdout",
          "text": [
            "Solutions for equations involving x:\n"
          ]
        },
        {
          "output_type": "display_data",
          "data": {
            "text/plain": [
              "<IPython.core.display.Math object>"
            ],
            "text/latex": "$$\\quad\\quad 4 x - 6 = 0\\quad \\Rightarrow \\quad x = \\left[ \\frac{3}{2}\\right]$$"
          },
          "metadata": {}
        },
        {
          "output_type": "display_data",
          "data": {
            "text/plain": [
              "<IPython.core.display.Math object>"
            ],
            "text/latex": "$$\\quad\\quad x^{2} - 9 = 0\\quad \\Rightarrow \\quad x = \\left[ -3, \\  3\\right]$$"
          },
          "metadata": {}
        },
        {
          "output_type": "stream",
          "name": "stdout",
          "text": [
            "Solutions for equations involving y:\n"
          ]
        },
        {
          "output_type": "display_data",
          "data": {
            "text/plain": [
              "<IPython.core.display.Math object>"
            ],
            "text/latex": "$$\\quad\\quad \\sin{\\left(y \\right)} = 0\\quad \\Rightarrow \\quad y = \\left[ 0, \\  \\pi\\right]$$"
          },
          "metadata": {}
        }
      ]
    },
    {
      "cell_type": "code",
      "source": [
        "number = 48\n",
        "\n",
        "sym.factorint(number)"
      ],
      "metadata": {
        "colab": {
          "base_uri": "https://localhost:8080/"
        },
        "id": "XBxbhiFV5OG0",
        "outputId": "544b75f3-c87f-4272-d1e3-9afcb5835c00"
      },
      "execution_count": 30,
      "outputs": [
        {
          "output_type": "execute_result",
          "data": {
            "text/plain": [
              "{2: 4, 3: 1}"
            ]
          },
          "metadata": {},
          "execution_count": 30
        }
      ]
    },
    {
      "cell_type": "code",
      "source": [
        "# Exercise\n",
        "\n",
        "for i in range(2, 51):\n",
        "  dict_factor = sym.factorint(i)\n",
        "  if len(dict_factor) == 1 and list(dict_factor.values())[0] == 1:\n",
        "    print(f\"{i} is a prime number\")\n",
        "  else:\n",
        "    print(f\"{i} is a composite number with prime factors {list(dict_factor.keys())}\")"
      ],
      "metadata": {
        "colab": {
          "base_uri": "https://localhost:8080/"
        },
        "id": "76BjFdvK50w7",
        "outputId": "26039c8c-9ff0-4307-cd81-708e12bbe965"
      },
      "execution_count": 31,
      "outputs": [
        {
          "output_type": "stream",
          "name": "stdout",
          "text": [
            "2 is a prime number\n",
            "3 is a prime number\n",
            "4 is a composite number with prime factors [2]\n",
            "5 is a prime number\n",
            "6 is a composite number with prime factors [2, 3]\n",
            "7 is a prime number\n",
            "8 is a composite number with prime factors [2]\n",
            "9 is a composite number with prime factors [3]\n",
            "10 is a composite number with prime factors [2, 5]\n",
            "11 is a prime number\n",
            "12 is a composite number with prime factors [2, 3]\n",
            "13 is a prime number\n",
            "14 is a composite number with prime factors [2, 7]\n",
            "15 is a composite number with prime factors [3, 5]\n",
            "16 is a composite number with prime factors [2]\n",
            "17 is a prime number\n",
            "18 is a composite number with prime factors [2, 3]\n",
            "19 is a prime number\n",
            "20 is a composite number with prime factors [2, 5]\n",
            "21 is a composite number with prime factors [3, 7]\n",
            "22 is a composite number with prime factors [2, 11]\n",
            "23 is a prime number\n",
            "24 is a composite number with prime factors [2, 3]\n",
            "25 is a composite number with prime factors [5]\n",
            "26 is a composite number with prime factors [2, 13]\n",
            "27 is a composite number with prime factors [3]\n",
            "28 is a composite number with prime factors [2, 7]\n",
            "29 is a prime number\n",
            "30 is a composite number with prime factors [2, 3, 5]\n",
            "31 is a prime number\n",
            "32 is a composite number with prime factors [2]\n",
            "33 is a composite number with prime factors [3, 11]\n",
            "34 is a composite number with prime factors [2, 17]\n",
            "35 is a composite number with prime factors [5, 7]\n",
            "36 is a composite number with prime factors [2, 3]\n",
            "37 is a prime number\n",
            "38 is a composite number with prime factors [2, 19]\n",
            "39 is a composite number with prime factors [3, 13]\n",
            "40 is a composite number with prime factors [2, 5]\n",
            "41 is a prime number\n",
            "42 is a composite number with prime factors [2, 3, 7]\n",
            "43 is a prime number\n",
            "44 is a composite number with prime factors [2, 11]\n",
            "45 is a composite number with prime factors [3, 5]\n",
            "46 is a composite number with prime factors [2, 23]\n",
            "47 is a prime number\n",
            "48 is a composite number with prime factors [2, 3]\n",
            "49 is a composite number with prime factors [7]\n",
            "50 is a composite number with prime factors [2, 5]\n"
          ]
        }
      ]
    },
    {
      "cell_type": "code",
      "source": [
        "x = sym.symbols(\"x\")\n",
        "\n",
        "expr = 4*x > 8\n",
        "sym.solve(expr)"
      ],
      "metadata": {
        "colab": {
          "base_uri": "https://localhost:8080/",
          "height": 38
        },
        "id": "ptvIrcFF6eIz",
        "outputId": "831d0087-6a64-4dac-ad61-45615b4c231a"
      },
      "execution_count": 32,
      "outputs": [
        {
          "output_type": "execute_result",
          "data": {
            "text/plain": [
              "(2 < x) & (x < oo)"
            ],
            "text/latex": "$\\displaystyle 2 < x \\wedge x < \\infty$"
          },
          "metadata": {},
          "execution_count": 32
        }
      ]
    },
    {
      "cell_type": "code",
      "source": [
        "expr = (x-1) * (x+3) > 0\n",
        "sym.solve(expr)"
      ],
      "metadata": {
        "colab": {
          "base_uri": "https://localhost:8080/",
          "height": 38
        },
        "id": "A0NcFBwNBEOd",
        "outputId": "126e90a3-31a7-44ee-d4ae-33456b6b3164"
      },
      "execution_count": 33,
      "outputs": [
        {
          "output_type": "execute_result",
          "data": {
            "text/plain": [
              "((-oo < x) & (x < -3)) | ((1 < x) & (x < oo))"
            ],
            "text/latex": "$\\displaystyle \\left(-\\infty < x \\wedge x < -3\\right) \\vee \\left(1 < x \\wedge x < \\infty\\right)$"
          },
          "metadata": {},
          "execution_count": 33
        }
      ]
    },
    {
      "cell_type": "code",
      "source": [
        "a,b,c = sym.symbols(\"a,b,c\")\n",
        "expr = a*x > b**2/c\n",
        "display(Math(sym.latex(expr)))"
      ],
      "metadata": {
        "colab": {
          "base_uri": "https://localhost:8080/",
          "height": 41
        },
        "id": "8lHH6uVdBeMt",
        "outputId": "fc0db757-fefa-4a0d-f24c-311f2ca51e78"
      },
      "execution_count": 34,
      "outputs": [
        {
          "output_type": "display_data",
          "data": {
            "text/plain": [
              "<IPython.core.display.Math object>"
            ],
            "text/latex": "$$a x > \\frac{b^{2}}{c}$$"
          },
          "metadata": {}
        }
      ]
    },
    {
      "cell_type": "code",
      "source": [
        "x = sym.symbols(\"x\")\n",
        "expr = 3*x/2 + (4-5*x)/3 <= 2 - (5*(2-x))/4\n",
        "display(Math(sym.latex(expr)))\n",
        "sym.solve(expr, x)"
      ],
      "metadata": {
        "colab": {
          "base_uri": "https://localhost:8080/",
          "height": 72
        },
        "id": "zuJ7DaU1B7J1",
        "outputId": "790e0b10-0beb-406b-8a42-37476aa23e09"
      },
      "execution_count": 35,
      "outputs": [
        {
          "output_type": "display_data",
          "data": {
            "text/plain": [
              "<IPython.core.display.Math object>"
            ],
            "text/latex": "$$\\frac{4}{3} - \\frac{x}{6} \\leq \\frac{5 x}{4} - \\frac{1}{2}$$"
          },
          "metadata": {}
        },
        {
          "output_type": "execute_result",
          "data": {
            "text/plain": [
              "(22/17 <= x) & (x < oo)"
            ],
            "text/latex": "$\\displaystyle \\frac{22}{17} \\leq x \\wedge x < \\infty$"
          },
          "metadata": {},
          "execution_count": 35
        }
      ]
    },
    {
      "cell_type": "code",
      "source": [
        "from sympy.abc import x\n",
        "\n",
        "p1 = 2*x**3 + x**2 - x\n",
        "p2 = x**3 - x**4 - 4*x**2\n",
        "\n",
        "display(Math(sym.latex(p1)))\n",
        "display(Math(sym.latex(p2)))\n",
        "display(Math(\"(%s) + (%s) = %s\" % (sym.latex(p1), sym.latex(p2), sym.latex(p1+p2))))\n",
        "display(Math(\"(%s) - (%s) = %s\" % (sym.latex(p1), sym.latex(p2), sym.latex(p1-p2))))"
      ],
      "metadata": {
        "colab": {
          "base_uri": "https://localhost:8080/",
          "height": 102
        },
        "id": "qWE70iGCDISO",
        "outputId": "8e50502b-faa9-4718-d4c5-ab529b332589"
      },
      "execution_count": 36,
      "outputs": [
        {
          "output_type": "display_data",
          "data": {
            "text/plain": [
              "<IPython.core.display.Math object>"
            ],
            "text/latex": "$$2 x^{3} + x^{2} - x$$"
          },
          "metadata": {}
        },
        {
          "output_type": "display_data",
          "data": {
            "text/plain": [
              "<IPython.core.display.Math object>"
            ],
            "text/latex": "$$- x^{4} + x^{3} - 4 x^{2}$$"
          },
          "metadata": {}
        },
        {
          "output_type": "display_data",
          "data": {
            "text/plain": [
              "<IPython.core.display.Math object>"
            ],
            "text/latex": "$$(2 x^{3} + x^{2} - x) + (- x^{4} + x^{3} - 4 x^{2}) = - x^{4} + 3 x^{3} - 3 x^{2} - x$$"
          },
          "metadata": {}
        },
        {
          "output_type": "display_data",
          "data": {
            "text/plain": [
              "<IPython.core.display.Math object>"
            ],
            "text/latex": "$$(2 x^{3} + x^{2} - x) - (- x^{4} + x^{3} - 4 x^{2}) = x^{4} + x^{3} + 5 x^{2} - x$$"
          },
          "metadata": {}
        }
      ]
    },
    {
      "cell_type": "code",
      "source": [
        "p1 = sym.Poly(2*x**3 + x**2 - x)\n",
        "print(p1)"
      ],
      "metadata": {
        "colab": {
          "base_uri": "https://localhost:8080/"
        },
        "id": "KBd-Ax-hHXuH",
        "outputId": "bbf441e1-1609-4154-a3da-6d6b64db17fd"
      },
      "execution_count": 37,
      "outputs": [
        {
          "output_type": "stream",
          "name": "stdout",
          "text": [
            "Poly(2*x**3 + x**2 - x, x, domain='ZZ')\n"
          ]
        }
      ]
    },
    {
      "cell_type": "code",
      "source": [
        "p1.eval(0)"
      ],
      "metadata": {
        "colab": {
          "base_uri": "https://localhost:8080/",
          "height": 37
        },
        "id": "jMwQGBaIIjCH",
        "outputId": "221fe669-b31f-4ad6-f28a-42dae791780d"
      },
      "execution_count": 38,
      "outputs": [
        {
          "output_type": "execute_result",
          "data": {
            "text/plain": [
              "0"
            ],
            "text/latex": "$\\displaystyle 0$"
          },
          "metadata": {},
          "execution_count": 38
        }
      ]
    },
    {
      "cell_type": "code",
      "source": [
        "p1.coeffs()"
      ],
      "metadata": {
        "colab": {
          "base_uri": "https://localhost:8080/"
        },
        "id": "lLvk5Jo9IlYf",
        "outputId": "399d0925-04c8-4fec-e5bd-03cfa1411108"
      },
      "execution_count": 39,
      "outputs": [
        {
          "output_type": "execute_result",
          "data": {
            "text/plain": [
              "[2, 1, -1]"
            ]
          },
          "metadata": {},
          "execution_count": 39
        }
      ]
    },
    {
      "cell_type": "code",
      "source": [
        "# Exercise\n",
        "\n",
        "equations = [(x**2 + 2*x), (-x**3 + 4*x), (x**5 - x**4 + x/4 + 4)]\n",
        "for equation in equations:\n",
        "  poly = equation.as_poly()\n",
        "  if poly.degree() % 2 == 0:\n",
        "    display(Math(\"\\\\text{The degree of } \\\\Rightarrow %s \\\\text{ is even, and the coefficients sum is } %g\" % (sym.latex(poly.as_expr()), sum(poly.coeffs()))))\n",
        "  else:\n",
        "    display(Math(\"\\\\text{The degree of } \\\\Rightarrow %s \\\\text{ is odd, and the coefficients count is } %g\" % (sym.latex(poly.as_expr()), len(poly.coeffs()))))"
      ],
      "metadata": {
        "colab": {
          "base_uri": "https://localhost:8080/",
          "height": 81
        },
        "id": "Lpb6o5VEIpD3",
        "outputId": "3d374e4e-5409-4ffb-b81f-657e1e61a448"
      },
      "execution_count": 40,
      "outputs": [
        {
          "output_type": "display_data",
          "data": {
            "text/plain": [
              "<IPython.core.display.Math object>"
            ],
            "text/latex": "$$\\text{The degree of } \\Rightarrow x^{2} + 2 x \\text{ is even, and the coefficients sum is } 3$$"
          },
          "metadata": {}
        },
        {
          "output_type": "display_data",
          "data": {
            "text/plain": [
              "<IPython.core.display.Math object>"
            ],
            "text/latex": "$$\\text{The degree of } \\Rightarrow - x^{3} + 4 x \\text{ is odd, and the coefficients count is } 2$$"
          },
          "metadata": {}
        },
        {
          "output_type": "display_data",
          "data": {
            "text/plain": [
              "<IPython.core.display.Math object>"
            ],
            "text/latex": "$$\\text{The degree of } \\Rightarrow x^{5} - x^{4} + \\frac{x}{4} + 4 \\text{ is odd, and the coefficients count is } 4$$"
          },
          "metadata": {}
        }
      ]
    },
    {
      "cell_type": "code",
      "source": [
        "x = sym.symbols(\"x\")\n",
        "\n",
        "expr = x**5 * x**3\n",
        "expr"
      ],
      "metadata": {
        "colab": {
          "base_uri": "https://localhost:8080/",
          "height": 38
        },
        "id": "nYo_toveJIs-",
        "outputId": "313c45d4-e9c3-45fd-8959-c4b3377d259a"
      },
      "execution_count": 41,
      "outputs": [
        {
          "output_type": "execute_result",
          "data": {
            "text/plain": [
              "x**8"
            ],
            "text/latex": "$\\displaystyle x^{8}$"
          },
          "metadata": {},
          "execution_count": 41
        }
      ]
    },
    {
      "cell_type": "code",
      "source": [
        "p1 = 4*x**2 - 2*x\n",
        "p2 = x**3 - 1\n",
        "\n",
        "display(Math(sym.latex(p1*p2)))\n",
        "display(Math(sym.latex(sym.expand(p1*p2))))"
      ],
      "metadata": {
        "colab": {
          "base_uri": "https://localhost:8080/",
          "height": 60
        },
        "id": "6RY9C9GzNKeg",
        "outputId": "d65a5944-308f-42a1-a46a-0c4df1a43034"
      },
      "execution_count": 42,
      "outputs": [
        {
          "output_type": "display_data",
          "data": {
            "text/plain": [
              "<IPython.core.display.Math object>"
            ],
            "text/latex": "$$\\left(4 x^{2} - 2 x\\right) \\left(x^{3} - 1\\right)$$"
          },
          "metadata": {}
        },
        {
          "output_type": "display_data",
          "data": {
            "text/plain": [
              "<IPython.core.display.Math object>"
            ],
            "text/latex": "$$4 x^{5} - 2 x^{4} - 4 x^{2} + 2 x$$"
          },
          "metadata": {}
        }
      ]
    },
    {
      "cell_type": "code",
      "source": [
        "# Exercise\n",
        "x, y = sym.symbols(\"x,y\")\n",
        "f_xy = 4*x**4 - 3*x**2 + x*y**2 - 9*y**3\n",
        "g_xy = -x**3 + 6*x**2*y + 0.8*y**3\n",
        "\n",
        "parameters = {\n",
        "    x: 5,\n",
        "    y: -2\n",
        "}\n",
        "\n",
        "display(Math(sym.latex(f_xy * g_xy)))\n",
        "display(Math(sym.latex(sym.expand(f_xy * g_xy))))\n",
        "display(Math(sym.latex(sym.expand(f_xy * g_xy).subs(parameters))))\n",
        "display(Math(sym.latex(sym.expand(f_xy.subs(parameters) * g_xy.subs(parameters)))))"
      ],
      "metadata": {
        "colab": {
          "base_uri": "https://localhost:8080/",
          "height": 100
        },
        "id": "9H4u8P--NbIn",
        "outputId": "3d016bb5-86b9-4b85-dde1-e0db6b1342f6"
      },
      "execution_count": 43,
      "outputs": [
        {
          "output_type": "display_data",
          "data": {
            "text/plain": [
              "<IPython.core.display.Math object>"
            ],
            "text/latex": "$$\\left(- x^{3} + 6 x^{2} y + 0.8 y^{3}\\right) \\left(4 x^{4} - 3 x^{2} + x y^{2} - 9 y^{3}\\right)$$"
          },
          "metadata": {}
        },
        {
          "output_type": "display_data",
          "data": {
            "text/plain": [
              "<IPython.core.display.Math object>"
            ],
            "text/latex": "$$- 4 x^{7} + 24 x^{6} y + 3 x^{5} + 3.2 x^{4} y^{3} - x^{4} y^{2} - 18 x^{4} y + 15 x^{3} y^{3} - 54 x^{2} y^{4} - 2.4 x^{2} y^{3} + 0.8 x y^{5} - 7.2 y^{6}$$"
          },
          "metadata": {}
        },
        {
          "output_type": "display_data",
          "data": {
            "text/plain": [
              "<IPython.core.display.Math object>"
            ],
            "text/latex": "$$-1085833.8$$"
          },
          "metadata": {}
        },
        {
          "output_type": "display_data",
          "data": {
            "text/plain": [
              "<IPython.core.display.Math object>"
            ],
            "text/latex": "$$-1085833.8$$"
          },
          "metadata": {}
        }
      ]
    },
    {
      "cell_type": "code",
      "source": [
        "x = sym.symbols(\"x\")\n",
        "\n",
        "p1 = 4*x**5 - x\n",
        "p2 = 2*x**3 - x\n",
        "\n",
        "display(Math(\"\\\\frac{%s}{%s} = %s\" % (sym.latex(p1), sym.latex(p2), sym.latex(p1 / p2))))\n",
        "display(Math(\"\\\\frac{%s}{%s} = %s\" % (sym.latex(p1), sym.latex(p2), sym.latex(sym.expand(p1 / p2)))))\n",
        "display(Math(\"\\\\frac{%s}{%s} = %s\" % (sym.latex(p1), sym.latex(p2), sym.latex(sym.simplify(p1 / p2)))))"
      ],
      "metadata": {
        "colab": {
          "base_uri": "https://localhost:8080/",
          "height": 89
        },
        "id": "vJNgo-IyN-0o",
        "outputId": "187caeb8-dc6b-44fe-d380-fde40d67ac69"
      },
      "execution_count": 44,
      "outputs": [
        {
          "output_type": "display_data",
          "data": {
            "text/plain": [
              "<IPython.core.display.Math object>"
            ],
            "text/latex": "$$\\frac{4 x^{5} - x}{2 x^{3} - x} = \\frac{4 x^{5} - x}{2 x^{3} - x}$$"
          },
          "metadata": {}
        },
        {
          "output_type": "display_data",
          "data": {
            "text/plain": [
              "<IPython.core.display.Math object>"
            ],
            "text/latex": "$$\\frac{4 x^{5} - x}{2 x^{3} - x} = \\frac{4 x^{5}}{2 x^{3} - x} - \\frac{x}{2 x^{3} - x}$$"
          },
          "metadata": {}
        },
        {
          "output_type": "display_data",
          "data": {
            "text/plain": [
              "<IPython.core.display.Math object>"
            ],
            "text/latex": "$$\\frac{4 x^{5} - x}{2 x^{3} - x} = 2 x^{2} + 1$$"
          },
          "metadata": {}
        }
      ]
    },
    {
      "cell_type": "code",
      "source": [
        "x, y = sym.symbols(\"x,y\")\n",
        "\n",
        "poly_numerator = (x**6 + 2*x**4 + 6*x - y)\n",
        "poly_denominator = (x**3+3)\n",
        "display(Math(sym.latex(poly_numerator/poly_denominator)))\n",
        "\n",
        "right_answer = None\n",
        "for yi in range(5, 16):\n",
        "  poly_numerator_yi = poly_numerator.subs(y, yi)\n",
        "  equation = poly_numerator_yi/poly_denominator\n",
        "  equation_simplified = sym.simplify(poly_numerator_yi/poly_denominator)\n",
        "  display(Math('%s = %s' % (sym.latex(equation), sym.latex(equation_simplified))))\n",
        "  if sym.fraction(sym.simplify(poly_numerator_yi/poly_denominator))[1] == 1:\n",
        "    right_answer = yi\n",
        "\n",
        "if right_answer:\n",
        "  print(f\"\\nThe answer that satisfies our goal is y = {right_answer}\")"
      ],
      "metadata": {
        "id": "idsdvC5CQFiJ",
        "colab": {
          "base_uri": "https://localhost:8080/",
          "height": 341
        },
        "outputId": "e0005ff3-295c-4fa6-8d6d-8541a5d79831"
      },
      "execution_count": 60,
      "outputs": [
        {
          "output_type": "display_data",
          "data": {
            "text/plain": [
              "<IPython.core.display.Math object>"
            ],
            "text/latex": "$$\\frac{x^{6} + 2 x^{4} + 6 x - y}{x^{3} + 3}$$"
          },
          "metadata": {}
        },
        {
          "output_type": "display_data",
          "data": {
            "text/plain": [
              "<IPython.core.display.Math object>"
            ],
            "text/latex": "$$\\frac{x^{6} + 2 x^{4} + 6 x - 5}{x^{3} + 3} = \\frac{x^{6} + 2 x^{4} + 6 x - 5}{x^{3} + 3}$$"
          },
          "metadata": {}
        },
        {
          "output_type": "display_data",
          "data": {
            "text/plain": [
              "<IPython.core.display.Math object>"
            ],
            "text/latex": "$$\\frac{x^{6} + 2 x^{4} + 6 x - 6}{x^{3} + 3} = \\frac{x^{6} + 2 x^{4} + 6 x - 6}{x^{3} + 3}$$"
          },
          "metadata": {}
        },
        {
          "output_type": "display_data",
          "data": {
            "text/plain": [
              "<IPython.core.display.Math object>"
            ],
            "text/latex": "$$\\frac{x^{6} + 2 x^{4} + 6 x - 7}{x^{3} + 3} = \\frac{x^{6} + 2 x^{4} + 6 x - 7}{x^{3} + 3}$$"
          },
          "metadata": {}
        },
        {
          "output_type": "display_data",
          "data": {
            "text/plain": [
              "<IPython.core.display.Math object>"
            ],
            "text/latex": "$$\\frac{x^{6} + 2 x^{4} + 6 x - 8}{x^{3} + 3} = \\frac{x^{6} + 2 x^{4} + 6 x - 8}{x^{3} + 3}$$"
          },
          "metadata": {}
        },
        {
          "output_type": "display_data",
          "data": {
            "text/plain": [
              "<IPython.core.display.Math object>"
            ],
            "text/latex": "$$\\frac{x^{6} + 2 x^{4} + 6 x - 9}{x^{3} + 3} = x^{3} + 2 x - 3$$"
          },
          "metadata": {}
        },
        {
          "output_type": "display_data",
          "data": {
            "text/plain": [
              "<IPython.core.display.Math object>"
            ],
            "text/latex": "$$\\frac{x^{6} + 2 x^{4} + 6 x - 10}{x^{3} + 3} = \\frac{x^{6} + 2 x^{4} + 6 x - 10}{x^{3} + 3}$$"
          },
          "metadata": {}
        },
        {
          "output_type": "display_data",
          "data": {
            "text/plain": [
              "<IPython.core.display.Math object>"
            ],
            "text/latex": "$$\\frac{x^{6} + 2 x^{4} + 6 x - 11}{x^{3} + 3} = \\frac{x^{6} + 2 x^{4} + 6 x - 11}{x^{3} + 3}$$"
          },
          "metadata": {}
        },
        {
          "output_type": "display_data",
          "data": {
            "text/plain": [
              "<IPython.core.display.Math object>"
            ],
            "text/latex": "$$\\frac{x^{6} + 2 x^{4} + 6 x - 12}{x^{3} + 3} = \\frac{x^{6} + 2 x^{4} + 6 x - 12}{x^{3} + 3}$$"
          },
          "metadata": {}
        },
        {
          "output_type": "display_data",
          "data": {
            "text/plain": [
              "<IPython.core.display.Math object>"
            ],
            "text/latex": "$$\\frac{x^{6} + 2 x^{4} + 6 x - 13}{x^{3} + 3} = \\frac{x^{6} + 2 x^{4} + 6 x - 13}{x^{3} + 3}$$"
          },
          "metadata": {}
        },
        {
          "output_type": "display_data",
          "data": {
            "text/plain": [
              "<IPython.core.display.Math object>"
            ],
            "text/latex": "$$\\frac{x^{6} + 2 x^{4} + 6 x - 14}{x^{3} + 3} = \\frac{x^{6} + 2 x^{4} + 6 x - 14}{x^{3} + 3}$$"
          },
          "metadata": {}
        },
        {
          "output_type": "display_data",
          "data": {
            "text/plain": [
              "<IPython.core.display.Math object>"
            ],
            "text/latex": "$$\\frac{x^{6} + 2 x^{4} + 6 x - 15}{x^{3} + 3} = \\frac{x^{6} + 2 x^{4} + 6 x - 15}{x^{3} + 3}$$"
          },
          "metadata": {}
        },
        {
          "output_type": "stream",
          "name": "stdout",
          "text": [
            "\n",
            "The answer that satisfies our goal is y = 9\n"
          ]
        }
      ]
    },
    {
      "cell_type": "code",
      "source": [
        "x, y = sym.symbols(\"x,y\")\n",
        "\n",
        "equation = x**2 + 4*x + 3\n",
        "display(Math('%s = %s' % (sym.latex(equation), sym.latex(sym.factor(equation)))))\n",
        "\n",
        "equation = x**2 + 4*x - 3\n",
        "display(Math('%s = %s' % (sym.latex(equation), sym.latex(sym.factor(equation)))))"
      ],
      "metadata": {
        "colab": {
          "base_uri": "https://localhost:8080/",
          "height": 60
        },
        "id": "81o4lw2KDyZq",
        "outputId": "282c5c7a-2e58-420d-f276-a4ed572539ce"
      },
      "execution_count": 63,
      "outputs": [
        {
          "output_type": "display_data",
          "data": {
            "text/plain": [
              "<IPython.core.display.Math object>"
            ],
            "text/latex": "$$x^{2} + 4 x + 3 = \\left(x + 1\\right) \\left(x + 3\\right)$$"
          },
          "metadata": {}
        },
        {
          "output_type": "display_data",
          "data": {
            "text/plain": [
              "<IPython.core.display.Math object>"
            ],
            "text/latex": "$$x^{2} + 4 x - 3 = x^{2} + 4 x - 3$$"
          },
          "metadata": {}
        }
      ]
    },
    {
      "cell_type": "code",
      "source": [
        "expr = 2*x**3*y - 2*x**2 + 2*x**2*y + 6*x**2 - 6*x*y + 6*x\n",
        "sym.factor(expr)"
      ],
      "metadata": {
        "colab": {
          "base_uri": "https://localhost:8080/",
          "height": 38
        },
        "id": "FnhQYGoIHzPC",
        "outputId": "d82de28e-7f8e-436b-b955-59a6e703eaa3"
      },
      "execution_count": 64,
      "outputs": [
        {
          "output_type": "execute_result",
          "data": {
            "text/plain": [
              "2*x*(x**2*y + x*y + 2*x - 3*y + 3)"
            ],
            "text/latex": "$\\displaystyle 2 x \\left(x^{2} y + x y + 2 x - 3 y + 3\\right)$"
          },
          "metadata": {},
          "execution_count": 64
        }
      ]
    },
    {
      "cell_type": "code",
      "source": [
        "expressions = [x**2 + 4*x + 3, 2*y**2 - 1, 3*y**2 + 12*y]\n",
        "\n",
        "\n",
        "for expr in expressions:\n",
        "  factor = sym.factor(expr)\n",
        "  factorable = \"(\" in str(factor)\n",
        "  if factorable:\n",
        "    display(Math('%s \\\\quad \\\\Rightarrow \\\\quad %s' % (sym.latex(expr), sym.latex(simplified))))\n",
        "  else:\n",
        "    display(Math('%s \\\\quad \\\\Rightarrow \\\\quad \\\\text{not factorable}' % (sym.latex(expr))))\n"
      ],
      "metadata": {
        "colab": {
          "base_uri": "https://localhost:8080/",
          "height": 81
        },
        "id": "RiBiX7A2IQpD",
        "outputId": "6f4206bc-19ee-41ee-acd3-8201f8f5763f"
      },
      "execution_count": 69,
      "outputs": [
        {
          "output_type": "display_data",
          "data": {
            "text/plain": [
              "<IPython.core.display.Math object>"
            ],
            "text/latex": "$$x^{2} + 4 x + 3 \\quad \\Rightarrow \\quad 3 y \\left(y + 4\\right)$$"
          },
          "metadata": {}
        },
        {
          "output_type": "display_data",
          "data": {
            "text/plain": [
              "<IPython.core.display.Math object>"
            ],
            "text/latex": "$$2 y^{2} - 1 \\quad \\Rightarrow \\quad \\text{not factorable}$$"
          },
          "metadata": {}
        },
        {
          "output_type": "display_data",
          "data": {
            "text/plain": [
              "<IPython.core.display.Math object>"
            ],
            "text/latex": "$$3 y^{2} + 12 y \\quad \\Rightarrow \\quad 3 y \\left(y + 4\\right)$$"
          },
          "metadata": {}
        }
      ]
    },
    {
      "cell_type": "markdown",
      "source": [
        "# **BUG HUNT!**"
      ],
      "metadata": {
        "id": "TCCNPEt-KOcK"
      }
    },
    {
      "cell_type": "code",
      "source": [
        "import sympy as sym\n",
        "\n",
        "\n",
        "x2 = sym.symbols(\"x2\")\n",
        "x2 = 4\n",
        "x2"
      ],
      "metadata": {
        "colab": {
          "base_uri": "https://localhost:8080/"
        },
        "id": "2967zGasJu9R",
        "outputId": "c13aad41-8e8e-4407-8bec-bc2708b3cfe4"
      },
      "execution_count": 99,
      "outputs": [
        {
          "output_type": "execute_result",
          "data": {
            "text/plain": [
              "4"
            ]
          },
          "metadata": {},
          "execution_count": 99
        }
      ]
    },
    {
      "cell_type": "code",
      "source": [
        "a, b, c = sym.symbols(\"a,b,c\")\n",
        "expr = 4*b + 5*a*a - c**3 + 5*d"
      ],
      "metadata": {
        "id": "wGh5t0PJKXWD"
      },
      "execution_count": 77,
      "outputs": []
    },
    {
      "cell_type": "code",
      "source": [
        "import math\n",
        "\n",
        "math.gcd(30, 50)"
      ],
      "metadata": {
        "colab": {
          "base_uri": "https://localhost:8080/"
        },
        "id": "vnghEdBmKiiE",
        "outputId": "afd8b59e-b963-4684-e5cf-9a973aee4cd4"
      },
      "execution_count": 79,
      "outputs": [
        {
          "output_type": "execute_result",
          "data": {
            "text/plain": [
              "10"
            ]
          },
          "metadata": {},
          "execution_count": 79
        }
      ]
    },
    {
      "cell_type": "code",
      "source": [
        "expr = 4*x - 8\n",
        "sym.solve(expr)"
      ],
      "metadata": {
        "colab": {
          "base_uri": "https://localhost:8080/"
        },
        "id": "buA--K3-KkWK",
        "outputId": "24b56b2c-b432-4c16-fc1d-537f48a4f388"
      },
      "execution_count": 81,
      "outputs": [
        {
          "output_type": "execute_result",
          "data": {
            "text/plain": [
              "[2]"
            ]
          },
          "metadata": {},
          "execution_count": 81
        }
      ]
    },
    {
      "cell_type": "code",
      "source": [
        "import numpy as np\n",
        "\n",
        "\n",
        "A = np.array([[1, 2], [3, 4]])\n",
        "# make it look nice\n",
        "display(Math(sym.latex(sym.sympify(A))))"
      ],
      "metadata": {
        "colab": {
          "base_uri": "https://localhost:8080/",
          "height": 58
        },
        "id": "b04XUKeGKknc",
        "outputId": "98640f69-4e08-4942-e23e-014441c91b5f"
      },
      "execution_count": 84,
      "outputs": [
        {
          "output_type": "display_data",
          "data": {
            "text/plain": [
              "<IPython.core.display.Math object>"
            ],
            "text/latex": "$$\\left[\\begin{matrix}1 & 2\\\\3 & 4\\end{matrix}\\right]$$"
          },
          "metadata": {}
        }
      ]
    },
    {
      "cell_type": "code",
      "source": [
        "fact_dict = sym.factorint(44)\n",
        "allkeys = fact_dict.keys()\n",
        "\n",
        "keys = list(allkeys)\n",
        "for i in range(0, len(keys)):\n",
        "  print('%g was present %g times.' % (i, keys[i]))"
      ],
      "metadata": {
        "colab": {
          "base_uri": "https://localhost:8080/"
        },
        "id": "p1hdVIdCKkrE",
        "outputId": "a2f6cab5-cd25-4b5e-d7d9-d330e030dd58"
      },
      "execution_count": 86,
      "outputs": [
        {
          "output_type": "stream",
          "name": "stdout",
          "text": [
            "0 was present 2 times.\n",
            "1 was present 11 times.\n"
          ]
        }
      ]
    },
    {
      "cell_type": "code",
      "source": [
        "x, y = sym.symbols(\"x,y\")\n",
        "\n",
        "expr = 4*x - 5*y**2\n",
        "expr.subs({x: 5})"
      ],
      "metadata": {
        "colab": {
          "base_uri": "https://localhost:8080/",
          "height": 38
        },
        "id": "osNn6vbJKkue",
        "outputId": "d3f5def1-7de6-44cd-9885-9f3fd6cc104f"
      },
      "execution_count": 88,
      "outputs": [
        {
          "output_type": "execute_result",
          "data": {
            "text/plain": [
              "20 - 5*y**2"
            ],
            "text/latex": "$\\displaystyle 20 - 5 y^{2}$"
          },
          "metadata": {},
          "execution_count": 88
        }
      ]
    },
    {
      "cell_type": "code",
      "source": [
        "# goal is to show a fraction\n",
        "\n",
        "f = sym.sympify(5)/9\n",
        "display(Math(sym.latex(f)))"
      ],
      "metadata": {
        "colab": {
          "base_uri": "https://localhost:8080/",
          "height": 38
        },
        "id": "iorE5m4bLD_l",
        "outputId": "7faf93bf-6f14-40f8-d564-cf267b4fc9d1"
      },
      "execution_count": 91,
      "outputs": [
        {
          "output_type": "display_data",
          "data": {
            "text/plain": [
              "<IPython.core.display.Math object>"
            ],
            "text/latex": "$$\\frac{5}{9}$$"
          },
          "metadata": {}
        }
      ]
    },
    {
      "cell_type": "code",
      "source": [
        "# print the last 3 items from a list\n",
        "lst = [1, 3, 2, 5, 4, 6, 7, 5, 3, 7]\n",
        "lst[-3:]"
      ],
      "metadata": {
        "colab": {
          "base_uri": "https://localhost:8080/"
        },
        "id": "EHwpeJm2LI5F",
        "outputId": "770c535d-0cac-4136-f3fc-9dc61af8ae89"
      },
      "execution_count": 100,
      "outputs": [
        {
          "output_type": "execute_result",
          "data": {
            "text/plain": [
              "[5, 3, 7]"
            ]
          },
          "metadata": {},
          "execution_count": 100
        }
      ]
    },
    {
      "cell_type": "code",
      "source": [
        "from sympy.abc import x, y\n",
        "\n",
        "expr = 2*x + 4*y\n",
        "\n",
        "# solve for y\n",
        "sym.solve(expr, y)[0]"
      ],
      "metadata": {
        "colab": {
          "base_uri": "https://localhost:8080/",
          "height": 47
        },
        "id": "YMgAE2EdLOYD",
        "outputId": "278ce445-9823-450e-c125-401fbd4c2a67"
      },
      "execution_count": 98,
      "outputs": [
        {
          "output_type": "execute_result",
          "data": {
            "text/plain": [
              "-x/2"
            ],
            "text/latex": "$\\displaystyle - \\frac{x}{2}$"
          },
          "metadata": {},
          "execution_count": 98
        }
      ]
    },
    {
      "cell_type": "code",
      "source": [
        "import numpy as np\n",
        "\n",
        "\n",
        "A = np.array([[1, 2], [3, 4]])\n",
        "\n",
        "# set the element in the second row, second column to 9\n",
        "A[1, 1] = 9\n",
        "display(Math(sym.latex(sym.sympify(A))))"
      ],
      "metadata": {
        "colab": {
          "base_uri": "https://localhost:8080/",
          "height": 58
        },
        "id": "uZarBmPhNDEX",
        "outputId": "b47ad933-2b28-40b2-cba7-3b6e5ee89eda"
      },
      "execution_count": 103,
      "outputs": [
        {
          "output_type": "display_data",
          "data": {
            "text/plain": [
              "<IPython.core.display.Math object>"
            ],
            "text/latex": "$$\\left[\\begin{matrix}1 & 2\\\\3 & 9\\end{matrix}\\right]$$"
          },
          "metadata": {}
        }
      ]
    },
    {
      "cell_type": "code",
      "source": [
        ""
      ],
      "metadata": {
        "id": "PpTCxmyJNOsj"
      },
      "execution_count": null,
      "outputs": []
    }
  ]
}