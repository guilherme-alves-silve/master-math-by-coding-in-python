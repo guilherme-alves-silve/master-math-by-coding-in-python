{
  "cells": [
    {
      "cell_type": "markdown",
      "metadata": {
        "id": "0dfyy8snKJRX"
      },
      "source": [
        "# Algebra BUG HUNT!"
      ]
    },
    {
      "cell_type": "code",
      "execution_count": 2,
      "metadata": {
        "colab": {
          "base_uri": "https://localhost:8080/"
        },
        "id": "EGItwEL_KJRb",
        "outputId": "41af7f52-33ec-41a9-d70d-b380064e9574"
      },
      "outputs": [
        {
          "output_type": "stream",
          "name": "stdout",
          "text": [
            "[1, 3, 4, 1, 6]\n"
          ]
        }
      ],
      "source": [
        "# create a list\n",
        "lst = [1, 3, 4, 1, 6]\n",
        "\n",
        "print( lst )"
      ]
    },
    {
      "cell_type": "code",
      "execution_count": 4,
      "metadata": {
        "colab": {
          "base_uri": "https://localhost:8080/"
        },
        "id": "ph2wWFq5KJRd",
        "outputId": "d0a29b7e-b21b-4343-b3e0-62a04891c0a7"
      },
      "outputs": [
        {
          "output_type": "stream",
          "name": "stdout",
          "text": [
            "15\n"
          ]
        }
      ],
      "source": [
        "# add all the numbers together\n",
        "import numpy as np\n",
        "\n",
        "print( np.sum(lst) )"
      ]
    },
    {
      "cell_type": "code",
      "execution_count": 6,
      "metadata": {
        "colab": {
          "base_uri": "https://localhost:8080/",
          "height": 265
        },
        "id": "RgGZVuLFKJRd",
        "outputId": "0a48a052-19e9-49e4-f2d0-3a0089fb1822"
      },
      "outputs": [
        {
          "output_type": "display_data",
          "data": {
            "text/plain": [
              "<Figure size 432x288 with 1 Axes>"
            ],
            "image/png": "[encoded data removed]"
          },
          "metadata": {
            "needs_background": "light"
          }
        }
      ],
      "source": [
        "# plot the cumulative sum of a list of numbers\n",
        "import matplotlib.pyplot as plt\n",
        "\n",
        "l = np.arange(-4,10)\n",
        "\n",
        "plt.plot(l,'rs-')\n",
        "plt.plot(np.cumsum(1),'bo-')\n",
        "plt.legend({'list','cumsum'})\n",
        "plt.show()"
      ]
    },
    {
      "cell_type": "code",
      "execution_count": 8,
      "metadata": {
        "colab": {
          "base_uri": "https://localhost:8080/",
          "height": 38
        },
        "id": "G-KysqRLKJRe",
        "outputId": "4d95cb93-c5de-4a4c-b67c-6336b4a7bdfc"
      },
      "outputs": [
        {
          "output_type": "display_data",
          "data": {
            "text/plain": [
              "<IPython.core.display.Math object>"
            ],
            "text/latex": "$\\displaystyle \\operatorname{Poly}{\\left( 4 x^{2} - 2 x + 5, x, domain=\\mathbb{Z} \\right)}$"
          },
          "metadata": {}
        }
      ],
      "source": [
        "### the equation:\n",
        "# 4 - 2x + 5x^3\n",
        "import sympy as sym\n",
        "from sympy.abc import x\n",
        "from IPython.display import Math\n",
        "\n",
        "fx = 4 - 2*x + 5*x**3\n",
        "\n",
        "# define the coefficients\n",
        "coefs = [4, -2, 5]\n",
        "\n",
        "# solve\n",
        "roots = np.roots(coefs)\n",
        "\n",
        "# and display\n",
        "\n",
        "p = sym.Poly(coefs, x)\n",
        "\n",
        "display(Math(sym.latex(p)))"
      ]
    },
    {
      "cell_type": "code",
      "execution_count": 10,
      "metadata": {
        "colab": {
          "base_uri": "https://localhost:8080/"
        },
        "id": "TNvQBe8PKJRe",
        "outputId": "cf26278e-dbc5-4ad9-9ab4-780bee11e988"
      },
      "outputs": [
        {
          "output_type": "stream",
          "name": "stdout",
          "text": [
            "[-3.41421356 -0.58578644]\n"
          ]
        }
      ],
      "source": [
        "def quadeq(a,b,c):\n",
        "    \n",
        "    out = np.zeros(2)\n",
        "    # compute\n",
        "    out[0] = ( -b - np.sqrt(b**2 - 4*a*c) ) / (2*a)\n",
        "    out[1] = ( -b + np.sqrt(b**2 - 4*a*c) ) / (2*a)\n",
        "    \n",
        "    # output\n",
        "    return out\n",
        "\n",
        "# test the function\n",
        "print(quadeq(1,4,2))"
      ]
    },
    {
      "cell_type": "code",
      "execution_count": 17,
      "metadata": {
        "colab": {
          "base_uri": "https://localhost:8080/",
          "height": 269
        },
        "id": "3zp28YYmKJRf",
        "outputId": "d054c4aa-6a42-4111-b281-0b4fe60bbe4b"
      },
      "outputs": [
        {
          "output_type": "display_data",
          "data": {
            "text/plain": [
              "<Figure size 432x288 with 1 Axes>"
            ],
            "image/png": "[encoded data removed]"
          },
          "metadata": {
            "needs_background": "light"
          }
        }
      ],
      "source": [
        "# create a complex number\n",
        "\n",
        "real_part = 4\n",
        "imag_part = -6\n",
        "\n",
        "cn = complex(real_part, imag_part)\n",
        "\n",
        "plt.plot(np.real(cn), np.imag(cn), 'ro')\n",
        "plt.grid('on')\n",
        "plt.axis('square')\n",
        "plt.axis([-10, 10, -10, 10])\n",
        "plt.show()"
      ]
    },
    {
      "cell_type": "code",
      "execution_count": 19,
      "metadata": {
        "colab": {
          "base_uri": "https://localhost:8080/",
          "height": 38
        },
        "id": "vNMX2MBNKJRf",
        "outputId": "643469af-b3e7-4abf-af9d-8ad937ce45e2"
      },
      "outputs": [
        {
          "output_type": "display_data",
          "data": {
            "text/plain": [
              "<IPython.core.display.Math object>"
            ],
            "text/latex": "$\\displaystyle z\\times z^* = a^{2} + b^{2}$"
          },
          "metadata": {}
        }
      ],
      "source": [
        "# symbolic complex number\n",
        "a, b = sym.symbols('a,b', real=True)\n",
        "\n",
        "z = a + b*sym.I\n",
        "display(Math('z\\\\times z^* = %s' % sym.latex(sym.expand(z*sym.conjugate(z)))))"
      ]
    },
    {
      "cell_type": "code",
      "execution_count": 25,
      "metadata": {
        "colab": {
          "base_uri": "https://localhost:8080/",
          "height": 279
        },
        "id": "X8masvQyKJRg",
        "outputId": "a3ecd356-71ce-4bf5-a5f1-0fdf252e8e11"
      },
      "outputs": [
        {
          "output_type": "display_data",
          "data": {
            "text/plain": [
              "<Figure size 432x288 with 1 Axes>"
            ],
            "image/png": "[encoded data removed]"
          },
          "metadata": {
            "needs_background": "light"
          }
        }
      ],
      "source": [
        "# define the phase angles\n",
        "x = np.linspace(0, 2*np.pi, 100)\n",
        "\n",
        "# generate the plot\n",
        "plt.plot(np.cos(x), np.sin(x),'k')\n",
        "\n",
        "# draw one vector from the origin\n",
        "phs = 1*np.pi/4\n",
        "plt.plot([0,np.cos(phs)], [0,np.sin(phs)],'r-')\n",
        "plt.plot(np.cos(phs), np.sin(phs),'ro')\n",
        "\n",
        "# draw axis lines\n",
        "plt.plot([-1.3,1.3],[0,0],'--',color=[.8,.8,.8])\n",
        "plt.plot([0,0],[-1.3,1.3],'--',color=[.8,.8,.8])\n",
        "\n",
        "# make it look nicer\n",
        "plt.axis('square')\n",
        "plt.axis([-1.3, 1.3, -1.3, 1.3])\n",
        "plt.xlabel('cosine(x)')\n",
        "plt.ylabel('sine(x)')\n",
        "plt.plot()\n",
        "\n",
        "plt.show()"
      ]
    },
    {
      "cell_type": "code",
      "execution_count": 31,
      "metadata": {
        "colab": {
          "base_uri": "https://localhost:8080/",
          "height": 265
        },
        "id": "hOfIm-BMKJRh",
        "outputId": "7f4275b4-f906-44d6-c224-df2a739a84ec"
      },
      "outputs": [
        {
          "output_type": "display_data",
          "data": {
            "text/plain": [
              "<Figure size 432x288 with 1 Axes>"
            ],
            "image/png": "[encoded data removed]"
          },
          "metadata": {
            "needs_background": "light"
          }
        }
      ],
      "source": [
        "a =   2 # lower bound\n",
        "b = 100 # upper bound\n",
        "n =   3 # number of steps\n",
        "\n",
        "lo = np.logspace(np.log10(a), np.log10(b), n)\n",
        "li = np.linspace(a, b, n)\n",
        "\n",
        "plt.plot(li, lo, 's-', label='log')\n",
        "plt.plot(li, li, 'o-', label='linear')\n",
        "\n",
        "plt.legend()\n",
        "plt.axis('square')\n",
        "plt.show()"
      ]
    },
    {
      "cell_type": "code",
      "execution_count": 38,
      "metadata": {
        "colab": {
          "base_uri": "https://localhost:8080/",
          "height": 281
        },
        "id": "MQB2URN0KJRh",
        "outputId": "0b7e5cef-650b-4bca-c52e-213029699797"
      },
      "outputs": [
        {
          "output_type": "display_data",
          "data": {
            "text/plain": [
              "<Figure size 432x288 with 1 Axes>"
            ],
            "image/png": "[encoded data removed]"
          },
          "metadata": {
            "needs_background": "light"
          }
        }
      ],
      "source": [
        "## Goal is to plot the point on the function closest to f(x)=.5\n",
        "\n",
        "# x range\n",
        "x = np.linspace(-6, 10, 20)\n",
        "\n",
        "# the function f(x)\n",
        "fx = 1/(1+np.exp(x))\n",
        "\n",
        "# function maximum\n",
        "fmaxidx = np.argmin(abs(fx-.5))\n",
        "\n",
        "# draw the function\n",
        "plt.plot(x, fx, 'bo-')\n",
        "plt.plot(x[fmaxidx], fx[fmaxidx],'rs')\n",
        "\n",
        "plt.title(\"Reverse sigmoid function\")\n",
        "plt.show()"
      ]
    },
    {
      "cell_type": "code",
      "execution_count": 46,
      "metadata": {
        "colab": {
          "base_uri": "https://localhost:8080/",
          "height": 265
        },
        "id": "XTLBS9qJKJRi",
        "outputId": "8e950745-783d-4d67-b306-1289b04a4158"
      },
      "outputs": [
        {
          "output_type": "display_data",
          "data": {
            "text/plain": [
              "<Figure size 432x288 with 1 Axes>"
            ],
            "image/png": "[encoded data removed]"
          },
          "metadata": {
            "needs_background": "light"
          }
        }
      ],
      "source": [
        "## Goal is to find the local minima by adding one character\n",
        "\n",
        "from scipy.signal import find_peaks\n",
        "\n",
        "# x range\n",
        "x = np.linspace(0, 12*np.pi, 200)\n",
        "\n",
        "# the function f(x)\n",
        "fx = -( np.cos(x) + x**(1/2) )\n",
        "\n",
        "# find peaks\n",
        "peeks = find_peaks(-fx)\n",
        "\n",
        "# draw the function\n",
        "plt.plot(x, fx)\n",
        "plt.plot(x[peeks[0]], fx[peeks[0]], 'o')\n",
        "plt.show()"
      ]
    },
    {
      "cell_type": "code",
      "source": [],
      "metadata": {
        "id": "59AfPlb1L-0o"
      },
      "execution_count": null,
      "outputs": []
    }
  ],
  "metadata": {
    "kernelspec": {
      "display_name": "Python 3",
      "language": "python",
      "name": "python3"
    },
    "language_info": {
      "codemirror_mode": {
        "name": "ipython",
        "version": 3
      },
      "file_extension": ".py",
      "mimetype": "text/x-python",
      "name": "python",
      "nbconvert_exporter": "python",
      "pygments_lexer": "ipython3",
      "version": "3.7.3"
    },
    "colab": {
      "provenance": [],
      "collapsed_sections": []
    }
  },
  "nbformat": 4,
  "nbformat_minor": 0
}